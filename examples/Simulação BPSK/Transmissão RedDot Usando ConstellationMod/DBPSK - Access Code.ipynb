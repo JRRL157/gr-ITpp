{
 "cells": [
  {
   "cell_type": "code",
   "execution_count": 1,
   "metadata": {},
   "outputs": [],
   "source": [
    "%matplotlib inline\n",
    "import matplotlib.pyplot as plt\n",
    "from import_me import *"
   ]
  },
  {
   "cell_type": "code",
   "execution_count": 2,
   "metadata": {},
   "outputs": [
    {
     "data": {
      "text/plain": [
       "<matplotlib.image.AxesImage at 0x7f558716c7b8>"
      ]
     },
     "execution_count": 2,
     "metadata": {},
     "output_type": "execute_result"
    },
    {
     "data": {
      "image/png": "[encoded data removed]",
      "text/plain": [
       "<Figure size 432x288 with 1 Axes>"
      ]
     },
     "metadata": {},
     "output_type": "display_data"
    }
   ],
   "source": [
    "array = readSave(readfileName = \"output.data\")\n",
    "plt.imshow(plt.imread(\"output.bmp\"))"
   ]
  },
  {
   "cell_type": "code",
   "execution_count": 3,
   "metadata": {},
   "outputs": [],
   "source": [
    "with open(\"output.data\", \"rb\") as f:\n",
    "    b = f.read()\n",
    "rcv = np.frombuffer(b, dtype = np.uint8)"
   ]
  },
  {
   "cell_type": "code",
   "execution_count": 4,
   "metadata": {},
   "outputs": [],
   "source": [
    "rcv = rcv[122:]"
   ]
  },
  {
   "cell_type": "code",
   "execution_count": 5,
   "metadata": {},
   "outputs": [
    {
     "data": {
      "text/plain": [
       "array([176933, 176934])"
      ]
     },
     "execution_count": 5,
     "metadata": {},
     "output_type": "execute_result"
    }
   ],
   "source": [
    "search_sequence_numpy(rcv, np.array([66, 77]))"
   ]
  },
  {
   "cell_type": "code",
   "execution_count": 6,
   "metadata": {},
   "outputs": [
    {
     "data": {
      "text/plain": [
       "array([ 38, 255,   0, ...,  11,  11,  11], dtype=uint8)"
      ]
     },
     "execution_count": 6,
     "metadata": {},
     "output_type": "execute_result"
    }
   ],
   "source": [
    "rcv[196608//2 :]"
   ]
  },
  {
   "cell_type": "code",
   "execution_count": 7,
   "metadata": {},
   "outputs": [
    {
     "data": {
      "text/plain": [
       "True"
      ]
     },
     "execution_count": 7,
     "metadata": {},
     "output_type": "execute_result"
    }
   ],
   "source": [
    "array.shape[0] == 256 * 256 * 3 + 122"
   ]
  },
  {
   "cell_type": "code",
   "execution_count": 8,
   "metadata": {},
   "outputs": [],
   "source": [
    "with open(\"red_dot.bmp\", \"rb\")as f:\n",
    "    _ = f.read()\n",
    "orig = np.frombuffer(_, dtype = np.uint8)"
   ]
  },
  {
   "cell_type": "code",
   "execution_count": 9,
   "metadata": {},
   "outputs": [
    {
     "data": {
      "text/plain": [
       "array([ 66,  77, 122, ...,  72,  72,  72], dtype=uint8)"
      ]
     },
     "execution_count": 9,
     "metadata": {},
     "output_type": "execute_result"
    }
   ],
   "source": [
    "orig"
   ]
  },
  {
   "cell_type": "code",
   "execution_count": 10,
   "metadata": {},
   "outputs": [
    {
     "data": {
      "text/plain": [
       "array([ 66,  77, 122, ...,  72,  72,  72], dtype=uint8)"
      ]
     },
     "execution_count": 10,
     "metadata": {},
     "output_type": "execute_result"
    }
   ],
   "source": [
    "array"
   ]
  },
  {
   "cell_type": "code",
   "execution_count": 11,
   "metadata": {},
   "outputs": [
    {
     "data": {
      "text/plain": [
       "196576"
      ]
     },
     "execution_count": 11,
     "metadata": {},
     "output_type": "execute_result"
    }
   ],
   "source": [
    "np.sum(np.equal(orig, array))"
   ]
  },
  {
   "cell_type": "code",
   "execution_count": 12,
   "metadata": {},
   "outputs": [],
   "source": [
    "#sem hamming: 196606, 196576"
   ]
  },
  {
   "cell_type": "code",
   "execution_count": 13,
   "metadata": {},
   "outputs": [],
   "source": [
    "#com hamming: 196629, 196639"
   ]
  },
  {
   "cell_type": "code",
   "execution_count": 14,
   "metadata": {},
   "outputs": [
    {
     "data": {
      "text/plain": [
       "154"
      ]
     },
     "execution_count": 14,
     "metadata": {},
     "output_type": "execute_result"
    }
   ],
   "source": [
    "len(np.nonzero(orig - array)[0])"
   ]
  },
  {
   "cell_type": "code",
   "execution_count": 15,
   "metadata": {},
   "outputs": [
    {
     "data": {
      "text/plain": [
       "(10, 58)"
      ]
     },
     "execution_count": 15,
     "metadata": {},
     "output_type": "execute_result"
    }
   ],
   "source": [
    "x = 0\n",
    "orig[np.nonzero(orig - array)[0][x]], array[np.nonzero(orig - array)[0][x]]"
   ]
  },
  {
   "cell_type": "code",
   "execution_count": 16,
   "metadata": {},
   "outputs": [
    {
     "data": {
      "text/plain": [
       "(array([   1914,    1915,    3040,    3041,    6146,    6147,   13830,\n",
       "          13831,   29488,   29489,   32095,   43071,   50192,   50193,\n",
       "          51346,   51347,   77100,   77101,   99608,   99609,  114324,\n",
       "         114325,  118259,  118260,  125690,  125691,  128472,  128473,\n",
       "         135930,  135931,  136272,  136273,  140680,  140681,  160346,\n",
       "         160347,  164530,  164531,  169938,  169939,  172554,  172555,\n",
       "         179190,  179191,  181307,  181308,  187032,  187033,  187568,\n",
       "         187569,  191568,  191569,  209082,  209083,  235998,  235999,\n",
       "         240528,  240529,  240768,  240769,  251146,  251147,  252738,\n",
       "         252739,  257088,  257089,  260488,  260489,  279546,  279547,\n",
       "         281338,  281339,  294128,  294129,  298391,  298392,  305196,\n",
       "         305197,  336580,  336581,  342174,  342175,  347104,  347105,\n",
       "         348267,  348268,  360771,  360772,  378171,  378172,  402960,\n",
       "         402961,  420502,  420503,  424084,  424085,  424156,  424157,\n",
       "         436164,  436165,  436724,  436725,  447577,  447578,  447801,\n",
       "         447802,  459579,  459580,  467277,  467278,  501727,  513843,\n",
       "         513844,  537675,  537676,  548024,  548025,  571000,  571001,\n",
       "         590405,  590406,  592371,  592372,  606547,  606548,  617520,\n",
       "         617521,  630507,  630508,  642339,  642340,  652520,  652521,\n",
       "         663356,  663357,  709363,  709364,  714549,  714550,  722464,\n",
       "         722465,  731051,  731052,  764416,  764417,  769065,  769066,\n",
       "         772443,  772444,  773235,  773236,  803827,  803828,  811105,\n",
       "         811106,  819021,  819022,  826947,  826948,  840675,  840676,\n",
       "         855936,  855937,  865672,  865673,  884379,  884380,  896750,\n",
       "         896751,  900411,  900412,  913289,  913290,  919006,  919007,\n",
       "         937720,  937721,  956392,  956393,  964297,  964298,  984455,\n",
       "         984456,  998128,  998129, 1022431, 1022683, 1022684, 1026780,\n",
       "        1026781, 1034493, 1034494, 1037928, 1037929, 1050515, 1050516,\n",
       "        1060827, 1060828, 1092315, 1092316, 1095124, 1095125, 1095424,\n",
       "        1095425, 1123270, 1123271, 1140463, 1154750, 1154751, 1161768,\n",
       "        1161769, 1163596, 1163597, 1166368, 1166369, 1176318, 1176319,\n",
       "        1188934, 1188935, 1203200, 1203201, 1204246, 1204247, 1208872,\n",
       "        1208873, 1221680, 1221681, 1223352, 1223353, 1231080, 1231081,\n",
       "        1248971, 1248972, 1250857, 1250858, 1258251, 1258252, 1266104,\n",
       "        1266105, 1279472, 1279473, 1303399, 1303400, 1306810, 1306811,\n",
       "        1320400, 1320401, 1335760, 1335761, 1336240, 1336241, 1344256,\n",
       "        1344257, 1346357, 1346358, 1349536, 1349537, 1371909, 1371910,\n",
       "        1391824, 1391825, 1396123, 1396124, 1408712, 1408713, 1416352,\n",
       "        1416353, 1421648, 1421649, 1423504, 1423505, 1429200, 1429201,\n",
       "        1451174, 1451175, 1458452, 1458453, 1462152, 1462153, 1506342,\n",
       "        1506343, 1511926, 1511927, 1524392, 1524393, 1547224, 1547225,\n",
       "        1564751, 1568034, 1568035, 1569293, 1569294, 1571526, 1571527,\n",
       "        1571583]),)"
      ]
     },
     "execution_count": 16,
     "metadata": {},
     "output_type": "execute_result"
    }
   ],
   "source": [
    "np.nonzero(np.unpackbits(orig) - np.unpackbits(array))"
   ]
  },
  {
   "cell_type": "code",
   "execution_count": 17,
   "metadata": {},
   "outputs": [
    {
     "data": {
      "text/plain": [
       "array([0, 0, 0, ..., 0, 0, 0], dtype=uint8)"
      ]
     },
     "execution_count": 17,
     "metadata": {},
     "output_type": "execute_result"
    }
   ],
   "source": [
    "(np.unpackbits(orig) - np.unpackbits(array))"
   ]
  },
  {
   "cell_type": "code",
   "execution_count": null,
   "metadata": {},
   "outputs": [],
   "source": []
  }
 ],
 "metadata": {
  "kernelspec": {
   "display_name": "Python 3",
   "language": "python",
   "name": "python3"
  },
  "language_info": {
   "codemirror_mode": {
    "name": "ipython",
    "version": 3
   },
   "file_extension": ".py",
   "mimetype": "text/x-python",
   "name": "python",
   "nbconvert_exporter": "python",
   "pygments_lexer": "ipython3",
   "version": "3.6.7"
  }
 },
 "nbformat": 4,
 "nbformat_minor": 2
}
