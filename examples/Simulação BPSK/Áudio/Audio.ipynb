{
 "cells": [
  {
   "cell_type": "markdown",
   "metadata": {},
   "source": [
    "Com problemas quando tem ruído, usar stream mux??"
   ]
  },
  {
   "cell_type": "code",
   "execution_count": null,
   "metadata": {},
   "outputs": [],
   "source": []
  },
  {
   "cell_type": "code",
   "execution_count": null,
   "metadata": {},
   "outputs": [],
   "source": []
  },
  {
   "cell_type": "code",
   "execution_count": 1,
   "metadata": {},
   "outputs": [],
   "source": [
    "from scipy.io import wavfile\n",
    "fs, data = wavfile.read(\"song.wav\")"
   ]
  },
  {
   "cell_type": "code",
   "execution_count": null,
   "metadata": {},
   "outputs": [],
   "source": []
  },
  {
   "cell_type": "code",
   "execution_count": 2,
   "metadata": {},
   "outputs": [],
   "source": [
    "with open(\"song.wav\", \"rb\")as f:\n",
    "    _ = f.read()"
   ]
  },
  {
   "cell_type": "code",
   "execution_count": 3,
   "metadata": {},
   "outputs": [
    {
     "data": {
      "text/plain": [
       "(4454100, 2)"
      ]
     },
     "execution_count": 3,
     "metadata": {},
     "output_type": "execute_result"
    }
   ],
   "source": [
    "data.shape"
   ]
  },
  {
   "cell_type": "code",
   "execution_count": 4,
   "metadata": {},
   "outputs": [
    {
     "data": {
      "text/plain": [
       "dtype('int16')"
      ]
     },
     "execution_count": 4,
     "metadata": {},
     "output_type": "execute_result"
    }
   ],
   "source": [
    "data.dtype"
   ]
  },
  {
   "cell_type": "code",
   "execution_count": 5,
   "metadata": {},
   "outputs": [],
   "source": [
    "#data2 = data[:4454100//8].ravel()"
   ]
  },
  {
   "cell_type": "code",
   "execution_count": 6,
   "metadata": {},
   "outputs": [],
   "source": [
    "eightBit = np.array(((data[:len(data)//8] + 32768)) >> 8, dtype = np.uint8)"
   ]
  },
  {
   "cell_type": "code",
   "execution_count": 7,
   "metadata": {},
   "outputs": [],
   "source": [
    "wavfile.write(\"reduced.wav\", fs , eightBit)"
   ]
  },
  {
   "cell_type": "code",
   "execution_count": null,
   "metadata": {},
   "outputs": [],
   "source": []
  },
  {
   "cell_type": "code",
   "execution_count": null,
   "metadata": {},
   "outputs": [],
   "source": []
  },
  {
   "cell_type": "code",
   "execution_count": 8,
   "metadata": {},
   "outputs": [
    {
     "data": {
      "text/plain": [
       "array([171,   6,  59, 217,  74,  70, 120, 176,   9, 238, 214,  40, 157,\n",
       "       244, 103, 118, 136,  58,  80, 176,  43, 143, 228, 184,  73, 206,\n",
       "       130, 201,  36, 103,  49,  95,  54, 145, 185, 242, 170, 246, 134,\n",
       "       234,  41,  75, 246,  54, 144, 138, 230,  65, 158,  43, 251,   8,\n",
       "       109,  46, 226, 204,  52, 195, 152, 205,  31, 201, 232, 136,  79,\n",
       "         0, 217,  90, 243, 105,  56,  85,  59, 248, 181, 200, 155, 233,\n",
       "       135,  28, 225,  86, 213, 150, 130, 232,   4,  43, 130, 239,   6,\n",
       "       186, 254,  57,  18,  92,  41, 115, 210,  50], dtype=uint8)"
      ]
     },
     "execution_count": 8,
     "metadata": {},
     "output_type": "execute_result"
    }
   ],
   "source": [
    "prefix = np.random.randint(0, 256, 100, dtype = np.uint8)\n",
    "prefix"
   ]
  },
  {
   "cell_type": "code",
   "execution_count": null,
   "metadata": {},
   "outputs": [],
   "source": []
  },
  {
   "cell_type": "code",
   "execution_count": 9,
   "metadata": {},
   "outputs": [],
   "source": [
    "with open(\"prefixData.data\", \"wb\") as f:\n",
    "    f.write(prefix)\n",
    "    f.write(eightBit)"
   ]
  },
  {
   "cell_type": "code",
   "execution_count": 10,
   "metadata": {},
   "outputs": [],
   "source": [
    "with open(\"output.data\", \"rb\") as f:\n",
    "    _ = f.read()\n",
    "\n",
    "rcv = np.frombuffer(_, np.uint8)"
   ]
  },
  {
   "cell_type": "code",
   "execution_count": 11,
   "metadata": {},
   "outputs": [
    {
     "data": {
      "text/plain": [
       "array([248,   7, 248, ...,  31, 224,  31], dtype=uint8)"
      ]
     },
     "execution_count": 11,
     "metadata": {},
     "output_type": "execute_result"
    }
   ],
   "source": [
    "rcv"
   ]
  },
  {
   "cell_type": "code",
   "execution_count": 12,
   "metadata": {},
   "outputs": [],
   "source": [
    "def find_subsequence(seq, subseq):\n",
    "    target = np.dot(subseq, subseq)\n",
    "    candidates = np.where(np.correlate(seq,subseq, mode='valid') == target)[0]\n",
    "    # some of the candidates entries may be false positives, double check\n",
    "    check = candidates[:, np.newaxis] + np.arange(len(subseq))\n",
    "    mask = np.all((np.take(seq, check) == subseq), axis=-1)\n",
    "    return candidates[mask]"
   ]
  },
  {
   "cell_type": "code",
   "execution_count": 13,
   "metadata": {},
   "outputs": [
    {
     "data": {
      "text/plain": [
       "array([8017378])"
      ]
     },
     "execution_count": 13,
     "metadata": {},
     "output_type": "execute_result"
    }
   ],
   "source": [
    "find_subsequence(np.unpackbits(rcv), np.unpackbits(prefix)[:18])"
   ]
  },
  {
   "cell_type": "code",
   "execution_count": 14,
   "metadata": {},
   "outputs": [],
   "source": [
    "rcv2 = np.roll(np.packbits(np.roll(np.unpackbits(rcv), -8017378 )), 0)"
   ]
  },
  {
   "cell_type": "code",
   "execution_count": 15,
   "metadata": {},
   "outputs": [],
   "source": [
    "final_data = rcv2[len(prefix):].reshape(-1, 2)"
   ]
  },
  {
   "cell_type": "code",
   "execution_count": 53,
   "metadata": {},
   "outputs": [
    {
     "data": {
      "text/plain": [
       "0.5660910766180163"
      ]
     },
     "execution_count": 53,
     "metadata": {},
     "output_type": "execute_result"
    }
   ],
   "source": [
    "np.mean(np.equal(eightBit.ravel(), final_data.ravel()))"
   ]
  },
  {
   "cell_type": "code",
   "execution_count": 33,
   "metadata": {},
   "outputs": [
    {
     "data": {
      "text/plain": [
       "array([103, 111, 101, 113, 101, 115, 100, 116,  98, 118,  97, 119,  96,\n",
       "       120,  96, 121,  95, 121,  95, 121,  96, 121,  97, 121,  98, 120,\n",
       "        98, 120,  99, 120,  99, 120,  99, 119,  99, 119,  99, 118, 100,\n",
       "       118, 101, 118, 102, 118, 103, 118, 104, 118, 105, 119, 105, 121,\n",
       "       104, 122, 104, 124, 103, 126, 102, 128, 102, 130, 101, 131, 101,\n",
       "       132, 100, 132, 100, 132, 100, 132, 100, 132, 101, 132, 102, 132,\n",
       "       103, 132, 105, 132, 106, 132, 107, 133, 108, 134, 109, 134, 109,\n",
       "       135, 109, 136, 110, 136, 110, 137, 111, 138], dtype=uint8)"
      ]
     },
     "execution_count": 33,
     "metadata": {},
     "output_type": "execute_result"
    }
   ],
   "source": [
    "eightBit.ravel()[-100:]"
   ]
  },
  {
   "cell_type": "code",
   "execution_count": 35,
   "metadata": {},
   "outputs": [
    {
     "data": {
      "text/plain": [
       "array([103, 111, 101, 113, 101, 115, 100, 116,  98, 118,  97, 119,  96,\n",
       "       120,  96, 121,  95, 121,  95, 121,  96, 121,  97, 121,  98, 120,\n",
       "        98, 120,  99, 120,  99, 120,  99, 119,  99, 119,  99, 118, 100,\n",
       "       118, 101, 118, 102, 118, 103, 118, 104, 118, 105, 119, 105, 121,\n",
       "       104, 122, 104, 124, 103, 126, 102, 128, 102, 130, 101, 131, 101,\n",
       "       132, 100, 132, 100, 132, 100, 132, 100, 132, 101, 132, 102, 132,\n",
       "       103, 132, 105, 132, 106, 132, 107, 133, 108, 134, 109, 134, 109,\n",
       "       135, 109, 136, 110, 136, 110, 137, 111, 138], dtype=uint8)"
      ]
     },
     "execution_count": 35,
     "metadata": {},
     "output_type": "execute_result"
    }
   ],
   "source": [
    "final_data.ravel()[-100:]"
   ]
  },
  {
   "cell_type": "code",
   "execution_count": 19,
   "metadata": {},
   "outputs": [],
   "source": [
    "wavfile.write(\"final.wav\", fs, final_data)"
   ]
  },
  {
   "cell_type": "code",
   "execution_count": null,
   "metadata": {},
   "outputs": [],
   "source": []
  }
 ],
 "metadata": {
  "kernelspec": {
   "display_name": "Python 3",
   "language": "python",
   "name": "python3"
  },
  "language_info": {
   "codemirror_mode": {
    "name": "ipython",
    "version": 3
   },
   "file_extension": ".py",
   "mimetype": "text/x-python",
   "name": "python",
   "nbconvert_exporter": "python",
   "pygments_lexer": "ipython3",
   "version": "3.6.7"
  }
 },
 "nbformat": 4,
 "nbformat_minor": 2
}
