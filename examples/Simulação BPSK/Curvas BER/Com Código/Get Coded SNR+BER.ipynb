{
 "cells": [
  {
   "cell_type": "code",
   "execution_count": 1,
   "metadata": {},
   "outputs": [],
   "source": [
    "%matplotlib inline\n",
    "import numpy as np\n",
    "import subprocess\n",
    "import matplotlib.pyplot as plt"
   ]
  },
  {
   "cell_type": "code",
   "execution_count": 2,
   "metadata": {},
   "outputs": [],
   "source": [
    "def get_SNR(file):\n",
    "    with open(file, \"rt\")as f:\n",
    "        a = f.readlines()\n",
    "    lst = []\n",
    "    for x in a:\n",
    "        if \"Value:\" in x:\n",
    "            lst.append(float(x.split(\"Value: \")[1]))\n",
    "        #print(x.split(\"bla\"))\n",
    "    lst = lst[len(lst)//2 : ]\n",
    "    return (np.array(lst).mean(), np.array(lst).std())"
   ]
  },
  {
   "cell_type": "code",
   "execution_count": 3,
   "metadata": {},
   "outputs": [],
   "source": [
    "def step1(file):\n",
    "    with open(file, \"rb\")as f:\n",
    "        _ = f.read()\n",
    "    \n",
    "    rcv = np.frombuffer(_, dtype = np.uint8)\n",
    "    match = np.array([0, 0, 178, 62, 71, 168, 187, 253, 16, 38, 149, 55, 226, 170, 26], dtype = np.uint8)\n",
    "    match_extended = np.tile(match, int(rcv.shape[0]/len(match)))\n",
    "    \n",
    "    idx = np.argmax([np.mean(np.equal(np.packbits(np.roll(np.unpackbits(rcv), i)), match_extended)) for i in range(15 * 8)])\n",
    "    \n",
    "    to_write = np.packbits(np.roll(np.unpackbits(rcv), 9))\n",
    "    \n",
    "    with open(\"output2.data\", \"wb\") as f:\n",
    "        f.write(to_write)"
   ]
  },
  {
   "cell_type": "code",
   "execution_count": 4,
   "metadata": {},
   "outputs": [],
   "source": [
    "def step2():\n",
    "    process=subprocess.Popen([\"python2\", \"BCH_Recoder.py\"],\n",
    "                             stdin=subprocess.PIPE,\n",
    "                             stdout=subprocess.PIPE,\n",
    "                             stderr=subprocess.PIPE)\n",
    "\n",
    "\n",
    "    #time.sleep(10)\n",
    "\n",
    "    # while os.stat(\"output.data\").st_size < os.stat(\"orig_pinguim.bmp\").st_size * 2:\n",
    "    #     pass\n",
    "\n",
    "    inputdata= b\" \"\n",
    "    stdoutdata,stderrdata=process.communicate(input=inputdata)\n",
    "    \n",
    "    return"
   ]
  },
  {
   "cell_type": "code",
   "execution_count": 5,
   "metadata": {},
   "outputs": [],
   "source": [
    "def step3(file):\n",
    "    with open(file, \"rb\")as f:\n",
    "        _ = f.read()\n",
    "    \n",
    "    final = np.frombuffer(_, dtype = np.uint8)\n",
    "    \n",
    "    tx = np.array([0, 255, 40, 250, 37, 42, 186], dtype = np.uint8)\n",
    "    match_extended_final = np.tile(tx, int(final.shape[0]/len(tx)))\n",
    "    \n",
    "    return (1 - np.mean(np.equal(np.unpackbits(final), np.unpackbits(match_extended_final))))"
   ]
  },
  {
   "cell_type": "code",
   "execution_count": 36,
   "metadata": {},
   "outputs": [
    {
     "name": "stdout",
     "output_type": "stream",
     "text": [
      "CPU times: user 2.41 s, sys: 1.81 s, total: 4.22 s\n",
      "Wall time: 4.22 s\n"
     ]
    }
   ],
   "source": [
    "%%time\n",
    "step1(\"output.data\")"
   ]
  },
  {
   "cell_type": "code",
   "execution_count": 37,
   "metadata": {},
   "outputs": [
    {
     "name": "stdout",
     "output_type": "stream",
     "text": [
      "CPU times: user 789 µs, sys: 8.44 ms, total: 9.23 ms\n",
      "Wall time: 10.4 s\n"
     ]
    }
   ],
   "source": [
    "%%time\n",
    "step2()"
   ]
  },
  {
   "cell_type": "code",
   "execution_count": 38,
   "metadata": {},
   "outputs": [
    {
     "name": "stdout",
     "output_type": "stream",
     "text": [
      "CPU times: user 22.8 ms, sys: 16.3 ms, total: 39.1 ms\n",
      "Wall time: 40.8 ms\n"
     ]
    },
    {
     "data": {
      "text/plain": [
       "0.0003869642857142752"
      ]
     },
     "execution_count": 38,
     "metadata": {},
     "output_type": "execute_result"
    }
   ],
   "source": [
    "%%time\n",
    "step3(\"output3.data\")"
   ]
  },
  {
   "cell_type": "code",
   "execution_count": 39,
   "metadata": {},
   "outputs": [
    {
     "data": {
      "text/plain": [
       "((5.734779402985075, 0.2881443698595083), 0.0003869642857142752)"
      ]
     },
     "execution_count": 39,
     "metadata": {},
     "output_type": "execute_result"
    }
   ],
   "source": [
    "get_SNR(\"output.txt\"), step3(\"output3.data\")"
   ]
  },
  {
   "cell_type": "code",
   "execution_count": null,
   "metadata": {},
   "outputs": [],
   "source": []
  },
  {
   "cell_type": "markdown",
   "metadata": {},
   "source": [
    "## <font color = red> Quanto mais baixo o SNR, maior a chance de ocorrer problemas na recepção, mais chance do resultado obtido ser ruim\n",
    "    \n",
    "# <font color = blue> Resultados obtidos simulados\n",
    "  <font color = blue> SNR Média, SNR STD, BER\n",
    "\n",
    "      \n",
    "((7.521259925373134, 0.2656860816505641), 8.571428571468864e-06)\n",
    "      \n",
    "((4.803392910447761, 0.3072832420617452), 0.001929196428571478)\n",
    "      \n",
    "((4.8254906716417905, 0.29730412967897996), 0.0018147321428571006)\n",
    "      \n",
    "((4.061721791044776, 0.3445016723111085), 0.005451517857142818)\n",
    "      \n",
    "((3.4622923880597014, 0.3604300021102056), 0.012222767857142824)\n",
    "      \n",
    "((2.6754050746268656, 0.44970420913424203), 0.02639437499999997)"
   ]
  },
  {
   "cell_type": "code",
   "execution_count": 40,
   "metadata": {},
   "outputs": [],
   "source": [
    "a = \"\"\"\n",
    "((7.644491194029851, 0.24805940924502784), 3.660714285702582e-06)\n",
    "\n",
    "((7.521259925373134, 0.2656860816505641), 8.571428571468864e-06)\n",
    "\n",
    "((6.72919604477612, 0.29466380071324355), 4.991071428572802e-05)\n",
    "\n",
    "((5.734779402985075, 0.2881443698595083), 0.0003869642857142752)\n",
    "\n",
    "((4.803392910447761, 0.3072832420617452), 0.001929196428571478)\n",
    "\n",
    "((4.8254906716417905, 0.29730412967897996), 0.0018147321428571006)\n",
    "\n",
    "((4.061721791044776, 0.3445016723111085), 0.005451517857142818)\n",
    "\n",
    "((3.4622923880597014, 0.3604300021102056), 0.012222767857142824)\n",
    "\n",
    "((2.6754050746268656, 0.44970420913424203), 0.02639437499999997)\n",
    "\"\"\""
   ]
  },
  {
   "cell_type": "code",
   "execution_count": 41,
   "metadata": {},
   "outputs": [],
   "source": [
    "snr_avgs = []\n",
    "snr_stds = []\n",
    "bers = []\n",
    "\n",
    "for line in a.splitlines():\n",
    "    aux = line.replace(\"(\", \"\").replace(\")\", \"\").split(\",\")\n",
    "    if aux != [\"\"]:\n",
    "        snr_avgs.append(float(aux[0]))\n",
    "        snr_stds.append(float(aux[1]))\n",
    "        bers.append(float(aux[2]))"
   ]
  },
  {
   "cell_type": "code",
   "execution_count": null,
   "metadata": {},
   "outputs": [],
   "source": []
  },
  {
   "cell_type": "code",
   "execution_count": 42,
   "metadata": {},
   "outputs": [],
   "source": [
    "import math"
   ]
  },
  {
   "cell_type": "code",
   "execution_count": 43,
   "metadata": {},
   "outputs": [
    {
     "data": {
      "text/plain": [
       "3.3099321904142442"
      ]
     },
     "execution_count": 43,
     "metadata": {},
     "output_type": "execute_result"
    }
   ],
   "source": [
    "10*math.log10(15/7)"
   ]
  },
  {
   "cell_type": "code",
   "execution_count": 44,
   "metadata": {},
   "outputs": [],
   "source": [
    "EbN0_min = 0\n",
    "EbN0_max = 10\n",
    "EbN0_range = range(EbN0_min, EbN0_max+1)"
   ]
  },
  {
   "cell_type": "code",
   "execution_count": 45,
   "metadata": {},
   "outputs": [],
   "source": [
    "simu = np.load(\"ber_simu.npy\")"
   ]
  },
  {
   "cell_type": "code",
   "execution_count": 46,
   "metadata": {},
   "outputs": [],
   "source": [
    "theory = np.load(\"ber_theory.npy\")"
   ]
  },
  {
   "cell_type": "code",
   "execution_count": 47,
   "metadata": {},
   "outputs": [
    {
     "data": {
      "text/plain": [
       "array([1.44927687e-01, 1.06228588e-01, 7.21988374e-02, 4.47099721e-02,\n",
       "       2.46890952e-02, 1.18368372e-02, 4.76517370e-03, 1.54415558e-03,\n",
       "       3.81742657e-04, 6.72521953e-05, 7.74418644e-06])"
      ]
     },
     "execution_count": 47,
     "metadata": {},
     "output_type": "execute_result"
    }
   ],
   "source": [
    "theory"
   ]
  },
  {
   "cell_type": "code",
   "execution_count": 48,
   "metadata": {},
   "outputs": [
    {
     "data": {
      "text/plain": [
       "array([3.29221926e-01, 2.76622360e-01, 2.16220862e-01, 1.52144629e-01,\n",
       "       9.42288978e-02, 4.92150989e-02, 2.08547995e-02, 6.86993316e-03,\n",
       "       1.67249996e-03, 2.74699992e-04, 2.49999991e-05])"
      ]
     },
     "execution_count": 48,
     "metadata": {},
     "output_type": "execute_result"
    }
   ],
   "source": [
    "simu"
   ]
  },
  {
   "cell_type": "code",
   "execution_count": 49,
   "metadata": {},
   "outputs": [
    {
     "data": {
      "text/plain": [
       "array([10.95442338, 10.83119212, 10.03912824,  9.04471159,  8.1133251 ,\n",
       "        8.13542286,  7.37165398,  6.77222458,  5.98533727])"
      ]
     },
     "execution_count": 49,
     "metadata": {},
     "output_type": "execute_result"
    }
   ],
   "source": [
    "np.array(snr_avgs) + 10*math.log10(15/7)"
   ]
  },
  {
   "cell_type": "code",
   "execution_count": null,
   "metadata": {},
   "outputs": [],
   "source": []
  },
  {
   "cell_type": "code",
   "execution_count": null,
   "metadata": {},
   "outputs": [],
   "source": []
  },
  {
   "cell_type": "code",
   "execution_count": 52,
   "metadata": {},
   "outputs": [
    {
     "data": {
      "image/png": "[encoded data removed]",
      "text/plain": [
       "<Figure size 432x288 with 1 Axes>"
      ]
     },
     "metadata": {},
     "output_type": "display_data"
    }
   ],
   "source": [
    "plt.style.use('ggplot')\n",
    "#plt.semilogy(EbN0_range, theory, \"g-.\", label = \"BPSK + Diff.Encoding Teórico\")\n",
    "plt.semilogy(EbN0_range, simu, \"b-o\", label = \"BPSK + Diff.Encoding + BCH(15, 7) Simulado\")\n",
    "plt.semilogy(np.array(snr_avgs) + 10 * math.log10(15/7), bers, \"o\", color = \"red\", label = \"Simu/Prac DBPSK\")\n",
    "plt.legend()\n",
    "plt.grid()\n",
    "\n",
    "plt.title('Simulação BER - BPSK + Diff.Encoding')\n",
    "plt.xlabel('Eb/N0 (dB)')\n",
    "plt.ylabel('BER')\n",
    "plt.savefig(\"Curva.png\")"
   ]
  },
  {
   "cell_type": "code",
   "execution_count": null,
   "metadata": {},
   "outputs": [],
   "source": []
  },
  {
   "cell_type": "code",
   "execution_count": null,
   "metadata": {},
   "outputs": [],
   "source": []
  }
 ],
 "metadata": {
  "kernelspec": {
   "display_name": "Python 3",
   "language": "python",
   "name": "python3"
  },
  "language_info": {
   "codemirror_mode": {
    "name": "ipython",
    "version": 3
   },
   "file_extension": ".py",
   "mimetype": "text/x-python",
   "name": "python",
   "nbconvert_exporter": "python",
   "pygments_lexer": "ipython3",
   "version": "3.6.7"
  }
 },
 "nbformat": 4,
 "nbformat_minor": 2
}
