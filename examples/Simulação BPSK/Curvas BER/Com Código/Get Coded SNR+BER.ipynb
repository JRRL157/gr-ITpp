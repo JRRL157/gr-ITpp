{
 "cells": [
  {
   "cell_type": "code",
   "execution_count": null,
   "metadata": {},
   "outputs": [],
   "source": [
    "%matplotlib inline\n",
    "import numpy as np\n",
    "import subprocess\n",
    "import matplotlib.pyplot as plt"
   ]
  },
  {
   "cell_type": "code",
   "execution_count": 2,
   "metadata": {},
   "outputs": [],
   "source": [
    "def get_SNR(file):\n",
    "    with open(file, \"rt\")as f:\n",
    "        a = f.readlines()\n",
    "    lst = []\n",
    "    for x in a:\n",
    "        if \"Value:\" in x:\n",
    "            lst.append(float(x.split(\"Value: \")[1]))\n",
    "        #print(x.split(\"bla\"))\n",
    "    lst = lst[len(lst)//2 : ]\n",
    "    return (np.array(lst).mean(), np.array(lst).std())"
   ]
  },
  {
   "cell_type": "code",
   "execution_count": 3,
   "metadata": {},
   "outputs": [],
   "source": [
    "def step1(file):\n",
    "    with open(file, \"rb\")as f:\n",
    "        _ = f.read()\n",
    "    \n",
    "    rcv = np.frombuffer(_, dtype = np.uint8)\n",
    "    match = np.array([0, 0, 178, 62, 71, 168, 187, 253, 16, 38, 149, 55, 226, 170, 26], dtype = np.uint8)\n",
    "    match_extended = np.tile(match, int(rcv.shape[0]/len(match)))\n",
    "    \n",
    "    idx = np.argmax([np.mean(np.equal(np.packbits(np.roll(np.unpackbits(rcv), i)), match_extended)) for i in range(15 * 8)])\n",
    "    \n",
    "    to_write = np.packbits(np.roll(np.unpackbits(rcv), idx))\n",
    "    \n",
    "    with open(\"output2.data\", \"wb\") as f:\n",
    "        f.write(to_write)"
   ]
  },
  {
   "cell_type": "code",
   "execution_count": 4,
   "metadata": {},
   "outputs": [],
   "source": [
    "def step2():\n",
    "    process=subprocess.Popen([\"python2\", \"BCH_Recoder.py\"],\n",
    "                             stdin=subprocess.PIPE,\n",
    "                             stdout=subprocess.PIPE,\n",
    "                             stderr=subprocess.PIPE)\n",
    "\n",
    "\n",
    "    #time.sleep(10)\n",
    "\n",
    "    # while os.stat(\"output.data\").st_size < os.stat(\"orig_pinguim.bmp\").st_size * 2:\n",
    "    #     pass\n",
    "\n",
    "    inputdata= b\" \"\n",
    "    stdoutdata,stderrdata=process.communicate(input=inputdata)\n",
    "    \n",
    "    return"
   ]
  },
  {
   "cell_type": "code",
   "execution_count": 5,
   "metadata": {},
   "outputs": [],
   "source": [
    "def step3(file):\n",
    "    with open(file, \"rb\")as f:\n",
    "        _ = f.read()\n",
    "    \n",
    "    final = np.frombuffer(_, dtype = np.uint8)\n",
    "    \n",
    "    tx = np.array([0, 255, 40, 250, 37, 42, 186], dtype = np.uint8)\n",
    "    match_extended_final = np.tile(tx, int(final.shape[0]/len(tx)))\n",
    "    \n",
    "    return (1 - np.mean(np.equal(np.unpackbits(final), np.unpackbits(match_extended_final))))"
   ]
  },
  {
   "cell_type": "code",
   "execution_count": null,
   "metadata": {},
   "outputs": [],
   "source": [
    "%%time\n",
    "step1(\"output.data\")"
   ]
  },
  {
   "cell_type": "code",
   "execution_count": null,
   "metadata": {},
   "outputs": [],
   "source": [
    "%%time\n",
    "step2()"
   ]
  },
  {
   "cell_type": "code",
   "execution_count": null,
   "metadata": {},
   "outputs": [],
   "source": [
    "%%time\n",
    "step3(\"output3.data\")"
   ]
  },
  {
   "cell_type": "code",
   "execution_count": null,
   "metadata": {},
   "outputs": [],
   "source": [
    "get_SNR(\"output.txt\"), step3(\"output3.data\")"
   ]
  },
  {
   "cell_type": "code",
   "execution_count": null,
   "metadata": {},
   "outputs": [],
   "source": []
  },
  {
   "cell_type": "markdown",
   "metadata": {},
   "source": [
    "## <font color = red> Quanto mais baixo o SNR, maior a chance de ocorrer problemas na recepção, mais chance do resultado obtido ser ruim\n",
    "    \n",
    "# <font color = blue> Resultados obtidos simulados\n",
    "  <font color = blue> SNR Média, SNR STD, BER\n"
   ]
  },
  {
   "cell_type": "code",
   "execution_count": 18,
   "metadata": {},
   "outputs": [],
   "source": [
    "a = \"\"\"\n",
    "((4.946123255813953, 0.29782238837486114), 0.000148773193359375)\n",
    "\n",
    "((6.063987441860464, 0.29312137248882936), 8.90096028649534e-06)\n",
    "\"\"\""
   ]
  },
  {
   "cell_type": "code",
   "execution_count": 19,
   "metadata": {},
   "outputs": [],
   "source": [
    "snr_avgs = []\n",
    "snr_stds = []\n",
    "bers = []\n",
    "\n",
    "for line in a.splitlines():\n",
    "    aux = line.replace(\"(\", \"\").replace(\")\", \"\").split(\",\")\n",
    "    if aux != [\"\"]:\n",
    "        snr_avgs.append(float(aux[0]))\n",
    "        snr_stds.append(float(aux[1]))\n",
    "        bers.append(float(aux[2]))"
   ]
  },
  {
   "cell_type": "code",
   "execution_count": null,
   "metadata": {},
   "outputs": [],
   "source": []
  },
  {
   "cell_type": "code",
   "execution_count": 20,
   "metadata": {},
   "outputs": [],
   "source": [
    "import math"
   ]
  },
  {
   "cell_type": "code",
   "execution_count": 21,
   "metadata": {},
   "outputs": [
    {
     "data": {
      "text/plain": [
       "3.3099321904142442"
      ]
     },
     "execution_count": 21,
     "metadata": {},
     "output_type": "execute_result"
    }
   ],
   "source": [
    "10*math.log10(15/7)"
   ]
  },
  {
   "cell_type": "code",
   "execution_count": 22,
   "metadata": {},
   "outputs": [],
   "source": [
    "EbN0_min = 0\n",
    "EbN0_max = 10\n",
    "EbN0_range = range(EbN0_min, EbN0_max+1)"
   ]
  },
  {
   "cell_type": "code",
   "execution_count": 23,
   "metadata": {},
   "outputs": [],
   "source": [
    "EbN0_range = np.load(\"Numpy vector refs/EbN0List.npy\")"
   ]
  },
  {
   "cell_type": "code",
   "execution_count": 24,
   "metadata": {},
   "outputs": [],
   "source": [
    "theory_de_bpsk = np.load(\"Numpy vector refs/theory_de-bpsk.npy\")"
   ]
  },
  {
   "cell_type": "code",
   "execution_count": 25,
   "metadata": {},
   "outputs": [],
   "source": [
    "simu_de_bpsk = np.load(\"Numpy vector refs/simu_de-bpsk.npy\")"
   ]
  },
  {
   "cell_type": "code",
   "execution_count": 26,
   "metadata": {},
   "outputs": [],
   "source": [
    "simu_de_bpsk_bch_15_7 = np.load(\"Numpy vector refs/simu_de-bpsk-bch-15-7-2.npy\")"
   ]
  },
  {
   "cell_type": "code",
   "execution_count": 27,
   "metadata": {},
   "outputs": [
    {
     "data": {
      "text/plain": [
       "array([8.25605545, 9.37391963])"
      ]
     },
     "execution_count": 27,
     "metadata": {},
     "output_type": "execute_result"
    }
   ],
   "source": [
    "np.array(snr_avgs) + 10*math.log10(15/7)"
   ]
  },
  {
   "cell_type": "code",
   "execution_count": 28,
   "metadata": {},
   "outputs": [
    {
     "data": {
      "text/plain": [
       "array([ 0,  1,  2,  3,  4,  5,  6,  7,  8,  9, 10])"
      ]
     },
     "execution_count": 28,
     "metadata": {},
     "output_type": "execute_result"
    }
   ],
   "source": [
    "EbN0_range"
   ]
  },
  {
   "cell_type": "code",
   "execution_count": 29,
   "metadata": {},
   "outputs": [
    {
     "data": {
      "image/png": "[encoded data removed]",
      "text/plain": [
       "<Figure size 432x288 with 1 Axes>"
      ]
     },
     "metadata": {},
     "output_type": "display_data"
    }
   ],
   "source": [
    "plt.style.use('ggplot')\n",
    "plt.semilogy(EbN0_range, theory_de_bpsk, \"g-.\", label = \"DE-BPSK Teórico\")\n",
    "plt.semilogy(EbN0_range, simu_de_bpsk, \"b-o\", label = \"DE-BPSK Simulado\")\n",
    "plt.semilogy(EbN0_range, simu_de_bpsk_bch_15_7, \"r-o\", label = \"DE-BSPK + BCH(15, 7) Simulado\")\n",
    "# plt.semilogy(np.array(snr_avgs) + 10 * math.log10(15/7), bers, \"*\", color = \"darkred\", label = \"Simu/Prac DE-BPSK\")\n",
    "plt.errorbar(np.array(snr_avgs) + 10 * math.log10(15/7), bers, xerr = np.array(snr_stds), fmt = \"o\", color = \"darkred\", capsize = 5, label = \"Simu/Prac DE-BPSK + BCH(15, 7)\")\n",
    "\n",
    "plt.legend()\n",
    "plt.grid()\n",
    "\n",
    "plt.title('Simulação BER - BPSK + Diff.Encoding')\n",
    "plt.xlabel('Eb/N0 (dB)')\n",
    "plt.ylabel('BER')\n",
    "plt.savefig(\"Curva.png\")"
   ]
  },
  {
   "cell_type": "code",
   "execution_count": null,
   "metadata": {},
   "outputs": [],
   "source": []
  },
  {
   "cell_type": "code",
   "execution_count": null,
   "metadata": {},
   "outputs": [],
   "source": []
  }
 ],
 "metadata": {
  "kernelspec": {
   "display_name": "Python 3",
   "language": "python",
   "name": "python3"
  },
  "language_info": {
   "codemirror_mode": {
    "name": "ipython",
    "version": 3
   },
   "file_extension": ".py",
   "mimetype": "text/x-python",
   "name": "python",
   "nbconvert_exporter": "python",
   "pygments_lexer": "ipython3",
   "version": "3.6.8"
  }
 },
 "nbformat": 4,
 "nbformat_minor": 4
}
