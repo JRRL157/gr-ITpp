{
 "cells": [
  {
   "cell_type": "code",
   "execution_count": 1,
   "metadata": {},
   "outputs": [],
   "source": [
    "%matplotlib inline\n",
    "import numpy as np\n",
    "import glob\n",
    "import matplotlib.pyplot as plt"
   ]
  },
  {
   "cell_type": "code",
   "execution_count": 2,
   "metadata": {},
   "outputs": [],
   "source": [
    "def get_SNR(file):\n",
    "    with open(file, \"rt\")as f:\n",
    "        a = f.readlines()\n",
    "    lst = []\n",
    "    for x in a:\n",
    "        if \"Value:\" in x:\n",
    "            lst.append(float(x.split(\"Value: \")[1]))\n",
    "        #print(x.split(\"bla\"))\n",
    "    lst = lst[len(lst)//2 : ]\n",
    "    return (np.array(lst).mean(), np.array(lst).std())"
   ]
  },
  {
   "cell_type": "code",
   "execution_count": 3,
   "metadata": {},
   "outputs": [],
   "source": [
    "def get_BER(file):\n",
    "    with open(file, \"rb\")as f:\n",
    "        _ = f.read()\n",
    "    \n",
    "    rcv = np.frombuffer(_, dtype = np.uint8)\n",
    "    aux = np.unpackbits(rcv)\n",
    "    \n",
    "    tx = np.array([0, 255, 40, 250, 37, 42, 186], dtype = np.uint8)\n",
    "    \n",
    "    pos = np.argmax(np.correlate(np.unpackbits(rcv), np.unpackbits(tx)))\n",
    "    rcv = np.packbits(np.roll(np.unpackbits(rcv), -pos))\n",
    "    tx_extended = np.tile(tx, int(rcv.shape[0]/len(tx)))\n",
    "    \n",
    "    return (1 - np.mean(np.equal(np.unpackbits(rcv), np.unpackbits(tx_extended))))"
   ]
  },
  {
   "cell_type": "code",
   "execution_count": 13,
   "metadata": {},
   "outputs": [
    {
     "data": {
      "text/plain": [
       "((7.516995428571428, 0.25338429086319647), 0.0007219642857142494)"
      ]
     },
     "execution_count": 13,
     "metadata": {},
     "output_type": "execute_result"
    }
   ],
   "source": [
    "get_SNR(\"output.txt\"), get_BER(\"output.data\")"
   ]
  },
  {
   "cell_type": "markdown",
   "metadata": {},
   "source": [
    "## <font color = red> Quanto mais baixo o SNR, maior a chance de ocorrer problemas na recepção, mais chance do resultado obtido ser ruim\n",
    "    \n",
    "# <font color = blue> Resultados obtidos simulados\n",
    "  <font color = blue> SNR Média, SNR STD, BER\n",
    "\n",
    "      \n",
    "((8.826337619047617, 0.21273435929088308), 9.071428571427731e-05)\n",
    "\n",
    "((6.8066040476190475, 0.28506995506583255), 0.0017678571428570988)\n",
    "      \n",
    "((5.646766904761905, 0.3240655694931131), 0.006025714285714301)\n",
    "      \n",
    "((4.895880238095238, 0.3273309594532878), 0.01183071428571425)\n",
    "\n",
    "((4.073850238095237, 0.3813042886717472), 0.02215964285714289)\n",
    "\n",
    "((3.3837152380952387, 0.4476759898378785), 0.03355857142857144)\n",
    "    \n",
    "((2.7745838095238096, 0.39313112472601897), 0.05014678571428577)\n",
    "      \n",
    "((2.122036190476191, 0.4174985024949042), 0.06802267857142852)\n",
    "      \n",
    "((1.9535068571428573, 0.5848953002822517), 0.06948750000000004)\n",
    "     \n",
    "((0.910838619047619, 0.47787939621922904), 0.3007546428571428)\n",
    "      \n",
    "((9.45187457142857, 0.2101319170336693), 1.7142857142826706e-05)\n",
    "\n",
    "((8.207789999999997, 0.21913430407596426), 0.00022732142857140314)\n",
    "      \n",
    "((7.191252714285715, 0.2537358722480718), 0.0011891071428571376)\n",
    "      \n",
    "((7.516995428571428, 0.25338429086319647), 0.0007219642857142494)"
   ]
  },
  {
   "cell_type": "code",
   "execution_count": 14,
   "metadata": {},
   "outputs": [],
   "source": [
    "a = \"\"\"\n",
    "((8.826337619047617, 0.21273435929088308), 9.071428571427731e-05)\n",
    "\n",
    "((6.8066040476190475, 0.28506995506583255), 0.0017678571428570988)\n",
    "\n",
    "((5.646766904761905, 0.3240655694931131), 0.006025714285714301)\n",
    "\n",
    "((4.895880238095238, 0.3273309594532878), 0.01183071428571425)\n",
    "\n",
    "((4.073850238095237, 0.3813042886717472), 0.02215964285714289)\n",
    "\n",
    "((3.3837152380952387, 0.4476759898378785), 0.03355857142857144)\n",
    "\n",
    "((2.7745838095238096, 0.39313112472601897), 0.05014678571428577)\n",
    "\n",
    "((2.122036190476191, 0.4174985024949042), 0.06802267857142852)\n",
    "\n",
    "((1.9535068571428573, 0.5848953002822517), 0.06948750000000004)\n",
    "\n",
    "((0.910838619047619, 0.47787939621922904), 0.3007546428571428)\n",
    "\n",
    "((9.45187457142857, 0.2101319170336693), 1.7142857142826706e-05)\n",
    "\n",
    "((8.207789999999997, 0.21913430407596426), 0.00022732142857140314)\n",
    "\n",
    "((7.191252714285715, 0.2537358722480718), 0.0011891071428571376)\n",
    "\n",
    "((7.516995428571428, 0.25338429086319647), 0.0007219642857142494)\n",
    "\"\"\""
   ]
  },
  {
   "cell_type": "code",
   "execution_count": 15,
   "metadata": {},
   "outputs": [],
   "source": [
    "snr_avgs = []\n",
    "snr_stds = []\n",
    "bers = []\n",
    "\n",
    "for line in a.splitlines():\n",
    "    aux = line.replace(\"(\", \"\").replace(\")\", \"\").split(\",\")\n",
    "    if aux != [\"\"]:\n",
    "        snr_avgs.append(float(aux[0]))\n",
    "        snr_stds.append(float(aux[1]))\n",
    "        bers.append(float(aux[2]))"
   ]
  },
  {
   "cell_type": "code",
   "execution_count": 16,
   "metadata": {},
   "outputs": [],
   "source": [
    "def print_lst_with_slash(lst):\n",
    "    print(\"[ \\\\\")\n",
    "    for x in lst:\n",
    "        print(f\"{x}, \\\\\")\n",
    "    print(\"]\")"
   ]
  },
  {
   "cell_type": "code",
   "execution_count": null,
   "metadata": {},
   "outputs": [],
   "source": []
  },
  {
   "cell_type": "code",
   "execution_count": null,
   "metadata": {},
   "outputs": [],
   "source": []
  },
  {
   "cell_type": "code",
   "execution_count": 17,
   "metadata": {},
   "outputs": [],
   "source": [
    "EbN0_min = 0\n",
    "EbN0_max = 10\n",
    "EbN0_range = range(EbN0_min, EbN0_max+1)"
   ]
  },
  {
   "cell_type": "code",
   "execution_count": 18,
   "metadata": {},
   "outputs": [],
   "source": [
    "simu = np.load(\"ber_simu.npy\")"
   ]
  },
  {
   "cell_type": "code",
   "execution_count": 19,
   "metadata": {},
   "outputs": [],
   "source": [
    "theory = np.load(\"ber_theory.npy\")"
   ]
  },
  {
   "cell_type": "code",
   "execution_count": 20,
   "metadata": {},
   "outputs": [
    {
     "name": "stdout",
     "output_type": "stream",
     "text": [
      "['seaborn-dark-palette', 'classic', 'seaborn-darkgrid', 'dark_background', 'seaborn', 'fast', 'seaborn-muted', 'seaborn-notebook', 'tableau-colorblind10', 'seaborn-colorblind', 'seaborn-white', 'seaborn-poster', 'grayscale', 'ggplot', 'seaborn-bright', 'Solarize_Light2', 'seaborn-whitegrid', 'seaborn-talk', '_classic_test', 'fivethirtyeight', 'seaborn-dark', 'seaborn-pastel', 'seaborn-paper', 'bmh', 'seaborn-ticks', 'seaborn-deep']\n"
     ]
    }
   ],
   "source": [
    "print(plt.style.available)"
   ]
  },
  {
   "cell_type": "code",
   "execution_count": 21,
   "metadata": {},
   "outputs": [
    {
     "data": {
      "image/png": "[encoded data removed]",
      "text/plain": [
       "<Figure size 432x288 with 1 Axes>"
      ]
     },
     "metadata": {},
     "output_type": "display_data"
    }
   ],
   "source": [
    "plt.style.use('ggplot')\n",
    "plt.semilogy(EbN0_range, theory, \"g-.\", label = \"BPSK + Diff.Encoding Teórico\")\n",
    "plt.semilogy(EbN0_range, simu, \"b-o\", label = \"BPSK + Diff.Encoding Simulado\")\n",
    "plt.errorbar(snr_avgs, bers, xerr = snr_stds, fmt = \"o\", color = \"indigo\", capsize = 5, label = \"Simu/Prac DBPSK\")\n",
    "plt.legend()\n",
    "plt.grid()\n",
    "\n",
    "plt.title('Simulação BER - BPSK + Diff.Encoding')\n",
    "plt.xlabel('Eb/N0 (dB)')\n",
    "plt.ylabel('BER')\n",
    "plt.savefig(\"Curva.png\")"
   ]
  },
  {
   "cell_type": "code",
   "execution_count": null,
   "metadata": {},
   "outputs": [],
   "source": []
  },
  {
   "cell_type": "code",
   "execution_count": null,
   "metadata": {},
   "outputs": [],
   "source": []
  },
  {
   "cell_type": "code",
   "execution_count": null,
   "metadata": {},
   "outputs": [],
   "source": [
    "#####"
   ]
  },
  {
   "cell_type": "code",
   "execution_count": null,
   "metadata": {},
   "outputs": [],
   "source": [
    "glob.glob(\"*.txt\")"
   ]
  },
  {
   "cell_type": "code",
   "execution_count": null,
   "metadata": {},
   "outputs": [],
   "source": [
    "dc = {}"
   ]
  },
  {
   "cell_type": "code",
   "execution_count": null,
   "metadata": {},
   "outputs": [],
   "source": [
    "for file in glob.glob(\"*.txt\"):\n",
    "    mean, std = get_SNR(file)\n",
    "    dc[file] = (get_SNR(file), get_BER(file.split(\".\")[0] + \".data\"))\n",
    "    print(file)\n",
    "    #print(f\"{file} (SNR Mean, SNR Std): {mean}, {std}\")"
   ]
  },
  {
   "cell_type": "code",
   "execution_count": null,
   "metadata": {},
   "outputs": [],
   "source": [
    "sorted(dc.items(), key = lambda x: x[1][0])"
   ]
  },
  {
   "cell_type": "code",
   "execution_count": null,
   "metadata": {},
   "outputs": [],
   "source": [
    "lst_SNR = []\n",
    "lst_BER = []\n",
    "\n",
    "for x in sorted(dc.items(), key = lambda x: x[1][0]):\n",
    "    print(f\"{x[0]}:   SNR Mean, SNR Std: {x[1][0]}, BER: {x[1][1]}\")\n",
    "    lst_SNR.append(x[1][0][0])\n",
    "    lst_BER.append(x[1][1])"
   ]
  },
  {
   "cell_type": "code",
   "execution_count": null,
   "metadata": {},
   "outputs": [],
   "source": [
    "lst_BER"
   ]
  },
  {
   "cell_type": "code",
   "execution_count": null,
   "metadata": {},
   "outputs": [],
   "source": [
    "lst_SNR"
   ]
  },
  {
   "cell_type": "code",
   "execution_count": null,
   "metadata": {},
   "outputs": [],
   "source": []
  }
 ],
 "metadata": {
  "kernelspec": {
   "display_name": "Python 3",
   "language": "python",
   "name": "python3"
  },
  "language_info": {
   "codemirror_mode": {
    "name": "ipython",
    "version": 3
   },
   "file_extension": ".py",
   "mimetype": "text/x-python",
   "name": "python",
   "nbconvert_exporter": "python",
   "pygments_lexer": "ipython3",
   "version": "3.6.7"
  }
 },
 "nbformat": 4,
 "nbformat_minor": 2
}
