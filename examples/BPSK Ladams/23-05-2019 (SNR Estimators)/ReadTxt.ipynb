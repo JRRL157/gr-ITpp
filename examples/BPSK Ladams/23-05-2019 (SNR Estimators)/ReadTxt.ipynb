{
 "cells": [
  {
   "cell_type": "code",
   "execution_count": 1,
   "metadata": {},
   "outputs": [],
   "source": [
    "import numpy as np\n",
    "import glob"
   ]
  },
  {
   "cell_type": "code",
   "execution_count": 2,
   "metadata": {},
   "outputs": [],
   "source": [
    "def get_SNR(file):\n",
    "    with open(file, \"rt\")as f:\n",
    "        a = f.readlines()\n",
    "    lst = []\n",
    "    for x in a:\n",
    "        if \"Value:\" in x:\n",
    "            lst.append(float(x.split(\"Value: \")[1]))\n",
    "        #print(x.split(\"bla\"))\n",
    "    lst = lst[len(lst)//2 : ]\n",
    "    return (np.array(lst).mean(), np.array(lst).std())"
   ]
  },
  {
   "cell_type": "code",
   "execution_count": 3,
   "metadata": {},
   "outputs": [
    {
     "data": {
      "text/plain": [
       "(3.468054047619048, 0.4091092542810278)"
      ]
     },
     "execution_count": 3,
     "metadata": {},
     "output_type": "execute_result"
    }
   ],
   "source": [
    "get_SNR(\"rcv_0.txt\")"
   ]
  },
  {
   "cell_type": "code",
   "execution_count": 4,
   "metadata": {},
   "outputs": [
    {
     "data": {
      "text/plain": [
       "['rcv_4.txt',\n",
       " 'rcv_2.txt',\n",
       " 'rcv_6.txt',\n",
       " 'rcv_1.txt',\n",
       " 'rcv_5.txt',\n",
       " 'rcv_3.txt',\n",
       " 'rcv_0.txt']"
      ]
     },
     "execution_count": 4,
     "metadata": {},
     "output_type": "execute_result"
    }
   ],
   "source": [
    "glob.glob(\"*.txt\")"
   ]
  },
  {
   "cell_type": "code",
   "execution_count": 5,
   "metadata": {},
   "outputs": [],
   "source": [
    "dc = {}"
   ]
  },
  {
   "cell_type": "code",
   "execution_count": 6,
   "metadata": {},
   "outputs": [],
   "source": [
    "for file in glob.glob(\"*.txt\"):\n",
    "    mean, std = get_SNR(file)\n",
    "    dc[file] = get_SNR(file)\n",
    "    #print(f\"{file} (SNR Mean, SNR Std): {mean}, {std}\")"
   ]
  },
  {
   "cell_type": "code",
   "execution_count": 7,
   "metadata": {},
   "outputs": [
    {
     "data": {
      "text/plain": [
       "[('rcv_2.txt', (1.5815411190476192, 0.4853298958173268)),\n",
       " ('rcv_0.txt', (3.468054047619048, 0.4091092542810278)),\n",
       " ('rcv_3.txt', (4.559230476190477, 0.3337094797442857)),\n",
       " ('rcv_4.txt', (5.434059523809524, 0.3332578299794776)),\n",
       " ('rcv_1.txt', (5.4509823809523805, 0.3027723468203346)),\n",
       " ('rcv_5.txt', (5.679271904761904, 0.36516625846995127)),\n",
       " ('rcv_6.txt', (7.716105476190478, 0.2748177624501492))]"
      ]
     },
     "execution_count": 7,
     "metadata": {},
     "output_type": "execute_result"
    }
   ],
   "source": [
    "sorted(dc.items(), key = lambda x: x[1][0])"
   ]
  },
  {
   "cell_type": "code",
   "execution_count": 8,
   "metadata": {},
   "outputs": [
    {
     "name": "stdout",
     "output_type": "stream",
     "text": [
      "rcv_2.txt:   SNR Mean, SNR Std: (1.5815411190476192, 0.4853298958173268)\n",
      "rcv_0.txt:   SNR Mean, SNR Std: (3.468054047619048, 0.4091092542810278)\n",
      "rcv_3.txt:   SNR Mean, SNR Std: (4.559230476190477, 0.3337094797442857)\n",
      "rcv_4.txt:   SNR Mean, SNR Std: (5.434059523809524, 0.3332578299794776)\n",
      "rcv_1.txt:   SNR Mean, SNR Std: (5.4509823809523805, 0.3027723468203346)\n",
      "rcv_5.txt:   SNR Mean, SNR Std: (5.679271904761904, 0.36516625846995127)\n",
      "rcv_6.txt:   SNR Mean, SNR Std: (7.716105476190478, 0.2748177624501492)\n"
     ]
    }
   ],
   "source": [
    "for x in sorted(dc.items(), key = lambda x: x[1][0]):\n",
    "    print(f\"{x[0]}:   SNR Mean, SNR Std: {x[1]}\")"
   ]
  },
  {
   "cell_type": "code",
   "execution_count": null,
   "metadata": {},
   "outputs": [],
   "source": []
  }
 ],
 "metadata": {
  "kernelspec": {
   "display_name": "Python 3",
   "language": "python",
   "name": "python3"
  },
  "language_info": {
   "codemirror_mode": {
    "name": "ipython",
    "version": 3
   },
   "file_extension": ".py",
   "mimetype": "text/x-python",
   "name": "python",
   "nbconvert_exporter": "python",
   "pygments_lexer": "ipython3",
   "version": "3.6.7"
  }
 },
 "nbformat": 4,
 "nbformat_minor": 2
}
