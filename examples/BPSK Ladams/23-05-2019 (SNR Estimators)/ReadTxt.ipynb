{
 "cells": [
  {
   "cell_type": "code",
   "execution_count": 1,
   "metadata": {},
   "outputs": [],
   "source": [
    "import numpy as np\n",
    "import glob"
   ]
  },
  {
   "cell_type": "code",
   "execution_count": 2,
   "metadata": {},
   "outputs": [],
   "source": [
    "def get_SNR(file):\n",
    "    with open(file, \"rt\")as f:\n",
    "        a = f.readlines()\n",
    "    lst = []\n",
    "    for x in a:\n",
    "        if \"Value:\" in x:\n",
    "            lst.append(float(x.split(\"Value: \")[1]))\n",
    "        #print(x.split(\"bla\"))\n",
    "    lst = lst[len(lst)//2 : ]\n",
    "    return (np.array(lst).mean(), np.array(lst).std())"
   ]
  },
  {
   "cell_type": "code",
   "execution_count": 3,
   "metadata": {},
   "outputs": [],
   "source": [
    "def get_BER(file):\n",
    "    with open(file, \"rb\")as f:\n",
    "        _ = f.read()\n",
    "    \n",
    "    rcv = np.frombuffer(_, dtype = np.uint8)\n",
    "    aux = np.unpackbits(rcv)\n",
    "    \n",
    "    tx = np.array([0, 255, 40, 250, 37, 42, 186], dtype = np.uint8)\n",
    "    \n",
    "    pos = np.argmax(np.correlate(np.unpackbits(rcv), np.unpackbits(tx)))\n",
    "    rcv = np.packbits(np.roll(np.unpackbits(rcv), -pos))\n",
    "    tx_extended = np.tile(tx, int(rcv.shape[0]/len(tx)))\n",
    "    \n",
    "    return (1 - np.mean(np.equal(np.unpackbits(rcv), np.unpackbits(tx_extended))))"
   ]
  },
  {
   "cell_type": "code",
   "execution_count": 4,
   "metadata": {},
   "outputs": [
    {
     "data": {
      "text/plain": [
       "0.03976392857142852"
      ]
     },
     "execution_count": 4,
     "metadata": {},
     "output_type": "execute_result"
    }
   ],
   "source": [
    "get_BER(\"rcv_0.data\")"
   ]
  },
  {
   "cell_type": "code",
   "execution_count": 5,
   "metadata": {},
   "outputs": [
    {
     "data": {
      "text/plain": [
       "(3.468054047619048, 0.4091092542810278)"
      ]
     },
     "execution_count": 5,
     "metadata": {},
     "output_type": "execute_result"
    }
   ],
   "source": [
    "get_SNR(\"rcv_0.txt\")"
   ]
  },
  {
   "cell_type": "code",
   "execution_count": 6,
   "metadata": {},
   "outputs": [
    {
     "data": {
      "text/plain": [
       "['rcv_4.txt', 'rcv_2.txt', 'rcv_6.txt', 'rcv_1.txt', 'rcv_3.txt', 'rcv_0.txt']"
      ]
     },
     "execution_count": 6,
     "metadata": {},
     "output_type": "execute_result"
    }
   ],
   "source": [
    "glob.glob(\"*.txt\")"
   ]
  },
  {
   "cell_type": "code",
   "execution_count": 7,
   "metadata": {},
   "outputs": [],
   "source": [
    "dc = {}"
   ]
  },
  {
   "cell_type": "code",
   "execution_count": 8,
   "metadata": {},
   "outputs": [
    {
     "name": "stdout",
     "output_type": "stream",
     "text": [
      "rcv_4.txt\n",
      "rcv_2.txt\n",
      "rcv_6.txt\n",
      "rcv_1.txt\n",
      "rcv_3.txt\n",
      "rcv_0.txt\n"
     ]
    }
   ],
   "source": [
    "for file in glob.glob(\"*.txt\"):\n",
    "    mean, std = get_SNR(file)\n",
    "    dc[file] = (get_SNR(file), get_BER(file.split(\".\")[0] + \".data\"))\n",
    "    print(file)\n",
    "    #print(f\"{file} (SNR Mean, SNR Std): {mean}, {std}\")"
   ]
  },
  {
   "cell_type": "code",
   "execution_count": 9,
   "metadata": {},
   "outputs": [
    {
     "data": {
      "text/plain": [
       "[('rcv_2.txt',\n",
       "  ((1.5815411190476192, 0.4853298958173268), 0.11585839285714283)),\n",
       " ('rcv_0.txt', ((3.468054047619048, 0.4091092542810278), 0.03976392857142852)),\n",
       " ('rcv_3.txt',\n",
       "  ((4.559230476190477, 0.3337094797442857), 0.019170714285714263)),\n",
       " ('rcv_4.txt',\n",
       "  ((5.434059523809524, 0.3332578299794776), 0.0063592857142856785)),\n",
       " ('rcv_1.txt',\n",
       "  ((5.4509823809523805, 0.3027723468203346), 0.006938571428571461)),\n",
       " ('rcv_6.txt',\n",
       "  ((7.716105476190478, 0.2748177624501492), 0.0005371428571429027))]"
      ]
     },
     "execution_count": 9,
     "metadata": {},
     "output_type": "execute_result"
    }
   ],
   "source": [
    "sorted(dc.items(), key = lambda x: x[1][0])"
   ]
  },
  {
   "cell_type": "code",
   "execution_count": 10,
   "metadata": {},
   "outputs": [
    {
     "name": "stdout",
     "output_type": "stream",
     "text": [
      "rcv_2.txt:   SNR Mean, SNR Std: (1.5815411190476192, 0.4853298958173268), BER: 0.11585839285714283\n",
      "rcv_0.txt:   SNR Mean, SNR Std: (3.468054047619048, 0.4091092542810278), BER: 0.03976392857142852\n",
      "rcv_3.txt:   SNR Mean, SNR Std: (4.559230476190477, 0.3337094797442857), BER: 0.019170714285714263\n",
      "rcv_4.txt:   SNR Mean, SNR Std: (5.434059523809524, 0.3332578299794776), BER: 0.0063592857142856785\n",
      "rcv_1.txt:   SNR Mean, SNR Std: (5.4509823809523805, 0.3027723468203346), BER: 0.006938571428571461\n",
      "rcv_6.txt:   SNR Mean, SNR Std: (7.716105476190478, 0.2748177624501492), BER: 0.0005371428571429027\n"
     ]
    }
   ],
   "source": [
    "lst_SNR = []\n",
    "lst_BER = []\n",
    "\n",
    "for x in sorted(dc.items(), key = lambda x: x[1][0]):\n",
    "    print(f\"{x[0]}:   SNR Mean, SNR Std: {x[1][0]}, BER: {x[1][1]}\")\n",
    "    lst_SNR.append(x[1][0][0])\n",
    "    lst_BER.append(x[1][1])"
   ]
  },
  {
   "cell_type": "code",
   "execution_count": 11,
   "metadata": {},
   "outputs": [
    {
     "data": {
      "text/plain": [
       "[0.11585839285714283,\n",
       " 0.03976392857142852,\n",
       " 0.019170714285714263,\n",
       " 0.0063592857142856785,\n",
       " 0.006938571428571461,\n",
       " 0.0005371428571429027]"
      ]
     },
     "execution_count": 11,
     "metadata": {},
     "output_type": "execute_result"
    }
   ],
   "source": [
    "lst_BER"
   ]
  },
  {
   "cell_type": "code",
   "execution_count": 12,
   "metadata": {},
   "outputs": [
    {
     "data": {
      "text/plain": [
       "[1.5815411190476192,\n",
       " 3.468054047619048,\n",
       " 4.559230476190477,\n",
       " 5.434059523809524,\n",
       " 5.4509823809523805,\n",
       " 7.716105476190478]"
      ]
     },
     "execution_count": 12,
     "metadata": {},
     "output_type": "execute_result"
    }
   ],
   "source": [
    "lst_SNR"
   ]
  },
  {
   "cell_type": "code",
   "execution_count": null,
   "metadata": {},
   "outputs": [],
   "source": []
  }
 ],
 "metadata": {
  "kernelspec": {
   "display_name": "Python 3",
   "language": "python",
   "name": "python3"
  },
  "language_info": {
   "codemirror_mode": {
    "name": "ipython",
    "version": 3
   },
   "file_extension": ".py",
   "mimetype": "text/x-python",
   "name": "python",
   "nbconvert_exporter": "python",
   "pygments_lexer": "ipython3",
   "version": "3.6.7"
  }
 },
 "nbformat": 4,
 "nbformat_minor": 2
}
