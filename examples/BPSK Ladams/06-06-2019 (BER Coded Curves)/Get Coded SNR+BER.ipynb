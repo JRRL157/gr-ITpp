{
 "cells": [
  {
   "cell_type": "code",
   "execution_count": null,
   "metadata": {},
   "outputs": [],
   "source": [
    "%matplotlib inline\n",
    "import numpy as np\n",
    "import subprocess\n",
    "import matplotlib.pyplot as plt"
   ]
  },
  {
   "cell_type": "code",
   "execution_count": null,
   "metadata": {},
   "outputs": [],
   "source": [
    "def get_SNR(file):\n",
    "    with open(file, \"rt\")as f:\n",
    "        a = f.readlines()\n",
    "    lst = []\n",
    "    for x in a:\n",
    "        if \"Value:\" in x:\n",
    "            lst.append(float(x.split(\"Value: \")[1]))\n",
    "        #print(x.split(\"bla\"))\n",
    "    lst = lst[len(lst)//2 : ]\n",
    "    return (np.array(lst).mean(), np.array(lst).std())"
   ]
  },
  {
   "cell_type": "code",
   "execution_count": null,
   "metadata": {},
   "outputs": [],
   "source": [
    "def step1(file):\n",
    "    with open(file, \"rb\")as f:\n",
    "        _ = f.read()\n",
    "    \n",
    "    rcv = np.frombuffer(_, dtype = np.uint8)\n",
    "    match = np.array([0, 0, 178, 62, 71, 168, 187, 253, 16, 38, 149, 55, 226, 170, 26], dtype = np.uint8)\n",
    "    match_extended = np.tile(match, int(rcv.shape[0]/len(match)))\n",
    "    \n",
    "    idx = np.argmax([np.mean(np.equal(np.packbits(np.roll(np.unpackbits(rcv), i)), match_extended)) for i in range(15 * 8)])\n",
    "    \n",
    "    to_write = np.packbits(np.roll(np.unpackbits(rcv), idx))\n",
    "    \n",
    "    with open(\"output2.data\", \"wb\") as f:\n",
    "        f.write(to_write)"
   ]
  },
  {
   "cell_type": "code",
   "execution_count": null,
   "metadata": {},
   "outputs": [],
   "source": [
    "def step2():\n",
    "    process=subprocess.Popen([\"python2\", \"BCH_Recoder.py\"],\n",
    "                             stdin=subprocess.PIPE,\n",
    "                             stdout=subprocess.PIPE,\n",
    "                             stderr=subprocess.PIPE)\n",
    "\n",
    "\n",
    "    #time.sleep(10)\n",
    "\n",
    "    # while os.stat(\"output.data\").st_size < os.stat(\"orig_pinguim.bmp\").st_size * 2:\n",
    "    #     pass\n",
    "\n",
    "    inputdata= b\" \"\n",
    "    stdoutdata,stderrdata=process.communicate(input=inputdata)\n",
    "    \n",
    "    return"
   ]
  },
  {
   "cell_type": "code",
   "execution_count": null,
   "metadata": {},
   "outputs": [],
   "source": [
    "def step3(file):\n",
    "    with open(file, \"rb\")as f:\n",
    "        _ = f.read()\n",
    "    \n",
    "    final = np.frombuffer(_, dtype = np.uint8)\n",
    "    \n",
    "    tx = np.array([0, 255, 40, 250, 37, 42, 186], dtype = np.uint8)\n",
    "    match_extended_final = np.tile(tx, int(final.shape[0]/len(tx)))\n",
    "    \n",
    "    return (1 - np.mean(np.equal(np.unpackbits(final), np.unpackbits(match_extended_final))))"
   ]
  },
  {
   "cell_type": "code",
   "execution_count": null,
   "metadata": {},
   "outputs": [],
   "source": []
  },
  {
   "cell_type": "markdown",
   "metadata": {},
   "source": [
    "Gerar top_block.py no gnuradio, depois no terminal: python2 top_block.py -> output.txt"
   ]
  },
  {
   "cell_type": "code",
   "execution_count": null,
   "metadata": {},
   "outputs": [],
   "source": [
    "%%time\n",
    "step1(\"output.data\")"
   ]
  },
  {
   "cell_type": "code",
   "execution_count": null,
   "metadata": {},
   "outputs": [],
   "source": [
    "%%time\n",
    "step2()"
   ]
  },
  {
   "cell_type": "code",
   "execution_count": null,
   "metadata": {},
   "outputs": [],
   "source": [
    "%%time\n",
    "step3(\"output3.data\")"
   ]
  },
  {
   "cell_type": "code",
   "execution_count": null,
   "metadata": {},
   "outputs": [],
   "source": [
    "get_SNR(\"output.txt\"), step3(\"output3.data\")"
   ]
  },
  {
   "cell_type": "code",
   "execution_count": null,
   "metadata": {},
   "outputs": [],
   "source": []
  },
  {
   "cell_type": "markdown",
   "metadata": {},
   "source": [
    "## <font color = red> Quanto mais baixo o SNR, maior a chance de ocorrer problemas na recepção, mais chance do resultado obtido ser ruim\n",
    "    \n",
    "# <font color = blue> Resultados obtidos simulados\n",
    "  <font color = blue> SNR Média, SNR STD, BER\n",
    "\n",
    "     \n",
    "      "
   ]
  },
  {
   "cell_type": "markdown",
   "metadata": {},
   "source": [
    "((6.431067191780822, 0.22504306409420496), 0.00010883928571425727) -> 2nd and 4th\n",
    "\n",
    "((5.718607230095759, 1.1661024738189016), 0.0001303571428571404) -> Skew\n"
   ]
  },
  {
   "cell_type": "code",
   "execution_count": null,
   "metadata": {},
   "outputs": [],
   "source": [
    "a = \"\"\"\n",
    "((11.87596506849315, 0.27409708998581855), 0.0)\n",
    "\n",
    "((10.632518561643836, 0.5444092597158589), 0.0)\n",
    "\n",
    "((9.643535136986301, 0.3791730134233486), 0.0)\n",
    "\n",
    "((7.445212465753424, 0.3496959348609927), 7.767857142848555e-06)\n",
    "\n",
    "((7.067593767123286, 0.2606505527249247), 3.607142857142698e-05)\n",
    "\n",
    "((5.600923698630137, 0.3705099114197793), 0.0007822321428571088)\n",
    "\n",
    "((3.955382602739726, 0.39780842285182433), 0.01158276785714285)\n",
    "\n",
    "((3.628972671232876, 0.389460811463942), 0.01671410714285715)\n",
    "\n",
    "((3.1698814383561644, 0.47569910301387486), 0.030747589285714305)\n",
    "\n",
    "((6.431067191780822, 0.22504306409420496), 0.00010883928571425727)\n",
    "\n",
    "((5.718607230095759, 1.1661024738189016), 0.0001303571428571404)\n",
    "\n",
    "((6.4866798905608745, 0.3070860797276639), 0.00012205357142858198)\n",
    "\n",
    "\"\"\""
   ]
  },
  {
   "cell_type": "code",
   "execution_count": null,
   "metadata": {},
   "outputs": [],
   "source": [
    "snr_avgs = []\n",
    "snr_stds = []\n",
    "bers = []\n",
    "\n",
    "for line in a.splitlines():\n",
    "    aux = line.replace(\"(\", \"\").replace(\")\", \"\").split(\",\")\n",
    "    if aux != [\"\"]:\n",
    "        snr_avgs.append(float(aux[0]))\n",
    "        snr_stds.append(float(aux[1]))\n",
    "        bers.append(float(aux[2]))"
   ]
  },
  {
   "cell_type": "code",
   "execution_count": null,
   "metadata": {},
   "outputs": [],
   "source": []
  },
  {
   "cell_type": "code",
   "execution_count": null,
   "metadata": {},
   "outputs": [],
   "source": [
    "import math"
   ]
  },
  {
   "cell_type": "code",
   "execution_count": null,
   "metadata": {},
   "outputs": [],
   "source": [
    "10*math.log10(15/7)"
   ]
  },
  {
   "cell_type": "code",
   "execution_count": null,
   "metadata": {},
   "outputs": [],
   "source": [
    "EbN0_min = 0\n",
    "EbN0_max = 10\n",
    "EbN0_range = range(EbN0_min, EbN0_max+1)"
   ]
  },
  {
   "cell_type": "code",
   "execution_count": null,
   "metadata": {},
   "outputs": [],
   "source": [
    "simu = np.load(\"ber_simu.npy\")"
   ]
  },
  {
   "cell_type": "code",
   "execution_count": null,
   "metadata": {},
   "outputs": [],
   "source": [
    "theory = np.load(\"ber_theory.npy\")"
   ]
  },
  {
   "cell_type": "code",
   "execution_count": null,
   "metadata": {},
   "outputs": [],
   "source": [
    "theory"
   ]
  },
  {
   "cell_type": "code",
   "execution_count": null,
   "metadata": {},
   "outputs": [],
   "source": [
    "simu"
   ]
  },
  {
   "cell_type": "code",
   "execution_count": null,
   "metadata": {},
   "outputs": [],
   "source": [
    "np.array(snr_avgs) + 10*math.log10(15/7)"
   ]
  },
  {
   "cell_type": "code",
   "execution_count": null,
   "metadata": {},
   "outputs": [],
   "source": []
  },
  {
   "cell_type": "code",
   "execution_count": null,
   "metadata": {},
   "outputs": [],
   "source": []
  },
  {
   "cell_type": "code",
   "execution_count": null,
   "metadata": {},
   "outputs": [],
   "source": [
    "plt.style.use('ggplot')\n",
    "#plt.semilogy(EbN0_range, theory, \"g-.\", label = \"BPSK + Diff.Encoding Teórico\")\n",
    "plt.semilogy(EbN0_range, simu, \"b-o\", label = \"BPSK + BCH(15, 7) Simulado\")\n",
    "plt.semilogy(np.array(snr_avgs) + 10*math.log10(15/7), bers, \"o\", color = \"brown\", label = \"BPSK + BCH(15, 7) LADAMS\")\n",
    "plt.legend()\n",
    "plt.grid()\n",
    "\n",
    "plt.title('Simulação BER - BPSK + Diff.Encoding')\n",
    "plt.xlabel('Eb/N0 (dB)')\n",
    "plt.ylabel('BER')\n",
    "plt.savefig(\"Curva.png\", dpi = 300)"
   ]
  },
  {
   "cell_type": "code",
   "execution_count": null,
   "metadata": {},
   "outputs": [],
   "source": []
  },
  {
   "cell_type": "code",
   "execution_count": null,
   "metadata": {},
   "outputs": [],
   "source": []
  }
 ],
 "metadata": {
  "kernelspec": {
   "display_name": "Python 3",
   "language": "python",
   "name": "python3"
  },
  "language_info": {
   "codemirror_mode": {
    "name": "ipython",
    "version": 3
   },
   "file_extension": ".py",
   "mimetype": "text/x-python",
   "name": "python",
   "nbconvert_exporter": "python",
   "pygments_lexer": "ipython3",
   "version": "3.6.7"
  }
 },
 "nbformat": 4,
 "nbformat_minor": 2
}
