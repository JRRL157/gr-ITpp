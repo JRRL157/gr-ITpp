{
 "cells": [
  {
   "cell_type": "code",
   "execution_count": 1,
   "metadata": {},
   "outputs": [],
   "source": [
    "%matplotlib inline\n",
    "import numpy as np\n",
    "import glob\n",
    "import matplotlib.pyplot as plt"
   ]
  },
  {
   "cell_type": "code",
   "execution_count": 2,
   "metadata": {},
   "outputs": [],
   "source": [
    "def get_SNR(file):\n",
    "    with open(file, \"rt\")as f:\n",
    "        a = f.readlines()\n",
    "    lst = []\n",
    "    for x in a:\n",
    "        if \"Value:\" in x:\n",
    "            lst.append(float(x.split(\"Value: \")[1]))\n",
    "        #print(x.split(\"bla\"))\n",
    "    lst = lst[len(lst)//2 : ]\n",
    "    return (np.array(lst).mean(), np.array(lst).std())"
   ]
  },
  {
   "cell_type": "code",
   "execution_count": 3,
   "metadata": {},
   "outputs": [],
   "source": [
    "def get_BER(file):\n",
    "    with open(file, \"rb\")as f:\n",
    "        _ = f.read()\n",
    "    \n",
    "    rcv = np.frombuffer(_, dtype = np.uint8)\n",
    "    aux = np.unpackbits(rcv)\n",
    "    \n",
    "    tx = np.array([0, 255, 40, 250, 37, 42, 186], dtype = np.uint8)\n",
    "    \n",
    "    pos = np.argmax(np.correlate(np.unpackbits(rcv), np.unpackbits(tx)))\n",
    "    rcv = np.packbits(np.roll(np.unpackbits(rcv), -pos))\n",
    "    tx_extended = np.tile(tx, int(rcv.shape[0]/len(tx)))\n",
    "    \n",
    "    return (1 - np.mean(np.equal(np.unpackbits(rcv), np.unpackbits(tx_extended))))"
   ]
  },
  {
   "cell_type": "code",
   "execution_count": 4,
   "metadata": {},
   "outputs": [],
   "source": [
    "def noDiffEnc_Corrector(file, inv = False):\n",
    "    with open(file, \"rb\")as f:\n",
    "        _ = f.read()\n",
    "    \n",
    "    rcv = np.frombuffer(_, dtype = np.uint8)\n",
    "    \n",
    "    if inv:\n",
    "        rcv = np.invert(rcv)\n",
    "    \n",
    "    tx = np.array([0, 255, 40, 250, 37, 42, 186], dtype = np.uint8)\n",
    "    \n",
    "    pos = np.argmax(np.correlate(np.unpackbits(rcv), np.unpackbits(tx)))\n",
    "    rcv = np.packbits(np.roll(np.unpackbits(rcv), -pos))\n",
    "    \n",
    "    new_arr = []\n",
    "    tx_inverted = np.invert(tx)\n",
    "    rcv_splitted = np.split(rcv, len(rcv)/len(tx))\n",
    "    for x in rcv_splitted:\n",
    "        comp1 = np.mean(np.equal(np.unpackbits(tx), np.unpackbits(x)))\n",
    "        comp2 = np.mean(np.equal(np.unpackbits(tx_inverted), np.unpackbits(x)))\n",
    "        if comp2 > comp1:\n",
    "            new_arr.append(np.invert(x))\n",
    "        else:\n",
    "            new_arr.append(x)\n",
    "    final_array = np.array(new_arr, dtype = np.uint8).ravel()\n",
    "    \n",
    "    tx_extended = np.tile(tx, int(rcv.shape[0]/len(tx)))\n",
    "    return (1 - np.mean(np.equal(np.unpackbits(final_array), np.unpackbits(tx_extended))))"
   ]
  },
  {
   "cell_type": "code",
   "execution_count": 5,
   "metadata": {},
   "outputs": [
    {
     "name": "stdout",
     "output_type": "stream",
     "text": [
      "CPU times: user 7.16 s, sys: 25 ms, total: 7.19 s\n",
      "Wall time: 7.33 s\n"
     ]
    },
    {
     "data": {
      "text/plain": [
       "((21.234275609756097, 0.09303984009090088), 0.0)"
      ]
     },
     "execution_count": 5,
     "metadata": {},
     "output_type": "execute_result"
    }
   ],
   "source": [
    "%%time\n",
    "get_SNR(\"output.txt\"), noDiffEnc_Corrector(\"output.data\", inv = True)"
   ]
  },
  {
   "cell_type": "markdown",
   "metadata": {},
   "source": [
    "## <font color = red> Quanto mais baixo o SNR, maior a chance de ocorrer problemas na recepção, mais chance do resultado obtido ser ruim\n",
    "    \n",
    "# <font color = blue> Resultados obtidos simulados\n",
    "  <font color = blue> SNR Média, SNR STD, BER\n"
   ]
  },
  {
   "cell_type": "code",
   "execution_count": 6,
   "metadata": {},
   "outputs": [],
   "source": [
    "a = \"\"\"\n",
    "\n",
    "((1.1666320823170733, 0.6277396672209425), 0.08014491071428576)\n",
    "\n",
    "((2.4590401463414633, 0.5518401309731306), 0.041552678571428525)\n",
    "\n",
    "((3.173503780487805, 0.5177808037889134), 0.02966580357142856)\n",
    "\n",
    "((4.159633292682927, 0.4127118633666211), 0.013982857142857186)\n",
    "\n",
    "((4.886723658536585, 0.33264332645185685), 0.006936071428571444)\n",
    "\n",
    "((5.445146951219512, 0.7372823545087549), 0.0045678571428571235)\n",
    "\n",
    "((5.84337987804878, 0.3201790841171277), 0.0030919642857142327)\n",
    "\n",
    "((6.97359268292683, 0.3250336988609657), 0.00095624999999999\n",
    "\n",
    "((7.410721707317074, 0.5949175267145917), 0.001135357142857174)\n",
    "\n",
    "((7.738218902439025, 0.36821937028580315), 0.00035401785714284095)\n",
    "\n",
    "((7.777842439024389, 0.30993866221875827), 0.00035642857142859086)\n",
    "\n",
    "((7.832157804878049, 0.28793140480543317), 0.0003199107142857205)\n",
    "\n",
    "((8.699727439024388, 0.30071317352867216), 9.39285714285365e-05)\n",
    "\n",
    "((9.154731585365854, 0.2470305103180059), 3.5357142857184165e-05)\n",
    "\n",
    "((9.899430853658536, 0.29068694719368376), 9.732142857155068e-06)\n",
    "\"\"\""
   ]
  },
  {
   "cell_type": "code",
   "execution_count": 7,
   "metadata": {},
   "outputs": [],
   "source": [
    "snr_avgs = []\n",
    "snr_stds = []\n",
    "bers = []\n",
    "\n",
    "for line in a.splitlines():\n",
    "    aux = line.replace(\"(\", \"\").replace(\")\", \"\").split(\",\")\n",
    "    if aux != [\"\"]:\n",
    "        snr_avgs.append(float(aux[0]))\n",
    "        snr_stds.append(float(aux[1]))\n",
    "        bers.append(float(aux[2]))"
   ]
  },
  {
   "cell_type": "code",
   "execution_count": 8,
   "metadata": {},
   "outputs": [],
   "source": [
    "def print_lst_with_slash(lst):\n",
    "    print(\"[ \\\\\")\n",
    "    for x in lst:\n",
    "        print(f\"{x}, \\\\\")\n",
    "    print(\"]\")"
   ]
  },
  {
   "cell_type": "code",
   "execution_count": null,
   "metadata": {},
   "outputs": [],
   "source": []
  },
  {
   "cell_type": "code",
   "execution_count": null,
   "metadata": {},
   "outputs": [],
   "source": []
  },
  {
   "cell_type": "code",
   "execution_count": 9,
   "metadata": {},
   "outputs": [],
   "source": [
    "EbN0_min = 0\n",
    "EbN0_max = 10\n",
    "EbN0_range = range(EbN0_min, EbN0_max+1)"
   ]
  },
  {
   "cell_type": "code",
   "execution_count": 10,
   "metadata": {},
   "outputs": [],
   "source": [
    "simu = np.load(\"simu_bpsk.npy\")"
   ]
  },
  {
   "cell_type": "code",
   "execution_count": 11,
   "metadata": {},
   "outputs": [],
   "source": [
    "theory = np.load(\"theory_bpsk.npy\")"
   ]
  },
  {
   "cell_type": "code",
   "execution_count": 12,
   "metadata": {},
   "outputs": [
    {
     "name": "stdout",
     "output_type": "stream",
     "text": [
      "['seaborn-dark-palette', 'classic', 'seaborn-darkgrid', 'dark_background', 'seaborn', 'fast', 'seaborn-muted', 'seaborn-notebook', 'tableau-colorblind10', 'seaborn-colorblind', 'seaborn-white', 'seaborn-poster', 'grayscale', 'ggplot', 'seaborn-bright', 'Solarize_Light2', 'seaborn-whitegrid', 'seaborn-talk', '_classic_test', 'fivethirtyeight', 'seaborn-dark', 'seaborn-pastel', 'seaborn-paper', 'bmh', 'seaborn-ticks', 'seaborn-deep']\n"
     ]
    }
   ],
   "source": [
    "print(plt.style.available)"
   ]
  },
  {
   "cell_type": "code",
   "execution_count": 20,
   "metadata": {},
   "outputs": [
    {
     "data": {
      "image/png": "[encoded data removed]",
      "text/plain": [
       "<Figure size 432x288 with 1 Axes>"
      ]
     },
     "metadata": {},
     "output_type": "display_data"
    }
   ],
   "source": [
    "plt.style.use('ggplot')\n",
    "plt.semilogy(EbN0_range, theory, \"g-.\", label = \"BPSK Teórico\")\n",
    "plt.semilogy(EbN0_range, simu, \"b-o\", label = \"BPSK Simulado\")\n",
    "plt.errorbar(snr_avgs, bers, xerr = np.array(snr_stds), fmt = \"o\", color = \"darkred\", capsize = 5, label = \"BPSK Experimental\")\n",
    "plt.legend()\n",
    "plt.grid()\n",
    "\n",
    "plt.title('Simulação BER - BPSK')\n",
    "plt.xlabel(r'$E_b/N_0$ (dB)')\n",
    "plt.ylabel('BER')\n",
    "plt.savefig(\"Curva.png\", dpi = 300)"
   ]
  },
  {
   "cell_type": "code",
   "execution_count": null,
   "metadata": {},
   "outputs": [],
   "source": []
  },
  {
   "cell_type": "code",
   "execution_count": null,
   "metadata": {},
   "outputs": [],
   "source": []
  }
 ],
 "metadata": {
  "kernelspec": {
   "display_name": "Python 3",
   "language": "python",
   "name": "python3"
  },
  "language_info": {
   "codemirror_mode": {
    "name": "ipython",
    "version": 3
   },
   "file_extension": ".py",
   "mimetype": "text/x-python",
   "name": "python",
   "nbconvert_exporter": "python",
   "pygments_lexer": "ipython3",
   "version": "3.6.8"
  }
 },
 "nbformat": 4,
 "nbformat_minor": 4
}
