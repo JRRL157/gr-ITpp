{
 "cells": [
  {
   "cell_type": "code",
   "execution_count": 12,
   "metadata": {},
   "outputs": [],
   "source": [
    "import numpy as np\n",
    "def ler(file):\n",
    "    with open(file, \"rb\")as f:\n",
    "        a = f.read()\n",
    "    return (np.array([int(x) for x in a]))\n",
    "\n",
    "in1 = ler(\"teste.rafa\")"
   ]
  },
  {
   "cell_type": "code",
   "execution_count": 13,
   "metadata": {},
   "outputs": [
    {
     "name": "stdout",
     "output_type": "stream",
     "text": [
      "100000\n"
     ]
    }
   ],
   "source": [
    "print(len(in1))\n",
    "in1 = in1[5:]"
   ]
  },
  {
   "cell_type": "code",
   "execution_count": 4,
   "metadata": {},
   "outputs": [],
   "source": [
    "comparar = [1 if (i//8) % 2 == 1 else 0 for i in range(100000-5)]"
   ]
  },
  {
   "cell_type": "code",
   "execution_count": 5,
   "metadata": {},
   "outputs": [
    {
     "data": {
      "text/plain": [
       "(array([ 5927,  5928,  5932,  6044,  6045,  6069,  6070,  6071,  6072,\n",
       "         6074,  6075,  6115,  6116,  6118,  6119,  6125,  6126,  6193,\n",
       "         6194,  6322,  6323,  6365,  6366, 21670, 21671, 21672, 21673,\n",
       "        21674, 21675, 21676, 21722, 21723, 21724, 21725, 21726, 21746,\n",
       "        21747, 21784, 21794, 21807, 21815, 21816, 21817, 21825, 21826,\n",
       "        21827, 21873, 21874, 21886, 21887, 21888, 21917, 21918, 21923,\n",
       "        21924, 21978, 21979, 21980, 21990, 21992, 21996, 21997, 21999,\n",
       "        22000, 22046, 22047, 22051, 22052, 22068, 22069, 40165, 40166,\n",
       "        40171, 40172, 40205, 40213, 40228, 40251, 40252, 40253, 40254,\n",
       "        40327, 40328, 40343, 40344, 40348, 40349, 40355, 40356, 40361,\n",
       "        40362, 40376, 40377, 40430, 40432, 40457, 40458, 40459, 40460,\n",
       "        40501, 40502, 40537, 40539, 40558, 40559, 40560, 40561, 40575,\n",
       "        40576, 40590, 40591, 40597, 40598, 40603, 40604, 40605, 40620,\n",
       "        40626, 40627, 56570, 56571, 56596, 56597, 56598, 56613, 56616,\n",
       "        56617, 56624, 56625, 56631, 56647, 56648, 56650, 56653, 56654,\n",
       "        56664, 56673, 56674, 56678, 56688, 56698, 56699, 56704, 56705,\n",
       "        56712, 56713, 56716, 56723, 56725, 56737, 56738, 56756, 56757,\n",
       "        56769, 56771, 56796, 56797, 56801, 56802, 56821, 56822, 56855,\n",
       "        56856, 56870, 56871, 56872, 56873, 56894, 56895, 56899, 56900,\n",
       "        56924, 56925, 56927, 56930, 56931, 56933, 56934, 56949, 56952,\n",
       "        56954, 56955, 56956, 56962, 56966, 56967, 56968, 56971, 56972,\n",
       "        56990, 56991, 56997, 56998, 57007, 57009, 57010, 71367, 71368,\n",
       "        71388, 71389, 71393, 71394, 71416, 71418, 71452, 71453, 71479,\n",
       "        71480, 71518, 71519, 71548, 71549, 71552, 71553, 71554, 71598,\n",
       "        71599, 71604, 71605, 71607, 71627, 71628, 71669, 71670, 71690,\n",
       "        71691, 71753, 71754, 71755, 71768, 71769, 71771, 71772, 71790,\n",
       "        71791, 71792, 71793]),)"
      ]
     },
     "execution_count": 5,
     "metadata": {},
     "output_type": "execute_result"
    }
   ],
   "source": [
    "import numpy as np\n",
    "np.where(np.bitwise_xor(comparar, in1) == 1)"
   ]
  },
  {
   "cell_type": "code",
   "execution_count": 6,
   "metadata": {},
   "outputs": [
    {
     "data": {
      "image/png": "[encoded data removed]",
      "text/plain": [
       "<Figure size 432x288 with 1 Axes>"
      ]
     },
     "metadata": {},
     "output_type": "display_data"
    }
   ],
   "source": [
    "%matplotlib inline\n",
    "import matplotlib.pyplot as plt\n",
    "\n",
    "plt.plot(np.bitwise_xor(comparar, in1))\n",
    "plt.show()"
   ]
  },
  {
   "cell_type": "code",
   "execution_count": 7,
   "metadata": {},
   "outputs": [
    {
     "data": {
      "text/plain": [
       "99995"
      ]
     },
     "execution_count": 7,
     "metadata": {},
     "output_type": "execute_result"
    }
   ],
   "source": [
    "len(in1)"
   ]
  },
  {
   "cell_type": "code",
   "execution_count": null,
   "metadata": {},
   "outputs": [],
   "source": []
  }
 ],
 "metadata": {
  "kernelspec": {
   "display_name": "Python 3",
   "language": "python",
   "name": "python3"
  },
  "language_info": {
   "codemirror_mode": {
    "name": "ipython",
    "version": 3
   },
   "file_extension": ".py",
   "mimetype": "text/x-python",
   "name": "python",
   "nbconvert_exporter": "python",
   "pygments_lexer": "ipython3",
   "version": "3.6.7"
  }
 },
 "nbformat": 4,
 "nbformat_minor": 2
}
