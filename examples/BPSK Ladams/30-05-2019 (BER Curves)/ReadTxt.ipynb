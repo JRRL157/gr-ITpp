{
 "cells": [
  {
   "cell_type": "code",
   "execution_count": 1,
   "metadata": {},
   "outputs": [],
   "source": [
    "%matplotlib inline\n",
    "import numpy as np\n",
    "import glob\n",
    "import matplotlib.pyplot as plt"
   ]
  },
  {
   "cell_type": "code",
   "execution_count": 2,
   "metadata": {},
   "outputs": [],
   "source": [
    "def get_SNR(file):\n",
    "    with open(file, \"rt\")as f:\n",
    "        a = f.readlines()\n",
    "    lst = []\n",
    "    for x in a:\n",
    "        if \"Value:\" in x:\n",
    "            lst.append(float(x.split(\"Value: \")[1]))\n",
    "        #print(x.split(\"bla\"))\n",
    "    lst = lst[len(lst)//2 : ]\n",
    "    return (np.array(lst).mean(), np.array(lst).std())"
   ]
  },
  {
   "cell_type": "code",
   "execution_count": 3,
   "metadata": {},
   "outputs": [],
   "source": [
    "def get_BER(file):\n",
    "    with open(file, \"rb\")as f:\n",
    "        _ = f.read()\n",
    "    \n",
    "    rcv = np.frombuffer(_, dtype = np.uint8)\n",
    "    aux = np.unpackbits(rcv)\n",
    "    \n",
    "    tx = np.array([0, 255, 40, 250, 37, 42, 186], dtype = np.uint8)\n",
    "    \n",
    "    pos = np.argmax(np.correlate(np.unpackbits(rcv), np.unpackbits(tx)))\n",
    "    rcv = np.packbits(np.roll(np.unpackbits(rcv), -pos))\n",
    "    tx_extended = np.tile(tx, int(rcv.shape[0]/len(tx)))\n",
    "    \n",
    "    return (1 - np.mean(np.equal(np.unpackbits(rcv), np.unpackbits(tx_extended))))"
   ]
  },
  {
   "cell_type": "code",
   "execution_count": 4,
   "metadata": {},
   "outputs": [
    {
     "data": {
      "text/plain": [
       "((0.9599895756097561, 0.7407993636859767), 0.37847946428571433)"
      ]
     },
     "execution_count": 4,
     "metadata": {},
     "output_type": "execute_result"
    }
   ],
   "source": [
    "get_SNR(\"output.txt\"), get_BER(\"output.data\")"
   ]
  },
  {
   "cell_type": "markdown",
   "metadata": {},
   "source": [
    "# <font color = green> Prática\n",
    "## <font color = green> Resultados Práticos LADAMS 30-05-2019\n",
    "\n",
    "((8.77181475609756, 0.3008606065136641), 0.00011125000000000718)\n",
    "    \n",
    "((9.453242804878048, 0.2658462860709971), 5.750000000004363e-05)\n",
    "    \n",
    "((9.185610609756099, 0.41476179242074274), 6.71428571428212e-05)\n",
    " \n",
    "((8.866623902439025, 0.294986507995544), 0.00012339285714291215)\n",
    "    \n",
    "((9.622166951219514, 1.0398465335264846), 9.821428571432644e-05)\n",
    "    \n",
    "((7.299375609756098, 0.4045579303963518), 0.0012450000000000516)\n",
    "    \n",
    "((8.326575731707317, 0.3724866355960107), 0.00021571428571431905)\n",
    "\n",
    "((8.312029146341462, 0.3077140684902663), 0.00032517857142855267)\n",
    "    \n",
    "((7.940162195121952, 0.3362863245807945), 0.000555892857142859)\n",
    "    \n",
    "((7.677484634146342, 0.4720197150109438), 0.0008541071428571634)\n",
    "    \n",
    "((7.196679512195122, 0.36906409942930907), 0.0016087500000000476)\n",
    "    \n",
    "((6.656667560975608, 0.7205276147880108), 0.00736196428571434)\n",
    "    \n",
    "((6.148087317073171, 0.46101472650952874), 0.004378035714285744)\n",
    "    \n",
    "((6.152908048780488, 0.4564571152149335), 0.005261785714285705)\n",
    "    \n",
    "((5.738601097560975, 0.3539560330833654), 0.006016428571428589)\n",
    "    \n",
    "((5.664774146341463, 0.46128925697427753), 0.007335714285714334)\n",
    "    \n",
    "((5.975970975609757, 0.3962771078751301), 0.006683392857142811)\n",
    "    \n",
    "((5.609125853658536, 0.40069386390741213), 0.009343749999999984)\n",
    "    \n",
    "((4.871975853658536, 0.36648653154619343), 0.015108035714285761)\n",
    "    \n",
    "((4.757507073170731, 0.44422195188915886), 0.016901964285714333)\n",
    "    \n",
    "((4.73768756097561, 0.42975463548220333), 0.01720624999999998)\n",
    "    \n",
    "((4.358575853658537, 0.4557306226589884), 0.025262857142857142)\n",
    "\n",
    "((4.088783414634146, 0.4393728217091186), 0.029167142857142836)\n",
    "    \n",
    "((3.2637823170731703, 0.48080871682395643), 0.04642928571428573)\n",
    "\n",
    "((3.008432317073171, 0.5724265929278379), 0.05466955357142855)\n",
    "    \n",
    "((2.7222030487804876, 0.592429401743753), 0.06464499999999995)\n",
    "    \n",
    "((2.2896656707317073, 0.5400288501046654), 0.08012241071428572)\n",
    "\n",
    "((2.200523975609756, 0.576617786304208), 0.09242982142857148)\n",
    "    \n",
    "((2.136821512195122, 0.5707870921366698), 0.09523526785714287)\n",
    "    \n",
    "((1.7423239512195121, 0.5266635261929552), 0.11058017857142854)\n",
    "    \n",
    "((1.3681217646341464, 0.652248873057914), 0.12351500000000004)\n",
    "    \n",
    "((0.9599895756097561, 0.7407993636859767), 0.37847946428571433)"
   ]
  },
  {
   "cell_type": "code",
   "execution_count": null,
   "metadata": {},
   "outputs": [],
   "source": []
  },
  {
   "cell_type": "code",
   "execution_count": null,
   "metadata": {},
   "outputs": [],
   "source": []
  },
  {
   "cell_type": "code",
   "execution_count": null,
   "metadata": {},
   "outputs": [],
   "source": []
  },
  {
   "cell_type": "markdown",
   "metadata": {},
   "source": [
    "## <font color = red> Quanto mais baixo o SNR, maior a chance de ocorrer problemas na recepção (de sincronismo)\n",
    "    \n",
    "# <font color = blue> Resultados obtidos simulados\n",
    "  <font color = blue> SNR Média, SNR STD, BER\n",
    "\n",
    "Apagar valores simulados abaixo:   \n",
    "((8.826337619047617, 0.21273435929088308), 9.071428571427731e-05)\n",
    "\n",
    "((6.8066040476190475, 0.28506995506583255), 0.0017678571428570988)\n",
    "      \n",
    "((5.646766904761905, 0.3240655694931131), 0.006025714285714301)\n",
    "      \n",
    "((4.895880238095238, 0.3273309594532878), 0.01183071428571425)\n",
    "\n",
    "((4.073850238095237, 0.3813042886717472), 0.02215964285714289)\n",
    "\n",
    "((3.3837152380952387, 0.4476759898378785), 0.03355857142857144)\n",
    "    \n",
    "((2.7745838095238096, 0.39313112472601897), 0.05014678571428577)\n",
    "      \n",
    "((2.122036190476191, 0.4174985024949042), 0.06802267857142852)\n",
    "      \n",
    "((1.9535068571428573, 0.5848953002822517), 0.06948750000000004)\n",
    "     \n",
    "((0.910838619047619, 0.47787939621922904), 0.3007546428571428)\n",
    "      \n",
    "((9.45187457142857, 0.2101319170336693), 1.7142857142826706e-05)\n",
    "\n",
    "((8.207789999999997, 0.21913430407596426), 0.00022732142857140314)\n",
    "      \n",
    "((7.191252714285715, 0.2537358722480718), 0.0011891071428571376)\n",
    "      \n",
    "((7.516995428571428, 0.25338429086319647), 0.0007219642857142494)"
   ]
  },
  {
   "cell_type": "code",
   "execution_count": 5,
   "metadata": {},
   "outputs": [],
   "source": [
    "a = \"\"\"\n",
    "((8.77181475609756, 0.3008606065136641), 0.00011125000000000718)\n",
    "\n",
    "((9.453242804878048, 0.2658462860709971), 5.750000000004363e-05)\n",
    "\n",
    "((9.185610609756099, 0.41476179242074274), 6.71428571428212e-05)\n",
    "\n",
    "((8.866623902439025, 0.294986507995544), 0.00012339285714291215)\n",
    "\n",
    "((9.622166951219514, 1.0398465335264846), 9.821428571432644e-05)\n",
    "\n",
    "((7.299375609756098, 0.4045579303963518), 0.0012450000000000516)\n",
    "\n",
    "((8.326575731707317, 0.3724866355960107), 0.00021571428571431905)\n",
    "\n",
    "((8.312029146341462, 0.3077140684902663), 0.00032517857142855267)\n",
    "\n",
    "((7.940162195121952, 0.3362863245807945), 0.000555892857142859)\n",
    "\n",
    "((7.677484634146342, 0.4720197150109438), 0.0008541071428571634)\n",
    "\n",
    "((7.196679512195122, 0.36906409942930907), 0.0016087500000000476)\n",
    "\n",
    "((6.656667560975608, 0.7205276147880108), 0.00736196428571434)\n",
    "\n",
    "((6.148087317073171, 0.46101472650952874), 0.004378035714285744)\n",
    "\n",
    "((6.152908048780488, 0.4564571152149335), 0.005261785714285705)\n",
    "\n",
    "((5.738601097560975, 0.3539560330833654), 0.006016428571428589)\n",
    "\n",
    "((5.664774146341463, 0.46128925697427753), 0.007335714285714334)\n",
    "\n",
    "((5.975970975609757, 0.3962771078751301), 0.006683392857142811)\n",
    "\n",
    "((5.609125853658536, 0.40069386390741213), 0.009343749999999984)\n",
    "\n",
    "((4.871975853658536, 0.36648653154619343), 0.015108035714285761)\n",
    "\n",
    "((4.757507073170731, 0.44422195188915886), 0.016901964285714333)\n",
    "\n",
    "((4.73768756097561, 0.42975463548220333), 0.01720624999999998)\n",
    "\n",
    "((4.358575853658537, 0.4557306226589884), 0.025262857142857142)\n",
    "\n",
    "((4.088783414634146, 0.4393728217091186), 0.029167142857142836)\n",
    "\n",
    "((3.2637823170731703, 0.48080871682395643), 0.04642928571428573)\n",
    "\n",
    "((3.008432317073171, 0.5724265929278379), 0.05466955357142855)\n",
    "\n",
    "((2.7222030487804876, 0.592429401743753), 0.06464499999999995)\n",
    "\n",
    "((2.2896656707317073, 0.5400288501046654), 0.08012241071428572)\n",
    "\n",
    "((2.200523975609756, 0.576617786304208), 0.09242982142857148)\n",
    "\n",
    "((2.136821512195122, 0.5707870921366698), 0.09523526785714287)\n",
    "\n",
    "((1.7423239512195121, 0.5266635261929552), 0.11058017857142854)\n",
    "\n",
    "((1.3681217646341464, 0.652248873057914), 0.12351500000000004)\n",
    "\n",
    "((0.9599895756097561, 0.7407993636859767), 0.37847946428571433)\n",
    "\"\"\""
   ]
  },
  {
   "cell_type": "code",
   "execution_count": 6,
   "metadata": {},
   "outputs": [],
   "source": [
    "snr_avgs = []\n",
    "snr_stds = []\n",
    "bers = []\n",
    "\n",
    "for line in a.splitlines():\n",
    "    aux = line.replace(\"(\", \"\").replace(\")\", \"\").split(\",\")\n",
    "    if aux != [\"\"]:\n",
    "        snr_avgs.append(float(aux[0]))\n",
    "        snr_stds.append(float(aux[1]))\n",
    "        bers.append(float(aux[2]))"
   ]
  },
  {
   "cell_type": "code",
   "execution_count": 7,
   "metadata": {},
   "outputs": [],
   "source": [
    "def print_lst_with_slash(lst):\n",
    "    print(\"[ \\\\\")\n",
    "    for x in lst:\n",
    "        print(f\"{x}, \\\\\")\n",
    "    print(\"]\")"
   ]
  },
  {
   "cell_type": "code",
   "execution_count": null,
   "metadata": {},
   "outputs": [],
   "source": []
  },
  {
   "cell_type": "code",
   "execution_count": 8,
   "metadata": {},
   "outputs": [],
   "source": [
    "EbN0_min = 0\n",
    "EbN0_max = 10\n",
    "EbN0_range = range(EbN0_min, EbN0_max+1)"
   ]
  },
  {
   "cell_type": "code",
   "execution_count": 9,
   "metadata": {},
   "outputs": [],
   "source": [
    "simu = np.load(\"ber_simu.npy\")"
   ]
  },
  {
   "cell_type": "code",
   "execution_count": 10,
   "metadata": {},
   "outputs": [],
   "source": [
    "theory = np.load(\"ber_theory.npy\")"
   ]
  },
  {
   "cell_type": "code",
   "execution_count": 11,
   "metadata": {},
   "outputs": [
    {
     "name": "stdout",
     "output_type": "stream",
     "text": [
      "['seaborn-dark-palette', 'classic', 'seaborn-darkgrid', 'dark_background', 'seaborn', 'fast', 'seaborn-muted', 'seaborn-notebook', 'tableau-colorblind10', 'seaborn-colorblind', 'seaborn-white', 'seaborn-poster', 'grayscale', 'ggplot', 'seaborn-bright', 'Solarize_Light2', 'seaborn-whitegrid', 'seaborn-talk', '_classic_test', 'fivethirtyeight', 'seaborn-dark', 'seaborn-pastel', 'seaborn-paper', 'bmh', 'seaborn-ticks', 'seaborn-deep']\n"
     ]
    }
   ],
   "source": [
    "print(plt.style.available)"
   ]
  },
  {
   "cell_type": "code",
   "execution_count": 13,
   "metadata": {},
   "outputs": [
    {
     "data": {
      "image/png": "[encoded data removed]",
      "text/plain": [
       "<Figure size 432x288 with 1 Axes>"
      ]
     },
     "metadata": {},
     "output_type": "display_data"
    }
   ],
   "source": [
    "plt.style.use('ggplot')\n",
    "plt.semilogy(EbN0_range, theory, \"g-.\", label = \"Teórico\")\n",
    "plt.semilogy(EbN0_range, simu, \"b-o\", label = \"Simulado\")\n",
    "# plt.plot(snr_avgs, bers, \"r.\", label = \"Prático LADAMS 30-05-2019\")\n",
    "\n",
    "plt.errorbar(snr_avgs, bers, xerr = snr_stds, fmt = \"o\", color = \"indigo\", capsize = 5, label = \"Experimental\")\n",
    "\n",
    "plt.legend()\n",
    "plt.grid()\n",
    "\n",
    "plt.title(r'Resultado experimental BER'\n",
    "          \"\\n\"\n",
    "          r'DE-BPSK')\n",
    "plt.xlabel(r'$E_b/N_0$ (dB)')\n",
    "plt.ylabel('BER')\n",
    "plt.savefig(\"de-bpsk.png\", dpi = 300)"
   ]
  },
  {
   "cell_type": "code",
   "execution_count": null,
   "metadata": {},
   "outputs": [],
   "source": []
  },
  {
   "cell_type": "code",
   "execution_count": null,
   "metadata": {},
   "outputs": [],
   "source": []
  }
 ],
 "metadata": {
  "kernelspec": {
   "display_name": "Python 3",
   "language": "python",
   "name": "python3"
  },
  "language_info": {
   "codemirror_mode": {
    "name": "ipython",
    "version": 3
   },
   "file_extension": ".py",
   "mimetype": "text/x-python",
   "name": "python",
   "nbconvert_exporter": "python",
   "pygments_lexer": "ipython3",
   "version": "3.6.8"
  }
 },
 "nbformat": 4,
 "nbformat_minor": 4
}
