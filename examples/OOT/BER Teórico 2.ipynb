{
 "cells": [
  {
   "cell_type": "code",
   "execution_count": 1,
   "metadata": {},
   "outputs": [],
   "source": [
    "%matplotlib inline\n",
    "import numpy as np\n",
    "import matplotlib.pyplot as plt"
   ]
  },
  {
   "cell_type": "code",
   "execution_count": 2,
   "metadata": {},
   "outputs": [],
   "source": [
    "from scipy.special import erfc\n",
    "import math\n",
    "\n",
    "def Q(x):\n",
    "    return (0.5 * erfc(x/(np.sqrt(2))))"
   ]
  },
  {
   "cell_type": "code",
   "execution_count": null,
   "metadata": {},
   "outputs": [],
   "source": []
  },
  {
   "cell_type": "code",
   "execution_count": 3,
   "metadata": {},
   "outputs": [],
   "source": [
    "def Pb_BPSK(EbN0):\n",
    "    return Q(np.sqrt(2*EbN0))"
   ]
  },
  {
   "cell_type": "code",
   "execution_count": 4,
   "metadata": {},
   "outputs": [],
   "source": [
    "def Pb_DE_BPSK(EbN0):\n",
    "    return 2 * Q(np.sqrt(2*EbN0)) - 2 * Q(np.sqrt(2*EbN0))**2"
   ]
  },
  {
   "cell_type": "code",
   "execution_count": 5,
   "metadata": {},
   "outputs": [],
   "source": [
    "def Pb_QPSK(EbN0):\n",
    "    return Q(np.sqrt(2*EbN0))"
   ]
  },
  {
   "cell_type": "code",
   "execution_count": 6,
   "metadata": {},
   "outputs": [],
   "source": [
    "def Pb_DE_QPSK(EbN0):\n",
    "    return 2 * Q(np.sqrt(2*EbN0)) * (1 - Q(np.sqrt(2*EbN0)))"
   ]
  },
  {
   "cell_type": "code",
   "execution_count": null,
   "metadata": {},
   "outputs": [],
   "source": []
  },
  {
   "cell_type": "code",
   "execution_count": 7,
   "metadata": {},
   "outputs": [],
   "source": [
    "def dB(x):\n",
    "    return 10 * math.log10(x)\n",
    "def from_dB(x):\n",
    "    return math.pow(10, x/10)"
   ]
  },
  {
   "cell_type": "code",
   "execution_count": 8,
   "metadata": {},
   "outputs": [],
   "source": [
    "def berawgn_BPSK(EbN0):\n",
    "    \"\"\" Calculates theoretical bit error rate in AWGN (for BPSK and given Eb/N0) \"\"\"\n",
    "    return Pb_BPSK(from_dB(EbN0))"
   ]
  },
  {
   "cell_type": "code",
   "execution_count": null,
   "metadata": {},
   "outputs": [],
   "source": []
  },
  {
   "cell_type": "code",
   "execution_count": null,
   "metadata": {},
   "outputs": [],
   "source": []
  },
  {
   "cell_type": "code",
   "execution_count": 9,
   "metadata": {},
   "outputs": [],
   "source": [
    "x_data = np.linspace(0, 10, 100 + 1)"
   ]
  },
  {
   "cell_type": "code",
   "execution_count": 10,
   "metadata": {},
   "outputs": [],
   "source": [
    "y_data_bpsk = [Pb_BPSK(from_dB(x)) for x in x_data]\n",
    "y_data_dbpsk = [Pb_DE_BPSK(from_dB(x)) for x in x_data]"
   ]
  },
  {
   "cell_type": "code",
   "execution_count": 11,
   "metadata": {},
   "outputs": [
    {
     "data": {
      "image/png": "[encoded data removed]",
      "text/plain": [
       "<Figure size 432x288 with 1 Axes>"
      ]
     },
     "metadata": {
      "needs_background": "light"
     },
     "output_type": "display_data"
    }
   ],
   "source": [
    "plt.semilogy(x_data, y_data_bpsk, label = \"BPSK\")\n",
    "plt.semilogy(x_data, y_data_dbpsk, label = \"DE-BPSK\")\n",
    "plt.legend()\n",
    "plt.title(\"BER Teórico\")\n",
    "plt.xlabel(\"$E_b/N_0$ (dB)\")\n",
    "plt.ylabel(\"BER\")\n",
    "plt.grid()\n",
    "# plt.savefig(\"a.pdf\", dpi = 200)"
   ]
  },
  {
   "cell_type": "code",
   "execution_count": 12,
   "metadata": {},
   "outputs": [],
   "source": [
    "import pandas as pd"
   ]
  },
  {
   "cell_type": "code",
   "execution_count": 13,
   "metadata": {},
   "outputs": [],
   "source": [
    "pd_data = np.array([x_data, y_data_bpsk, y_data_dbpsk]).T"
   ]
  },
  {
   "cell_type": "code",
   "execution_count": 14,
   "metadata": {},
   "outputs": [],
   "source": [
    "dF = pd.DataFrame(data = pd_data, columns = [\"Eb/N0\", \"BPSK\", \"DE-BPSK\"])"
   ]
  },
  {
   "cell_type": "code",
   "execution_count": 15,
   "metadata": {},
   "outputs": [],
   "source": [
    "pd.set_option('display.float_format', lambda x: '%.8f' % x)"
   ]
  },
  {
   "cell_type": "code",
   "execution_count": 16,
   "metadata": {},
   "outputs": [
    {
     "data": {
      "text/html": [
       "<div>\n",
       "<style scoped>\n",
       "    .dataframe tbody tr th:only-of-type {\n",
       "        vertical-align: middle;\n",
       "    }\n",
       "\n",
       "    .dataframe tbody tr th {\n",
       "        vertical-align: top;\n",
       "    }\n",
       "\n",
       "    .dataframe thead th {\n",
       "        text-align: right;\n",
       "    }\n",
       "</style>\n",
       "<table border=\"1\" class=\"dataframe\">\n",
       "  <thead>\n",
       "    <tr style=\"text-align: right;\">\n",
       "      <th></th>\n",
       "      <th>Eb/N0</th>\n",
       "      <th>BPSK</th>\n",
       "      <th>DE-BPSK</th>\n",
       "    </tr>\n",
       "  </thead>\n",
       "  <tbody>\n",
       "    <tr>\n",
       "      <td>0</td>\n",
       "      <td>0.00000000</td>\n",
       "      <td>0.07864960</td>\n",
       "      <td>0.14492769</td>\n",
       "    </tr>\n",
       "    <tr>\n",
       "      <td>1</td>\n",
       "      <td>0.10000000</td>\n",
       "      <td>0.07627397</td>\n",
       "      <td>0.14091250</td>\n",
       "    </tr>\n",
       "    <tr>\n",
       "      <td>2</td>\n",
       "      <td>0.20000000</td>\n",
       "      <td>0.07392678</td>\n",
       "      <td>0.13692323</td>\n",
       "    </tr>\n",
       "    <tr>\n",
       "      <td>3</td>\n",
       "      <td>0.30000000</td>\n",
       "      <td>0.07160898</td>\n",
       "      <td>0.13296228</td>\n",
       "    </tr>\n",
       "    <tr>\n",
       "      <td>4</td>\n",
       "      <td>0.40000000</td>\n",
       "      <td>0.06932149</td>\n",
       "      <td>0.12903204</td>\n",
       "    </tr>\n",
       "    <tr>\n",
       "      <td>...</td>\n",
       "      <td>...</td>\n",
       "      <td>...</td>\n",
       "      <td>...</td>\n",
       "    </tr>\n",
       "    <tr>\n",
       "      <td>96</td>\n",
       "      <td>9.60000000</td>\n",
       "      <td>0.00000974</td>\n",
       "      <td>0.00001947</td>\n",
       "    </tr>\n",
       "    <tr>\n",
       "      <td>97</td>\n",
       "      <td>9.70000000</td>\n",
       "      <td>0.00000779</td>\n",
       "      <td>0.00001558</td>\n",
       "    </tr>\n",
       "    <tr>\n",
       "      <td>98</td>\n",
       "      <td>9.80000000</td>\n",
       "      <td>0.00000620</td>\n",
       "      <td>0.00001241</td>\n",
       "    </tr>\n",
       "    <tr>\n",
       "      <td>99</td>\n",
       "      <td>9.90000000</td>\n",
       "      <td>0.00000491</td>\n",
       "      <td>0.00000983</td>\n",
       "    </tr>\n",
       "    <tr>\n",
       "      <td>100</td>\n",
       "      <td>10.00000000</td>\n",
       "      <td>0.00000387</td>\n",
       "      <td>0.00000774</td>\n",
       "    </tr>\n",
       "  </tbody>\n",
       "</table>\n",
       "<p>101 rows × 3 columns</p>\n",
       "</div>"
      ],
      "text/plain": [
       "          Eb/N0       BPSK    DE-BPSK\n",
       "0    0.00000000 0.07864960 0.14492769\n",
       "1    0.10000000 0.07627397 0.14091250\n",
       "2    0.20000000 0.07392678 0.13692323\n",
       "3    0.30000000 0.07160898 0.13296228\n",
       "4    0.40000000 0.06932149 0.12903204\n",
       "..          ...        ...        ...\n",
       "96   9.60000000 0.00000974 0.00001947\n",
       "97   9.70000000 0.00000779 0.00001558\n",
       "98   9.80000000 0.00000620 0.00001241\n",
       "99   9.90000000 0.00000491 0.00000983\n",
       "100 10.00000000 0.00000387 0.00000774\n",
       "\n",
       "[101 rows x 3 columns]"
      ]
     },
     "execution_count": 16,
     "metadata": {},
     "output_type": "execute_result"
    }
   ],
   "source": [
    "dF"
   ]
  },
  {
   "cell_type": "code",
   "execution_count": 17,
   "metadata": {},
   "outputs": [],
   "source": [
    "##################"
   ]
  },
  {
   "cell_type": "code",
   "execution_count": 18,
   "metadata": {},
   "outputs": [],
   "source": [
    "y_data_qpsk = [Pb_QPSK(from_dB(x)) for x in x_data]\n",
    "y_data_dqpsk = [Pb_DE_QPSK(from_dB(x)) for x in x_data]"
   ]
  },
  {
   "cell_type": "code",
   "execution_count": 19,
   "metadata": {},
   "outputs": [
    {
     "data": {
      "image/png": "[encoded data removed]",
      "text/plain": [
       "<Figure size 432x288 with 1 Axes>"
      ]
     },
     "metadata": {
      "needs_background": "light"
     },
     "output_type": "display_data"
    }
   ],
   "source": [
    "plt.semilogy(x_data, y_data_bpsk, label = \"BPSK\")\n",
    "plt.semilogy(x_data, y_data_dbpsk, label = \"DE-BPSK\")\n",
    "plt.semilogy(x_data, y_data_qpsk, label = \"QPSK\")\n",
    "plt.semilogy(x_data, y_data_dqpsk, label = \"DE-QPSK\")\n",
    "plt.legend()\n",
    "plt.title(\"BER Teórico\")\n",
    "plt.xlabel(\"Eb/N0 (dB)\")\n",
    "plt.ylabel(\"BER\")\n",
    "plt.grid()\n",
    "# plt.savefig(\"a.png\", dpi = 200)"
   ]
  },
  {
   "cell_type": "code",
   "execution_count": null,
   "metadata": {},
   "outputs": [],
   "source": []
  },
  {
   "cell_type": "code",
   "execution_count": 20,
   "metadata": {},
   "outputs": [],
   "source": [
    "######"
   ]
  },
  {
   "cell_type": "code",
   "execution_count": 21,
   "metadata": {},
   "outputs": [],
   "source": [
    "from scipy.special import comb"
   ]
  },
  {
   "cell_type": "code",
   "execution_count": 22,
   "metadata": {},
   "outputs": [],
   "source": [
    "BCH = (15, 7, 2)"
   ]
  },
  {
   "cell_type": "code",
   "execution_count": 23,
   "metadata": {},
   "outputs": [],
   "source": [
    "def Pb_Hard_Codes(p, N, t):\n",
    "    Sum = 0\n",
    "    for m in range(t+1, N + 1):\n",
    "        x = (m + t) * comb(N, m, exact = True, repetition = False) * p ** (m) * (1 - p) ** (N - m)\n",
    "        Sum += x\n",
    "    return Sum/N"
   ]
  },
  {
   "cell_type": "code",
   "execution_count": 24,
   "metadata": {},
   "outputs": [
    {
     "data": {
      "text/plain": [
       "[0.16699912791099902,\n",
       " 0.1391884274979276,\n",
       " 0.11194723197283957,\n",
       " 0.08618296922094187,\n",
       " 0.06286587947199844,\n",
       " 0.042900028969073335,\n",
       " 0.02695204316843122,\n",
       " 0.015277894362140328,\n",
       " 0.007618155110273656,\n",
       " 0.0032363990746661774,\n",
       " 0.0011251132840428954]"
      ]
     },
     "execution_count": 24,
     "metadata": {},
     "output_type": "execute_result"
    }
   ],
   "source": [
    "[x for i, x in enumerate([Pb_BPSK(from_dB(SNR - 10 * math.log10(BCH[0]/BCH[1]))) for SNR in x_data])if i % 10 == 0]"
   ]
  },
  {
   "cell_type": "code",
   "execution_count": 25,
   "metadata": {},
   "outputs": [],
   "source": [
    "BCH_15_2 = (15, 7, 2)\n",
    "coded_15_2 = [Pb_Hard_Codes(Pb_BPSK(from_dB(SNR - 10 * math.log10(BCH_15_2[0]/BCH_15_2[1]))), BCH_15_2[0], BCH_15_2[2]) for SNR in x_data]"
   ]
  },
  {
   "cell_type": "code",
   "execution_count": 26,
   "metadata": {},
   "outputs": [],
   "source": [
    "BCH_63 = (63, 30, 6)\n",
    "coded_63 = [Pb_Hard_Codes(Pb_BPSK(from_dB(SNR - 10 * math.log10(BCH_63[0]/BCH_63[1]))), BCH_63[0], BCH_63[2]) for SNR in x_data]"
   ]
  },
  {
   "cell_type": "code",
   "execution_count": null,
   "metadata": {},
   "outputs": [],
   "source": []
  },
  {
   "cell_type": "code",
   "execution_count": 27,
   "metadata": {},
   "outputs": [],
   "source": [
    "Hamming = (7, 4, 1)\n",
    "hamming_y = [Pb_Hard_Codes(Pb_BPSK(from_dB(SNR - 10 * math.log10(Hamming[0]/Hamming[1]))), Hamming[0], Hamming[2]) for SNR in x_data]"
   ]
  },
  {
   "cell_type": "code",
   "execution_count": 28,
   "metadata": {},
   "outputs": [],
   "source": [
    "# y_data_bpsk"
   ]
  },
  {
   "cell_type": "code",
   "execution_count": 29,
   "metadata": {},
   "outputs": [],
   "source": [
    "import math"
   ]
  },
  {
   "cell_type": "code",
   "execution_count": 30,
   "metadata": {},
   "outputs": [
    {
     "data": {
      "image/png": "[encoded data removed]",
      "text/plain": [
       "<Figure size 432x288 with 1 Axes>"
      ]
     },
     "metadata": {
      "needs_background": "light"
     },
     "output_type": "display_data"
    }
   ],
   "source": [
    "plt.semilogy(x_data, y_data_bpsk, label = \"Sem Codificação\")\n",
    "# plt.semilogy(x_data - 1 * 10 * math.log10(Hamming[1]/Hamming[0]), hamming_y, \"-.\", label = \"Hamming (7, 4)\")\n",
    "# plt.semilogy(x_data, hamming_y, \"-.\", label = \"Hamming (7, 4)\")\n",
    "\n",
    "plt.semilogy(x_data, coded_15_2, \"-.\", label = f\"BCH {BCH_15_2}\")\n",
    "plt.semilogy(x_data, coded_63, \"1\", label = f\"BCH {BCH_63}\")\n",
    "\n",
    "plt.legend()\n",
    "plt.title(\"BER Teórico BPSK\")\n",
    "plt.xlabel(r\"$E_b/N_0$ (dB)\")\n",
    "# plt.xlabel(r\"SNR (dB)\")\n",
    "plt.ylabel(\"BER\")\n",
    "plt.grid()\n",
    "\n",
    "# plt.savefig(f\"EbN0.pdf\", dpi = 300)\n",
    "# plt.savefig(f\"BCHs.pdf\", dpi = 300)"
   ]
  },
  {
   "cell_type": "code",
   "execution_count": null,
   "metadata": {},
   "outputs": [],
   "source": []
  }
 ],
 "metadata": {
  "kernelspec": {
   "display_name": "Python 3",
   "language": "python",
   "name": "python3"
  },
  "language_info": {
   "codemirror_mode": {
    "name": "ipython",
    "version": 3
   },
   "file_extension": ".py",
   "mimetype": "text/x-python",
   "name": "python",
   "nbconvert_exporter": "python",
   "pygments_lexer": "ipython3",
   "version": "3.6.9"
  }
 },
 "nbformat": 4,
 "nbformat_minor": 4
}
