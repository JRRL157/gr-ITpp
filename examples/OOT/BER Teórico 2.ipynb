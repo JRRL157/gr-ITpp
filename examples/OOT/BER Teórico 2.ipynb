{
 "cells": [
  {
   "cell_type": "code",
   "execution_count": null,
   "metadata": {},
   "outputs": [],
   "source": [
    "%matplotlib inline\n",
    "import numpy as np\n",
    "import matplotlib.pyplot as plt"
   ]
  },
  {
   "cell_type": "code",
   "execution_count": null,
   "metadata": {},
   "outputs": [],
   "source": [
    "from scipy.special import erfc\n",
    "import math\n",
    "\n",
    "def Q(x):\n",
    "    return (0.5 * erfc(x/(np.sqrt(2))))"
   ]
  },
  {
   "cell_type": "code",
   "execution_count": null,
   "metadata": {},
   "outputs": [],
   "source": []
  },
  {
   "cell_type": "code",
   "execution_count": null,
   "metadata": {},
   "outputs": [],
   "source": [
    "def Pb_BPSK(EbN0):\n",
    "    return Q(np.sqrt(2*EbN0))"
   ]
  },
  {
   "cell_type": "code",
   "execution_count": null,
   "metadata": {},
   "outputs": [],
   "source": [
    "def Pb_DE_BPSK(EbN0):\n",
    "    return 2 * Q(np.sqrt(2*EbN0)) - 2 * Q(np.sqrt(2*EbN0))**2"
   ]
  },
  {
   "cell_type": "code",
   "execution_count": null,
   "metadata": {},
   "outputs": [],
   "source": [
    "def Pb_QPSK(EbN0):\n",
    "    return Q(np.sqrt(2*EbN0))"
   ]
  },
  {
   "cell_type": "code",
   "execution_count": null,
   "metadata": {},
   "outputs": [],
   "source": [
    "def Pb_DE_QPSK(EbN0):\n",
    "    return 2 * Q(np.sqrt(2*EbN0)) * (1 - Q(np.sqrt(2*EbN0)))"
   ]
  },
  {
   "cell_type": "code",
   "execution_count": null,
   "metadata": {},
   "outputs": [],
   "source": []
  },
  {
   "cell_type": "code",
   "execution_count": null,
   "metadata": {},
   "outputs": [],
   "source": [
    "def dB(x):\n",
    "    return 10 * math.log10(x)\n",
    "def from_dB(x):\n",
    "    return math.pow(10, x/10)"
   ]
  },
  {
   "cell_type": "code",
   "execution_count": null,
   "metadata": {},
   "outputs": [],
   "source": [
    "def berawgn_BPSK(EbN0):\n",
    "    \"\"\" Calculates theoretical bit error rate in AWGN (for BPSK and given Eb/N0) \"\"\"\n",
    "    return Pb_BPSK(from_dB(EbN0))"
   ]
  },
  {
   "cell_type": "code",
   "execution_count": null,
   "metadata": {},
   "outputs": [],
   "source": []
  },
  {
   "cell_type": "code",
   "execution_count": null,
   "metadata": {},
   "outputs": [],
   "source": []
  },
  {
   "cell_type": "code",
   "execution_count": null,
   "metadata": {},
   "outputs": [],
   "source": [
    "x_data = np.linspace(0, 10, 100 + 1)"
   ]
  },
  {
   "cell_type": "code",
   "execution_count": null,
   "metadata": {},
   "outputs": [],
   "source": [
    "y_data_bpsk = [Pb_BPSK(from_dB(x)) for x in x_data]\n",
    "y_data_dbpsk = [Pb_DE_BPSK(from_dB(x)) for x in x_data]"
   ]
  },
  {
   "cell_type": "code",
   "execution_count": null,
   "metadata": {},
   "outputs": [],
   "source": [
    "plt.semilogy(x_data, y_data_bpsk, label = \"BPSK\")\n",
    "plt.semilogy(x_data, y_data_dbpsk, label = \"DE-BPSK\")\n",
    "plt.legend()\n",
    "plt.title(\"BER Teórico\")\n",
    "plt.xlabel(\"Eb/N0 (dB)\")\n",
    "plt.ylabel(\"BER\")\n",
    "plt.grid()\n",
    "# plt.savefig(\"a.png\", dpi = 200)"
   ]
  },
  {
   "cell_type": "code",
   "execution_count": null,
   "metadata": {},
   "outputs": [],
   "source": [
    "import pandas as pd"
   ]
  },
  {
   "cell_type": "code",
   "execution_count": null,
   "metadata": {},
   "outputs": [],
   "source": [
    "pd_data = np.array([x_data, y_data_bpsk, y_data_dbpsk]).T"
   ]
  },
  {
   "cell_type": "code",
   "execution_count": null,
   "metadata": {},
   "outputs": [],
   "source": [
    "dF = pd.DataFrame(data = pd_data, columns = [\"Eb/N0\", \"BPSK\", \"DE-BPSK\"])"
   ]
  },
  {
   "cell_type": "code",
   "execution_count": null,
   "metadata": {},
   "outputs": [],
   "source": [
    "pd.set_option('display.float_format', lambda x: '%.8f' % x)"
   ]
  },
  {
   "cell_type": "code",
   "execution_count": null,
   "metadata": {},
   "outputs": [],
   "source": [
    "dF"
   ]
  },
  {
   "cell_type": "code",
   "execution_count": null,
   "metadata": {},
   "outputs": [],
   "source": [
    "##################"
   ]
  },
  {
   "cell_type": "code",
   "execution_count": null,
   "metadata": {},
   "outputs": [],
   "source": [
    "y_data_qpsk = [Pb_QPSK(from_dB(x)) for x in x_data]\n",
    "y_data_dqpsk = [Pb_DE_QPSK(from_dB(x)) for x in x_data]"
   ]
  },
  {
   "cell_type": "code",
   "execution_count": null,
   "metadata": {},
   "outputs": [],
   "source": [
    "plt.semilogy(x_data, y_data_bpsk, label = \"BPSK\")\n",
    "plt.semilogy(x_data, y_data_dbpsk, label = \"DE-BPSK\")\n",
    "plt.semilogy(x_data, y_data_qpsk, label = \"QPSK\")\n",
    "plt.semilogy(x_data, y_data_dqpsk, label = \"DE-QPSK\")\n",
    "plt.legend()\n",
    "plt.title(\"BER Teórico\")\n",
    "plt.xlabel(\"Eb/N0 (dB)\")\n",
    "plt.ylabel(\"BER\")\n",
    "plt.grid()\n",
    "# plt.savefig(\"a.png\", dpi = 200)"
   ]
  },
  {
   "cell_type": "code",
   "execution_count": null,
   "metadata": {},
   "outputs": [],
   "source": []
  },
  {
   "cell_type": "code",
   "execution_count": null,
   "metadata": {},
   "outputs": [],
   "source": [
    "######"
   ]
  },
  {
   "cell_type": "code",
   "execution_count": null,
   "metadata": {},
   "outputs": [],
   "source": [
    "from scipy.special import comb"
   ]
  },
  {
   "cell_type": "code",
   "execution_count": null,
   "metadata": {},
   "outputs": [],
   "source": [
    "BCH = (15, 7, 2)"
   ]
  },
  {
   "cell_type": "code",
   "execution_count": null,
   "metadata": {},
   "outputs": [],
   "source": [
    "def Pb_Hard_Codes(p, N, t):\n",
    "    Sum = 0\n",
    "    for m in range(t+1, N + 1):\n",
    "        x = (m + t) * comb(N, m, exact = True, repetition = False) * p ** (m) * (1 - p) ** (N - m)\n",
    "        Sum += x\n",
    "    return Sum/N"
   ]
  },
  {
   "cell_type": "code",
   "execution_count": null,
   "metadata": {},
   "outputs": [],
   "source": [
    "[x for i, x in enumerate([Pb_BPSK(from_dB(SNR - 10 * math.log10(BCH[0]/BCH[1]))) for SNR in x_data])if i % 10 == 0]"
   ]
  },
  {
   "cell_type": "code",
   "execution_count": null,
   "metadata": {},
   "outputs": [],
   "source": [
    "BCH_15_2 = (15, 7, 2)\n",
    "coded_15_2 = [Pb_Hard_Codes(Pb_BPSK(from_dB(SNR - 10 * math.log10(BCH_15_2[0]/BCH_15_2[1]))), BCH_15_2[0], BCH_15_2[2]) for SNR in x_data]"
   ]
  },
  {
   "cell_type": "code",
   "execution_count": null,
   "metadata": {},
   "outputs": [],
   "source": [
    "BCH_63 = (63, 30, 6)\n",
    "coded_63 = [Pb_Hard_Codes(Pb_BPSK(from_dB(SNR - 10 * math.log10(BCH_63[0]/BCH_63[1]))), BCH_63[0], BCH_63[2]) for SNR in x_data]"
   ]
  },
  {
   "cell_type": "code",
   "execution_count": null,
   "metadata": {},
   "outputs": [],
   "source": []
  },
  {
   "cell_type": "code",
   "execution_count": null,
   "metadata": {},
   "outputs": [],
   "source": [
    "Hamming = (7, 4, 1)\n",
    "hamming_y = [Pb_Hard_Codes(Pb_BPSK(from_dB(SNR - 10 * math.log10(Hamming[0]/Hamming[1]))), Hamming[0], Hamming[2]) for SNR in x_data]"
   ]
  },
  {
   "cell_type": "code",
   "execution_count": null,
   "metadata": {},
   "outputs": [],
   "source": [
    "# y_data_bpsk"
   ]
  },
  {
   "cell_type": "code",
   "execution_count": null,
   "metadata": {},
   "outputs": [],
   "source": [
    "import math"
   ]
  },
  {
   "cell_type": "code",
   "execution_count": null,
   "metadata": {},
   "outputs": [],
   "source": [
    "plt.semilogy(x_data, y_data_bpsk, label = \"Sem Codificação\")\n",
    "# plt.semilogy(x_data - 1 * 10 * math.log10(Hamming[1]/Hamming[0]), hamming_y, \"-.\", label = \"Hamming (7, 4)\")\n",
    "\n",
    "plt.semilogy(x_data, coded_15_2, \"-.\", label = f\"BCH {BCH_15_2}\")\n",
    "plt.semilogy(x_data, coded_63, \"1\", label = f\"BCH {BCH_63}\")\n",
    "\n",
    "plt.legend()\n",
    "plt.title(\"BER Teórico BPSK\")\n",
    "plt.xlabel(r\"SNR (dB)\")\n",
    "plt.ylabel(\"BER\")\n",
    "plt.grid()\n",
    "\n",
    "# plt.savefig(f\"SNR.png\", dpi = 200)\n",
    "# plt.savefig(f\"BCHs.png\", dpi = 200)"
   ]
  },
  {
   "cell_type": "code",
   "execution_count": null,
   "metadata": {},
   "outputs": [],
   "source": []
  }
 ],
 "metadata": {
  "kernelspec": {
   "display_name": "Python 3",
   "language": "python",
   "name": "python3"
  },
  "language_info": {
   "codemirror_mode": {
    "name": "ipython",
    "version": 3
   },
   "file_extension": ".py",
   "mimetype": "text/x-python",
   "name": "python",
   "nbconvert_exporter": "python",
   "pygments_lexer": "ipython3",
   "version": "3.6.8"
  }
 },
 "nbformat": 4,
 "nbformat_minor": 4
}
