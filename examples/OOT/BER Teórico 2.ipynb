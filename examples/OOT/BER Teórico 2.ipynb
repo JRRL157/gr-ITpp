{
 "cells": [
  {
   "cell_type": "code",
   "execution_count": 1,
   "metadata": {},
   "outputs": [],
   "source": [
    "%matplotlib inline\n",
    "import numpy as np\n",
    "import matplotlib.pyplot as plt"
   ]
  },
  {
   "cell_type": "code",
   "execution_count": 2,
   "metadata": {},
   "outputs": [],
   "source": [
    "from scipy.special import erfc\n",
    "import math\n",
    "\n",
    "def Q(x):\n",
    "    return (0.5 * erfc(x/(np.sqrt(2))))"
   ]
  },
  {
   "cell_type": "code",
   "execution_count": null,
   "metadata": {},
   "outputs": [],
   "source": []
  },
  {
   "cell_type": "code",
   "execution_count": 3,
   "metadata": {},
   "outputs": [],
   "source": [
    "def Pb_BPSK(EbN0):\n",
    "    return Q(np.sqrt(2*EbN0))"
   ]
  },
  {
   "cell_type": "code",
   "execution_count": 4,
   "metadata": {},
   "outputs": [],
   "source": [
    "def Pb_DE_BPSK(EbN0):\n",
    "    return 2 * Q(np.sqrt(2*EbN0)) - 2 * Q(np.sqrt(2*EbN0))**2"
   ]
  },
  {
   "cell_type": "code",
   "execution_count": 24,
   "metadata": {},
   "outputs": [],
   "source": [
    "def Pb_QPSK(EbN0):\n",
    "    return Q(np.sqrt(2*EbN0))"
   ]
  },
  {
   "cell_type": "code",
   "execution_count": 25,
   "metadata": {},
   "outputs": [],
   "source": [
    "def Pb_DE_QPSK(EbN0):\n",
    "    return 2 * Q(np.sqrt(2*EbN0)) * (1 - Q(np.sqrt(2*EbN0)))"
   ]
  },
  {
   "cell_type": "code",
   "execution_count": null,
   "metadata": {},
   "outputs": [],
   "source": []
  },
  {
   "cell_type": "code",
   "execution_count": 5,
   "metadata": {},
   "outputs": [],
   "source": [
    "def dB(x):\n",
    "    return 10 * math.log10(x)\n",
    "def from_dB(x):\n",
    "    return math.pow(10, x/10)"
   ]
  },
  {
   "cell_type": "code",
   "execution_count": 6,
   "metadata": {},
   "outputs": [],
   "source": [
    "def berawgn_BPSK(EbN0):\n",
    "    \"\"\" Calculates theoretical bit error rate in AWGN (for BPSK and given Eb/N0) \"\"\"\n",
    "    return Pb_BPSK(from_dB(EbN0))"
   ]
  },
  {
   "cell_type": "code",
   "execution_count": null,
   "metadata": {},
   "outputs": [],
   "source": []
  },
  {
   "cell_type": "code",
   "execution_count": null,
   "metadata": {},
   "outputs": [],
   "source": []
  },
  {
   "cell_type": "code",
   "execution_count": 16,
   "metadata": {},
   "outputs": [],
   "source": [
    "x_data = np.linspace(0, 10, 10 + 1)"
   ]
  },
  {
   "cell_type": "code",
   "execution_count": 17,
   "metadata": {},
   "outputs": [],
   "source": [
    "y_data_bpsk = [Pb_BPSK(from_dB(x)) for x in x_data]\n",
    "y_data_dbpsk = [Pb_DE_BPSK(from_dB(x)) for x in x_data]"
   ]
  },
  {
   "cell_type": "code",
   "execution_count": 18,
   "metadata": {},
   "outputs": [
    {
     "data": {
      "image/png": "[encoded data removed]",
      "text/plain": [
       "<Figure size 432x288 with 1 Axes>"
      ]
     },
     "metadata": {},
     "output_type": "display_data"
    }
   ],
   "source": [
    "plt.semilogy(x_data, y_data_bpsk, label = \"BPSK\")\n",
    "plt.semilogy(x_data, y_data_dbpsk, label = \"DE-BPSK\")\n",
    "plt.legend()\n",
    "plt.title(\"BER Teórico\")\n",
    "plt.xlabel(\"Eb/N0 (dB)\")\n",
    "plt.ylabel(\"BER\")\n",
    "plt.grid()\n",
    "# plt.savefig(\"a.png\", dpi = 200)"
   ]
  },
  {
   "cell_type": "code",
   "execution_count": 19,
   "metadata": {},
   "outputs": [],
   "source": [
    "import pandas as pd"
   ]
  },
  {
   "cell_type": "code",
   "execution_count": 20,
   "metadata": {},
   "outputs": [],
   "source": [
    "pd_data = np.array([x_data, y_data_bpsk, y_data_dbpsk]).T"
   ]
  },
  {
   "cell_type": "code",
   "execution_count": 21,
   "metadata": {},
   "outputs": [],
   "source": [
    "dF = pd.DataFrame(data = pd_data, columns = [\"Eb/N0\", \"BPSK\", \"DE-BPSK\"])"
   ]
  },
  {
   "cell_type": "code",
   "execution_count": 22,
   "metadata": {},
   "outputs": [],
   "source": [
    "pd.set_option('display.float_format', lambda x: '%.8f' % x)"
   ]
  },
  {
   "cell_type": "code",
   "execution_count": 23,
   "metadata": {},
   "outputs": [
    {
     "data": {
      "text/html": [
       "<div>\n",
       "<style scoped>\n",
       "    .dataframe tbody tr th:only-of-type {\n",
       "        vertical-align: middle;\n",
       "    }\n",
       "\n",
       "    .dataframe tbody tr th {\n",
       "        vertical-align: top;\n",
       "    }\n",
       "\n",
       "    .dataframe thead th {\n",
       "        text-align: right;\n",
       "    }\n",
       "</style>\n",
       "<table border=\"1\" class=\"dataframe\">\n",
       "  <thead>\n",
       "    <tr style=\"text-align: right;\">\n",
       "      <th></th>\n",
       "      <th>Eb/N0</th>\n",
       "      <th>BPSK</th>\n",
       "      <th>DE-BPSK</th>\n",
       "    </tr>\n",
       "  </thead>\n",
       "  <tbody>\n",
       "    <tr>\n",
       "      <td>0</td>\n",
       "      <td>0.00000000</td>\n",
       "      <td>0.07864960</td>\n",
       "      <td>0.14492769</td>\n",
       "    </tr>\n",
       "    <tr>\n",
       "      <td>1</td>\n",
       "      <td>1.00000000</td>\n",
       "      <td>0.05628195</td>\n",
       "      <td>0.10622859</td>\n",
       "    </tr>\n",
       "    <tr>\n",
       "      <td>2</td>\n",
       "      <td>2.00000000</td>\n",
       "      <td>0.03750613</td>\n",
       "      <td>0.07219884</td>\n",
       "    </tr>\n",
       "    <tr>\n",
       "      <td>3</td>\n",
       "      <td>3.00000000</td>\n",
       "      <td>0.02287841</td>\n",
       "      <td>0.04470997</td>\n",
       "    </tr>\n",
       "    <tr>\n",
       "      <td>4</td>\n",
       "      <td>4.00000000</td>\n",
       "      <td>0.01250082</td>\n",
       "      <td>0.02468910</td>\n",
       "    </tr>\n",
       "    <tr>\n",
       "      <td>5</td>\n",
       "      <td>5.00000000</td>\n",
       "      <td>0.00595387</td>\n",
       "      <td>0.01183684</td>\n",
       "    </tr>\n",
       "    <tr>\n",
       "      <td>6</td>\n",
       "      <td>6.00000000</td>\n",
       "      <td>0.00238829</td>\n",
       "      <td>0.00476517</td>\n",
       "    </tr>\n",
       "    <tr>\n",
       "      <td>7</td>\n",
       "      <td>7.00000000</td>\n",
       "      <td>0.00077267</td>\n",
       "      <td>0.00154416</td>\n",
       "    </tr>\n",
       "    <tr>\n",
       "      <td>8</td>\n",
       "      <td>8.00000000</td>\n",
       "      <td>0.00019091</td>\n",
       "      <td>0.00038174</td>\n",
       "    </tr>\n",
       "    <tr>\n",
       "      <td>9</td>\n",
       "      <td>9.00000000</td>\n",
       "      <td>0.00003363</td>\n",
       "      <td>0.00006725</td>\n",
       "    </tr>\n",
       "    <tr>\n",
       "      <td>10</td>\n",
       "      <td>10.00000000</td>\n",
       "      <td>0.00000387</td>\n",
       "      <td>0.00000774</td>\n",
       "    </tr>\n",
       "  </tbody>\n",
       "</table>\n",
       "</div>"
      ],
      "text/plain": [
       "         Eb/N0       BPSK    DE-BPSK\n",
       "0   0.00000000 0.07864960 0.14492769\n",
       "1   1.00000000 0.05628195 0.10622859\n",
       "2   2.00000000 0.03750613 0.07219884\n",
       "3   3.00000000 0.02287841 0.04470997\n",
       "4   4.00000000 0.01250082 0.02468910\n",
       "5   5.00000000 0.00595387 0.01183684\n",
       "6   6.00000000 0.00238829 0.00476517\n",
       "7   7.00000000 0.00077267 0.00154416\n",
       "8   8.00000000 0.00019091 0.00038174\n",
       "9   9.00000000 0.00003363 0.00006725\n",
       "10 10.00000000 0.00000387 0.00000774"
      ]
     },
     "execution_count": 23,
     "metadata": {},
     "output_type": "execute_result"
    }
   ],
   "source": [
    "dF"
   ]
  },
  {
   "cell_type": "code",
   "execution_count": null,
   "metadata": {},
   "outputs": [],
   "source": [
    "##################"
   ]
  },
  {
   "cell_type": "code",
   "execution_count": 27,
   "metadata": {},
   "outputs": [],
   "source": [
    "y_data_qpsk = [Pb_QPSK(from_dB(x)) for x in x_data]\n",
    "y_data_dqpsk = [Pb_DE_QPSK(from_dB(x)) for x in x_data]"
   ]
  },
  {
   "cell_type": "code",
   "execution_count": 29,
   "metadata": {},
   "outputs": [
    {
     "data": {
      "image/png": "[encoded data removed]",
      "text/plain": [
       "<Figure size 432x288 with 1 Axes>"
      ]
     },
     "metadata": {},
     "output_type": "display_data"
    }
   ],
   "source": [
    "plt.semilogy(x_data, y_data_bpsk, label = \"BPSK\")\n",
    "plt.semilogy(x_data, y_data_dbpsk, label = \"DE-BPSK\")\n",
    "plt.semilogy(x_data, y_data_qpsk, label = \"QPSK\")\n",
    "plt.semilogy(x_data, y_data_dqpsk, label = \"DE-QPSK\")\n",
    "plt.legend()\n",
    "plt.title(\"BER Teórico\")\n",
    "plt.xlabel(\"Eb/N0 (dB)\")\n",
    "plt.ylabel(\"BER\")\n",
    "plt.grid()\n",
    "# plt.savefig(\"a.png\", dpi = 200)"
   ]
  },
  {
   "cell_type": "code",
   "execution_count": null,
   "metadata": {},
   "outputs": [],
   "source": []
  }
 ],
 "metadata": {
  "kernelspec": {
   "display_name": "Python 3",
   "language": "python",
   "name": "python3"
  },
  "language_info": {
   "codemirror_mode": {
    "name": "ipython",
    "version": 3
   },
   "file_extension": ".py",
   "mimetype": "text/x-python",
   "name": "python",
   "nbconvert_exporter": "python",
   "pygments_lexer": "ipython3",
   "version": "3.6.8"
  }
 },
 "nbformat": 4,
 "nbformat_minor": 2
}
