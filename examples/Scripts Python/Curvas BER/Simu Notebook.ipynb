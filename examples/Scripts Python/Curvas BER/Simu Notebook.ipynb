{
 "cells": [
  {
   "cell_type": "code",
   "execution_count": 9,
   "metadata": {},
   "outputs": [],
   "source": [
    "import math\n",
    "import numpy\n",
    "from gnuradio import gr, digital\n",
    "from gnuradio import analog\n",
    "from gnuradio import blocks\n",
    "import sys\n",
    "from ITpp import BCH_Encoder, BCH_Decoder, RS_Encoder, RS_Decoder\n",
    "\n",
    "\n",
    "try:\n",
    "    from scipy.special import comb\n",
    "    from scipy.special import erfc\n",
    "except ImportError:\n",
    "    print \"Error: could not import scipy (http://www.scipy.org/)\"\n",
    "    sys.exit(1)\n",
    "\n",
    "try:\n",
    "    import pylab\n",
    "except ImportError:\n",
    "    print \"Error: could not import pylab (http://matplotlib.sourceforge.net/)\"\n",
    "    sys.exit(1)\n",
    "\n",
    "# Best to choose powers of 10\n",
    "#N_BITS = 1e7\n",
    "N_BITS = 1e7\n",
    "RAND_SEED = 42"
   ]
  },
  {
   "cell_type": "code",
   "execution_count": 10,
   "metadata": {},
   "outputs": [],
   "source": [
    "def Q(x):\n",
    "    return (0.5 * erfc(x/(numpy.sqrt(2))))\n",
    "\n",
    "def Pb_BPSK(EbN0):\n",
    "    return Q(numpy.sqrt(2*EbN0))\n",
    "\n",
    "def Pb_DBPSK(EbN0):\n",
    "    return 2 * Q(numpy.sqrt(2*EbN0)) - 2 * Q(numpy.sqrt(2*EbN0))**2\n",
    "\n",
    "def from_dB(x):\n",
    "    return math.pow(10, x/10)\n",
    "\n",
    "def Pb_Hard_Codes(p, N, t):\n",
    "    Sum = 0\n",
    "    for m in range(t+1, N + 1):\n",
    "        x = (m + t) * comb(N, m, exact = True, repetition = False) * p ** (m) * (1 - p) ** (N - m)\n",
    "        Sum += x\n",
    "    return Sum/N\n",
    "\n",
    "def berawgn_BPSK(EbN0):\n",
    "    \"\"\" Calculates theoretical bit error rate in AWGN (for BPSK and given Eb/N0) \"\"\"\n",
    "    return Pb_BPSK(from_dB(EbN0))\n",
    "\n",
    "def berawgn_DBPSK(EbN0):\n",
    "    \"\"\" Calculates theoretical bit error rate in AWGN (for DBPSK and given Eb/N0) \"\"\"\n",
    "    return Pb_DBPSK(from_dB(EbN0))\n",
    "\n",
    "\n",
    "class BitErrors(gr.hier_block2):\n",
    "    \"\"\" Two inputs: true and received bits. We compare them and\n",
    "    add up the number of incorrect bits. Because integrate_ff()\n",
    "    can only add up a certain number of values, the output is\n",
    "    not a scalar, but a sequence of values, the sum of which is\n",
    "    the BER. \"\"\"\n",
    "    def __init__(self, bits_per_byte):\n",
    "        gr.hier_block2.__init__(self, \"BitErrors\",\n",
    "                gr.io_signature(2, 2, gr.sizeof_char),\n",
    "                gr.io_signature(1, 1, gr.sizeof_int))\n",
    "\n",
    "        # Bit comparison\n",
    "        comp = blocks.xor_bb()\n",
    "        intdump_decim = 100000\n",
    "\n",
    "\t#print(bits_per_byte)\n",
    "\n",
    "        if N_BITS < intdump_decim:\n",
    "            intdump_decim = int(N_BITS)\n",
    "        self.connect(self,\n",
    "                     comp,\n",
    "                     blocks.unpack_k_bits_bb(bits_per_byte),\n",
    "                     blocks.uchar_to_float(),\n",
    "                     blocks.integrate_ff(intdump_decim),\n",
    "                     blocks.multiply_const_ff(1.0/N_BITS),\n",
    "                     self)\n",
    "        self.connect((self, 1), (comp, 1))"
   ]
  },
  {
   "cell_type": "code",
   "execution_count": 24,
   "metadata": {},
   "outputs": [
    {
     "data": {
      "text/plain": [
       "0.002388290780932807"
      ]
     },
     "execution_count": 24,
     "metadata": {},
     "output_type": "execute_result"
    }
   ],
   "source": [
    "berawgn_BPSK(6.0)"
   ]
  },
  {
   "cell_type": "code",
   "execution_count": 11,
   "metadata": {},
   "outputs": [],
   "source": [
    "class BERAWGNSimu(gr.top_block):\n",
    "    \" This contains the simulation flow graph \"\n",
    "    def __init__(self, EbN0):\n",
    "        gr.top_block.__init__(self)\n",
    "        self.const = digital.bpsk_constellation()\n",
    "        # Source is N_BITS bits, non-repeated\n",
    "\n",
    "        #print(\"BITS PER SYMBOL: \", self.const.bits_per_symbol())\n",
    "        #print(\"arity: \", self.const.arity())\n",
    "\n",
    "        data = map(int, numpy.random.randint(0, self.const.arity(), int(N_BITS/self.const.bits_per_symbol())))\n",
    "        src   = blocks.vector_source_b(data, False)\n",
    "        enc   = RS_Encoder(8, 11)\n",
    "        mod   = digital.chunks_to_symbols_bc((self.const.points()), 1)\n",
    "        add   = blocks.add_vcc()\n",
    "\n",
    "        #print(\"Gaussian amplitude: \", self.EbN0_to_noise_voltage(EbN0))\n",
    "\n",
    "        noise = analog.noise_source_c(analog.GR_GAUSSIAN,\n",
    "                                      self.EbN0_to_noise_voltage(EbN0),\n",
    "                                      RAND_SEED)\n",
    "        demod = digital.constellation_decoder_cb(self.const.base())\n",
    "        dec   = RS_Decoder(8, 11)\n",
    "        ber   = BitErrors(self.const.bits_per_symbol())\n",
    "        self.sink  = blocks.vector_sink_f()\n",
    "        self.connect(src, enc, mod, add, demod, dec, ber, self.sink)\n",
    "        self.connect(noise, (add, 1))\n",
    "        self.connect(src, (ber, 1))\n",
    "\n",
    "    def EbN0_to_noise_voltage(self, EbN0):\n",
    "        \"\"\" Converts Eb/N0 to a complex noise voltage (assuming unit symbol power) \"\"\"\n",
    "        #print(\"BITS PER SYMBOL: \", self.const.bits_per_symbol())\n",
    "        return 1.0 / math.sqrt(self.const.bits_per_symbol() * 10**(float(EbN0-10*math.log10(2040.0/1864.0))/10))"
   ]
  },
  {
   "cell_type": "code",
   "execution_count": 12,
   "metadata": {},
   "outputs": [],
   "source": [
    "def simulate_ber(EbN0):\n",
    "    \"\"\" All the work's done here: create flow graph, run, read out BER \"\"\"\n",
    "    print \"Eb/N0 = {} dB\".format(EbN0)\n",
    "    fg = BERAWGNSimu(EbN0)\n",
    "    fg.run()\n",
    "    res = numpy.sum(fg.sink.data())\n",
    "    print(\"BER: {}\\n\".format(res))\n",
    "    return res"
   ]
  },
  {
   "cell_type": "code",
   "execution_count": 13,
   "metadata": {},
   "outputs": [],
   "source": [
    "EbN0_min = 0\n",
    "EbN0_max = 10\n",
    "EbN0_range = range(EbN0_min, EbN0_max+1)\n",
    "#EbN0_range = [0.5*x for x in range(EbN0_min*2, (EbN0_max+1)*2)]"
   ]
  },
  {
   "cell_type": "code",
   "execution_count": 14,
   "metadata": {},
   "outputs": [
    {
     "name": "stdout",
     "output_type": "stream",
     "text": [
      "Eb/N0 = 0 dB\n",
      "BER: 0.499571087305\n",
      "\n",
      "Eb/N0 = 1 dB\n",
      "BER: 0.499563577352\n",
      "\n",
      "Eb/N0 = 2 dB\n",
      "BER: 0.499497256824\n",
      "\n",
      "Eb/N0 = 3 dB\n",
      "BER: 0.499565346341\n",
      "\n",
      "Eb/N0 = 4 dB\n",
      "BER: 0.499475447315\n",
      "\n",
      "Eb/N0 = 5 dB\n",
      "BER: 0.440852787695\n",
      "\n",
      "Eb/N0 = 6 dB\n",
      "BER: 0.0258000298243\n",
      "\n",
      "Eb/N0 = 7 dB\n",
      "BER: 3.72300009985e-05\n",
      "\n",
      "Eb/N0 = 8 dB\n",
      "BER: 0.0\n",
      "\n",
      "Eb/N0 = 9 dB\n",
      "BER: 0.0\n",
      "\n",
      "Eb/N0 = 10 dB\n",
      "BER: 0.0\n",
      "\n"
     ]
    }
   ],
   "source": [
    "ber_simu = [simulate_ber(x) for x in EbN0_range]"
   ]
  },
  {
   "cell_type": "code",
   "execution_count": 15,
   "metadata": {},
   "outputs": [
    {
     "data": {
      "image/png": "[encoded data removed]",
      "text/plain": [
       "<matplotlib.figure.Figure at 0x7f8e62899a50>"
      ]
     },
     "metadata": {
      "needs_background": "light"
     },
     "output_type": "display_data"
    }
   ],
   "source": [
    "%matplotlib inline\n",
    "import numpy as np\n",
    "import matplotlib.pyplot as plt\n",
    "\n",
    "plt.semilogy(EbN0_range, ber_simu, \"b-\", label = \"Current\")\n",
    "\n",
    "plt.legend()\n",
    "plt.title(\"Taxa de erro de bit BPSK\")\n",
    "plt.xlabel(\"$E_b/N_0$ (dB)\")\n",
    "plt.ylabel(\"BER\")\n",
    "plt.grid()"
   ]
  },
  {
   "cell_type": "code",
   "execution_count": 16,
   "metadata": {},
   "outputs": [],
   "source": [
    "#\n",
    "np.save(\"bpsk_reed_solomon_m8_t11.npy\", ber_simu)"
   ]
  },
  {
   "cell_type": "code",
   "execution_count": null,
   "metadata": {},
   "outputs": [],
   "source": []
  }
 ],
 "metadata": {
  "kernelspec": {
   "display_name": "Python 2",
   "language": "python",
   "name": "python2"
  },
  "language_info": {
   "codemirror_mode": {
    "name": "ipython",
    "version": 2
   },
   "file_extension": ".py",
   "mimetype": "text/x-python",
   "name": "python",
   "nbconvert_exporter": "python",
   "pygments_lexer": "ipython2",
   "version": "2.7.17"
  }
 },
 "nbformat": 4,
 "nbformat_minor": 4
}
