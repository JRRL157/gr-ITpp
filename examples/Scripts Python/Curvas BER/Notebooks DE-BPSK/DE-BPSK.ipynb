{
 "cells": [
  {
   "cell_type": "code",
   "execution_count": 1,
   "metadata": {
    "jupyter": {
     "source_hidden": true
    }
   },
   "outputs": [],
   "source": [
    "import math\n",
    "import numpy\n",
    "from gnuradio import gr, digital\n",
    "from gnuradio import analog\n",
    "from gnuradio import blocks\n",
    "import sys\n",
    "from ITpp import BCH_Encoder, BCH_Decoder\n",
    "\n",
    "\n",
    "try:\n",
    "    from scipy.special import comb\n",
    "    from scipy.special import erfc\n",
    "except ImportError:\n",
    "    print \"Error: could not import scipy (http://www.scipy.org/)\"\n",
    "    sys.exit(1)\n",
    "\n",
    "try:\n",
    "    import pylab\n",
    "except ImportError:\n",
    "    print \"Error: could not import pylab (http://matplotlib.sourceforge.net/)\"\n",
    "    sys.exit(1)\n",
    "\n",
    "# Best to choose powers of 10\n",
    "#N_BITS = 1e7\n",
    "N_BITS = 3e7\n",
    "RAND_SEED = 42"
   ]
  },
  {
   "cell_type": "code",
   "execution_count": 2,
   "metadata": {
    "jupyter": {
     "source_hidden": true
    }
   },
   "outputs": [],
   "source": [
    "def Q(x):\n",
    "    return (0.5 * erfc(x/(numpy.sqrt(2))))\n",
    "\n",
    "def Pb_BPSK(EbN0):\n",
    "    return Q(numpy.sqrt(2*EbN0))\n",
    "\n",
    "def Pb_DBPSK(EbN0):\n",
    "    return 2 * Q(numpy.sqrt(2*EbN0)) - 2 * Q(numpy.sqrt(2*EbN0))**2\n",
    "\n",
    "def from_dB(x):\n",
    "    return math.pow(10, x/10)\n",
    "\n",
    "def Pb_Hard_Codes(p, N, t):\n",
    "    Sum = 0\n",
    "    for m in range(t+1, N + 1):\n",
    "        x = (m + t) * comb(N, m, exact = True, repetition = False) * p ** (m) * (1 - p) ** (N - m)\n",
    "        Sum += x\n",
    "    return Sum/N\n",
    "\n",
    "def berawgn_BPSK(EbN0):\n",
    "    \"\"\" Calculates theoretical bit error rate in AWGN (for BPSK and given Eb/N0) \"\"\"\n",
    "    return Pb_BPSK(from_dB(EbN0))\n",
    "\n",
    "def berawgn_DBPSK(EbN0):\n",
    "    \"\"\" Calculates theoretical bit error rate in AWGN (for DBPSK and given Eb/N0) \"\"\"\n",
    "    return Pb_DBPSK(from_dB(EbN0))\n",
    "\n",
    "\n",
    "class BitErrors(gr.hier_block2):\n",
    "    \"\"\" Two inputs: true and received bits. We compare them and\n",
    "    add up the number of incorrect bits. Because integrate_ff()\n",
    "    can only add up a certain number of values, the output is\n",
    "    not a scalar, but a sequence of values, the sum of which is\n",
    "    the BER. \"\"\"\n",
    "    def __init__(self, bits_per_byte):\n",
    "        gr.hier_block2.__init__(self, \"BitErrors\",\n",
    "                gr.io_signature(2, 2, gr.sizeof_char),\n",
    "                gr.io_signature(1, 1, gr.sizeof_int))\n",
    "\n",
    "        # Bit comparison\n",
    "        comp = blocks.xor_bb()\n",
    "        intdump_decim = 100000\n",
    "\n",
    "\t#print(bits_per_byte)\n",
    "\n",
    "        if N_BITS < intdump_decim:\n",
    "            intdump_decim = int(N_BITS)\n",
    "        self.connect(self,\n",
    "                     comp,\n",
    "                     blocks.unpack_k_bits_bb(bits_per_byte),\n",
    "                     blocks.uchar_to_float(),\n",
    "                     blocks.integrate_ff(intdump_decim),\n",
    "                     blocks.multiply_const_ff(1.0/N_BITS),\n",
    "                     self)\n",
    "        self.connect((self, 1), (comp, 1))"
   ]
  },
  {
   "cell_type": "code",
   "execution_count": 3,
   "metadata": {
    "jupyter": {
     "source_hidden": true
    }
   },
   "outputs": [],
   "source": [
    "class BERAWGNSimu(gr.top_block):\n",
    "    \" This contains the simulation flow graph \"\n",
    "    def __init__(self, EbN0):\n",
    "        gr.top_block.__init__(self)\n",
    "        self.const = digital.bpsk_constellation()\n",
    "        # Source is N_BITS bits, non-repeated\n",
    "\n",
    "\t#print(\"BITS PER SYMBOL: \", self.const.bits_per_symbol())\n",
    "\t#print(\"arity: \", self.const.arity())\n",
    "\n",
    "        data = map(int, numpy.random.randint(0, self.const.arity(), int(N_BITS/self.const.bits_per_symbol())))\n",
    "        src   = blocks.vector_source_b(data, False)\n",
    "        mod   = digital.chunks_to_symbols_bc((self.const.points()), 1)\n",
    "        add   = blocks.add_vcc()\n",
    "\tdiff_enc = digital.diff_encoder_bb(2)\n",
    "\tdiff_dec = digital.diff_decoder_bb(2)\n",
    "\n",
    "\t#print(\"Gaussian amplitude: \", self.EbN0_to_noise_voltage(EbN0))\n",
    "\n",
    "        noise = analog.noise_source_c(analog.GR_GAUSSIAN,\n",
    "                                      self.EbN0_to_noise_voltage(EbN0),\n",
    "                                      RAND_SEED)\n",
    "        demod = digital.constellation_decoder_cb(self.const.base())\n",
    "        ber   = BitErrors(self.const.bits_per_symbol())\n",
    "        self.sink  = blocks.vector_sink_f()\n",
    "        self.connect(src, diff_enc, mod, add, demod, diff_dec, ber, self.sink)\n",
    "        self.connect(noise, (add, 1))\n",
    "        self.connect(src, (ber, 1))\n",
    "\n",
    "    def EbN0_to_noise_voltage(self, EbN0):\n",
    "        \"\"\" Converts Eb/N0 to a complex noise voltage (assuming unit symbol power) \"\"\"\n",
    "\t#print(\"BITS PER SYMBOL: \", self.const.bits_per_symbol())\n",
    "        return 1.0 / math.sqrt(self.const.bits_per_symbol() * 10**(float(EbN0)/10))"
   ]
  },
  {
   "cell_type": "code",
   "execution_count": 4,
   "metadata": {
    "jupyter": {
     "source_hidden": true
    }
   },
   "outputs": [],
   "source": [
    "def simulate_ber(EbN0):\n",
    "    \"\"\" All the work's done here: create flow graph, run, read out BER \"\"\"\n",
    "    print \"Eb/N0 = {} dB\".format(EbN0)\n",
    "    fg = BERAWGNSimu(EbN0)\n",
    "    fg.run()\n",
    "    res = numpy.sum(fg.sink.data())\n",
    "    print(\"BER: {}\\n\".format(res))\n",
    "    return res"
   ]
  },
  {
   "cell_type": "code",
   "execution_count": 5,
   "metadata": {},
   "outputs": [],
   "source": [
    "EbN0_min = 0\n",
    "EbN0_max = 10\n",
    "EbN0_range = range(EbN0_min, EbN0_max+1)\n",
    "#EbN0_range = [0.5*x for x in range(EbN0_min*2, (EbN0_max+1)*2)]\n",
    "ber_theory = [berawgn_DBPSK(float(x))      for x in EbN0_range]\n",
    "ber_theory2 = [Pb_Hard_Codes(Pb_DBPSK(from_dB(float(x) - 10 * math.log10(float(15)/float(7)))), 15, 2)  for x in EbN0_range]"
   ]
  },
  {
   "cell_type": "code",
   "execution_count": 8,
   "metadata": {},
   "outputs": [
    {
     "name": "stdout",
     "output_type": "stream",
     "text": [
      "Eb/N0 = 0 dB\n",
      "BER: 0.144998596457\n",
      "\n",
      "Eb/N0 = 1 dB\n",
      "BER: 0.106298330706\n",
      "\n",
      "Eb/N0 = 2 dB\n",
      "BER: 0.072280198583\n",
      "\n",
      "Eb/N0 = 3 dB\n",
      "BER: 0.0447519322915\n",
      "\n",
      "Eb/N0 = 4 dB\n",
      "BER: 0.0247475993747\n",
      "\n",
      "Eb/N0 = 5 dB\n",
      "BER: 0.0118202663762\n",
      "\n",
      "Eb/N0 = 6 dB\n",
      "BER: 0.0047895998905\n",
      "\n",
      "Eb/N0 = 7 dB\n",
      "BER: 0.0015454666252\n",
      "\n",
      "Eb/N0 = 8 dB\n",
      "BER: 0.000381599990192\n",
      "\n",
      "Eb/N0 = 9 dB\n",
      "BER: 7.00666642999e-05\n",
      "\n",
      "Eb/N0 = 10 dB\n",
      "BER: 8.86666643396e-06\n",
      "\n"
     ]
    }
   ],
   "source": [
    "ber_simu = [simulate_ber(x) for x in EbN0_range]"
   ]
  },
  {
   "cell_type": "code",
   "execution_count": null,
   "metadata": {},
   "outputs": [],
   "source": []
  },
  {
   "cell_type": "code",
   "execution_count": 11,
   "metadata": {
    "jupyter": {
     "source_hidden": true
    }
   },
   "outputs": [],
   "source": [
    "class BERAWGNSimu2(gr.top_block):\n",
    "    \" This contains the simulation flow graph \"\n",
    "    def __init__(self, EbN0):\n",
    "        gr.top_block.__init__(self)\n",
    "        self.const = digital.bpsk_constellation()\n",
    "        # Source is N_BITS bits, non-repeated\n",
    "\n",
    "        #print(\"BITS PER SYMBOL: \", self.const.bits_per_symbol())\n",
    "        #print(\"arity: \", self.const.arity())\n",
    "\n",
    "        data = map(int, numpy.random.randint(0, self.const.arity(), int(N_BITS/self.const.bits_per_symbol())))\n",
    "        src   = blocks.vector_source_b(data, False)\n",
    "        enc   = BCH_Encoder(15, 2)\n",
    "        mod   = digital.chunks_to_symbols_bc((self.const.points()), 1)\n",
    "        add   = blocks.add_vcc()\n",
    "        diff_enc = digital.diff_encoder_bb(2)\n",
    "        diff_dec = digital.diff_decoder_bb(2)\n",
    "\n",
    "        #print(\"Gaussian amplitude: \", self.EbN0_to_noise_voltage(EbN0))\n",
    "\n",
    "        noise = analog.noise_source_c(analog.GR_GAUSSIAN,\n",
    "                                      self.EbN0_to_noise_voltage(EbN0),\n",
    "                                      RAND_SEED)\n",
    "        demod = digital.constellation_decoder_cb(self.const.base())\n",
    "        dec   = BCH_Decoder(15, 2)\n",
    "        ber   = BitErrors(self.const.bits_per_symbol())\n",
    "        self.sink  = blocks.vector_sink_f()\n",
    "        self.connect(src, diff_enc, enc, mod, add, demod, dec, diff_dec, ber, self.sink)\n",
    "        self.connect(noise, (add, 1))\n",
    "        self.connect(src, (ber, 1))\n",
    "\n",
    "    def EbN0_to_noise_voltage(self, EbN0):\n",
    "        \"\"\" Converts Eb/N0 to a complex noise voltage (assuming unit symbol power) \"\"\"\n",
    "        #print(\"BITS PER SYMBOL: \", self.const.bits_per_symbol())\n",
    "        return 1.0 / math.sqrt(self.const.bits_per_symbol() * 10**(float(EbN0-10*math.log10(15.0/7.0))/10))"
   ]
  },
  {
   "cell_type": "code",
   "execution_count": 12,
   "metadata": {
    "jupyter": {
     "source_hidden": true
    }
   },
   "outputs": [],
   "source": [
    "def simulate_ber2(EbN0):\n",
    "    \"\"\" All the work's done here: create flow graph, run, read out BER \"\"\"\n",
    "    print \"Eb/N0 = {} dB\".format(EbN0)\n",
    "    fg = BERAWGNSimu2(EbN0)\n",
    "    fg.run()\n",
    "    res = numpy.sum(fg.sink.data())\n",
    "    print(\"BER: {}\\n\".format(res))\n",
    "    return res"
   ]
  },
  {
   "cell_type": "code",
   "execution_count": 15,
   "metadata": {
    "jupyter": {
     "source_hidden": true
    }
   },
   "outputs": [],
   "source": [
    "class BERAWGNSimu3(gr.top_block):\n",
    "    \" This contains the simulation flow graph \"\n",
    "    def __init__(self, EbN0):\n",
    "        gr.top_block.__init__(self)\n",
    "        self.const = digital.bpsk_constellation()\n",
    "        # Source is N_BITS bits, non-repeated\n",
    "\n",
    "        #print(\"BITS PER SYMBOL: \", self.const.bits_per_symbol())\n",
    "        #print(\"arity: \", self.const.arity())\n",
    "\n",
    "        data = map(int, numpy.random.randint(0, self.const.arity(), int(N_BITS/self.const.bits_per_symbol())))\n",
    "        src   = blocks.vector_source_b(data, False)\n",
    "        enc   = BCH_Encoder(15, 2)\n",
    "        mod   = digital.chunks_to_symbols_bc((self.const.points()), 1)\n",
    "        add   = blocks.add_vcc()\n",
    "        diff_enc = digital.diff_encoder_bb(2)\n",
    "        diff_enc2 = digital.diff_encoder_bb(2)\n",
    "        diff_dec = digital.diff_decoder_bb(2)\n",
    "        diff_dec2 = digital.diff_decoder_bb(2)\n",
    "\n",
    "        #print(\"Gaussian amplitude: \", self.EbN0_to_noise_voltage(EbN0))\n",
    "\n",
    "        noise = analog.noise_source_c(analog.GR_GAUSSIAN,\n",
    "                                      self.EbN0_to_noise_voltage(EbN0),\n",
    "                                      RAND_SEED)\n",
    "        demod = digital.constellation_decoder_cb(self.const.base())\n",
    "        dec   = BCH_Decoder(15, 2)\n",
    "        ber   = BitErrors(self.const.bits_per_symbol())\n",
    "        self.sink  = blocks.vector_sink_f()\n",
    "        self.connect(src, diff_enc, diff_enc2, enc, mod, add, demod, dec, diff_dec, diff_dec2, ber, self.sink)\n",
    "        self.connect(noise, (add, 1))\n",
    "        self.connect(src, (ber, 1))\n",
    "\n",
    "    def EbN0_to_noise_voltage(self, EbN0):\n",
    "        \"\"\" Converts Eb/N0 to a complex noise voltage (assuming unit symbol power) \"\"\"\n",
    "        #print(\"BITS PER SYMBOL: \", self.const.bits_per_symbol())\n",
    "        return 1.0 / math.sqrt(self.const.bits_per_symbol() * 10**(float(EbN0-10*math.log10(15.0/7.0))/10))"
   ]
  },
  {
   "cell_type": "code",
   "execution_count": 16,
   "metadata": {
    "jupyter": {
     "source_hidden": true
    }
   },
   "outputs": [],
   "source": [
    "def simulate_ber3(EbN0):\n",
    "    \"\"\" All the work's done here: create flow graph, run, read out BER \"\"\"\n",
    "    print \"Eb/N0 = {} dB\".format(EbN0)\n",
    "    fg = BERAWGNSimu3(EbN0)\n",
    "    fg.run()\n",
    "    res = numpy.sum(fg.sink.data())\n",
    "    print(\"BER: {}\\n\".format(res))\n",
    "    return res"
   ]
  },
  {
   "cell_type": "code",
   "execution_count": 21,
   "metadata": {
    "jupyter": {
     "source_hidden": true
    }
   },
   "outputs": [],
   "source": [
    "class BERAWGNSimu4(gr.top_block):\n",
    "    \" This contains the simulation flow graph \"\n",
    "    def __init__(self, EbN0):\n",
    "        gr.top_block.__init__(self)\n",
    "        self.const = digital.bpsk_constellation()\n",
    "        # Source is N_BITS bits, non-repeated\n",
    "\n",
    "        #print(\"BITS PER SYMBOL: \", self.const.bits_per_symbol())\n",
    "        #print(\"arity: \", self.const.arity())\n",
    "\n",
    "        data = map(int, numpy.random.randint(0, self.const.arity(), int(N_BITS/self.const.bits_per_symbol())))\n",
    "        src   = blocks.vector_source_b(data, False)\n",
    "        enc   = BCH_Encoder(15, 2)\n",
    "        mod   = digital.chunks_to_symbols_bc((self.const.points()), 1)\n",
    "        add   = blocks.add_vcc()\n",
    "        diff_enc = digital.diff_encoder_bb(2)\n",
    "        diff_enc2 = digital.diff_encoder_bb(2)\n",
    "        diff_enc3 = digital.diff_encoder_bb(2)\n",
    "        diff_dec = digital.diff_decoder_bb(2)\n",
    "        diff_dec2 = digital.diff_decoder_bb(2)\n",
    "        diff_dec3 = digital.diff_decoder_bb(2)\n",
    "\n",
    "        #print(\"Gaussian amplitude: \", self.EbN0_to_noise_voltage(EbN0))\n",
    "\n",
    "        noise = analog.noise_source_c(analog.GR_GAUSSIAN,\n",
    "                                      self.EbN0_to_noise_voltage(EbN0),\n",
    "                                      RAND_SEED)\n",
    "        demod = digital.constellation_decoder_cb(self.const.base())\n",
    "        dec   = BCH_Decoder(15, 2)\n",
    "        ber   = BitErrors(self.const.bits_per_symbol())\n",
    "        self.sink  = blocks.vector_sink_f()\n",
    "        self.connect(src, diff_enc, diff_enc2, diff_enc3, enc, mod, add, demod, dec, diff_dec, diff_dec2, diff_dec3, ber, self.sink)\n",
    "        self.connect(noise, (add, 1))\n",
    "        self.connect(src, (ber, 1))\n",
    "\n",
    "    def EbN0_to_noise_voltage(self, EbN0):\n",
    "        \"\"\" Converts Eb/N0 to a complex noise voltage (assuming unit symbol power) \"\"\"\n",
    "        #print(\"BITS PER SYMBOL: \", self.const.bits_per_symbol())\n",
    "        return 1.0 / math.sqrt(self.const.bits_per_symbol() * 10**(float(EbN0-10*math.log10(15.0/7.0))/10))"
   ]
  },
  {
   "cell_type": "code",
   "execution_count": 22,
   "metadata": {
    "jupyter": {
     "source_hidden": true
    }
   },
   "outputs": [],
   "source": [
    "def simulate_ber4(EbN0):\n",
    "    \"\"\" All the work's done here: create flow graph, run, read out BER \"\"\"\n",
    "    print \"Eb/N0 = {} dB\".format(EbN0)\n",
    "    fg = BERAWGNSimu4(EbN0)\n",
    "    fg.run()\n",
    "    res = numpy.sum(fg.sink.data())\n",
    "    print(\"BER: {}\\n\".format(res))\n",
    "    return res"
   ]
  },
  {
   "cell_type": "code",
   "execution_count": 13,
   "metadata": {
    "collapsed": true,
    "jupyter": {
     "outputs_hidden": true
    }
   },
   "outputs": [
    {
     "name": "stdout",
     "output_type": "stream",
     "text": [
      "Eb/N0 = 0 dB\n",
      "BER: 0.240687328158\n",
      "\n",
      "Eb/N0 = 1 dB\n",
      "BER: 0.180432395835\n",
      "\n",
      "Eb/N0 = 2 dB\n",
      "BER: 0.120906530297\n",
      "\n",
      "Eb/N0 = 3 dB\n",
      "BER: 0.0702411982202\n",
      "\n",
      "Eb/N0 = 4 dB\n",
      "BER: 0.0337967992018\n",
      "\n",
      "Eb/N0 = 5 dB\n",
      "BER: 0.0128949330283\n",
      "\n",
      "Eb/N0 = 6 dB\n",
      "BER: 0.00368499990873\n",
      "\n",
      "Eb/N0 = 7 dB\n",
      "BER: 0.000738466647022\n",
      "\n",
      "Eb/N0 = 8 dB\n",
      "BER: 9.43999968754e-05\n",
      "\n",
      "Eb/N0 = 9 dB\n",
      "BER: 7.13333314195e-06\n",
      "\n",
      "Eb/N0 = 10 dB\n",
      "BER: 6.66666643667e-07\n",
      "\n"
     ]
    }
   ],
   "source": [
    "ber_simu2  = [simulate_ber2(x) for x in EbN0_range]"
   ]
  },
  {
   "cell_type": "code",
   "execution_count": 17,
   "metadata": {
    "collapsed": true,
    "jupyter": {
     "outputs_hidden": true
    }
   },
   "outputs": [
    {
     "name": "stdout",
     "output_type": "stream",
     "text": [
      "Eb/N0 = 0 dB\n",
      "BER: 0.26385809388\n",
      "\n",
      "Eb/N0 = 1 dB\n",
      "BER: 0.200091794773\n",
      "\n",
      "Eb/N0 = 2 dB\n",
      "BER: 0.135840197006\n",
      "\n",
      "Eb/N0 = 3 dB\n",
      "BER: 0.0795364647056\n",
      "\n",
      "Eb/N0 = 4 dB\n",
      "BER: 0.0386475990599\n",
      "\n",
      "Eb/N0 = 5 dB\n",
      "BER: 0.0148534662912\n",
      "\n",
      "Eb/N0 = 6 dB\n",
      "BER: 0.00424393323192\n",
      "\n",
      "Eb/N0 = 7 dB\n",
      "BER: 0.000842666644644\n",
      "\n",
      "Eb/N0 = 8 dB\n",
      "BER: 0.000116999996159\n",
      "\n",
      "Eb/N0 = 9 dB\n",
      "BER: 7.93333303761e-06\n",
      "\n",
      "Eb/N0 = 10 dB\n",
      "BER: 7.33333308744e-07\n",
      "\n"
     ]
    }
   ],
   "source": [
    "ber_simu3  = [simulate_ber3(x) for x in EbN0_range]"
   ]
  },
  {
   "cell_type": "code",
   "execution_count": 23,
   "metadata": {
    "collapsed": true,
    "jupyter": {
     "outputs_hidden": true
    }
   },
   "outputs": [
    {
     "name": "stdout",
     "output_type": "stream",
     "text": [
      "Eb/N0 = 0 dB\n",
      "BER: 0.279784126324\n",
      "\n",
      "Eb/N0 = 1 dB\n",
      "BER: 0.21505266137\n",
      "\n",
      "Eb/N0 = 2 dB\n",
      "BER: 0.147639929841\n",
      "\n",
      "Eb/N0 = 3 dB\n",
      "BER: 0.0872941314592\n",
      "\n",
      "Eb/N0 = 4 dB\n",
      "BER: 0.042621599132\n",
      "\n",
      "Eb/N0 = 5 dB\n",
      "BER: 0.0163214662425\n",
      "\n",
      "Eb/N0 = 6 dB\n",
      "BER: 0.00474673321969\n",
      "\n",
      "Eb/N0 = 7 dB\n",
      "BER: 0.000924666642391\n",
      "\n",
      "Eb/N0 = 8 dB\n",
      "BER: 0.000130666662443\n",
      "\n",
      "Eb/N0 = 9 dB\n",
      "BER: 7.93333307314e-06\n",
      "\n",
      "Eb/N0 = 10 dB\n",
      "BER: 0.0\n",
      "\n"
     ]
    }
   ],
   "source": [
    "ber_simu4  = [simulate_ber4(x) for x in EbN0_range]"
   ]
  },
  {
   "cell_type": "code",
   "execution_count": null,
   "metadata": {},
   "outputs": [],
   "source": []
  },
  {
   "cell_type": "code",
   "execution_count": 26,
   "metadata": {
    "jupyter": {
     "source_hidden": true
    }
   },
   "outputs": [],
   "source": [
    "class BERAWGNSimu2A(gr.top_block):\n",
    "    \" This contains the simulation flow graph \"\n",
    "    def __init__(self, EbN0):\n",
    "        gr.top_block.__init__(self)\n",
    "        self.const = digital.bpsk_constellation()\n",
    "        # Source is N_BITS bits, non-repeated\n",
    "\n",
    "        #print(\"BITS PER SYMBOL: \", self.const.bits_per_symbol())\n",
    "        #print(\"arity: \", self.const.arity())\n",
    "\n",
    "        data = map(int, numpy.random.randint(0, self.const.arity(), int(N_BITS/self.const.bits_per_symbol())))\n",
    "        src   = blocks.vector_source_b(data, False)\n",
    "        enc   = BCH_Encoder(15, 2)\n",
    "        mod   = digital.chunks_to_symbols_bc((self.const.points()), 1)\n",
    "        add   = blocks.add_vcc()\n",
    "        diff_enc = digital.diff_encoder_bb(2)\n",
    "        diff_dec = digital.diff_decoder_bb(2)\n",
    "\n",
    "        #print(\"Gaussian amplitude: \", self.EbN0_to_noise_voltage(EbN0))\n",
    "\n",
    "        noise = analog.noise_source_c(analog.GR_GAUSSIAN,\n",
    "                                      self.EbN0_to_noise_voltage(EbN0),\n",
    "                                      RAND_SEED)\n",
    "        demod = digital.constellation_decoder_cb(self.const.base())\n",
    "        dec   = BCH_Decoder(15, 2)\n",
    "        ber   = BitErrors(self.const.bits_per_symbol())\n",
    "        self.sink  = blocks.vector_sink_f()\n",
    "        self.connect(src, enc, diff_enc, mod, add, demod, diff_dec, dec, ber, self.sink)\n",
    "        self.connect(noise, (add, 1))\n",
    "        self.connect(src, (ber, 1))\n",
    "\n",
    "    def EbN0_to_noise_voltage(self, EbN0):\n",
    "        \"\"\" Converts Eb/N0 to a complex noise voltage (assuming unit symbol power) \"\"\"\n",
    "        #print(\"BITS PER SYMBOL: \", self.const.bits_per_symbol())\n",
    "        return 1.0 / math.sqrt(self.const.bits_per_symbol() * 10**(float(EbN0-10*math.log10(15.0/7.0))/10))"
   ]
  },
  {
   "cell_type": "code",
   "execution_count": 27,
   "metadata": {
    "jupyter": {
     "source_hidden": true
    }
   },
   "outputs": [],
   "source": [
    "def simulate_ber2A(EbN0):\n",
    "    \"\"\" All the work's done here: create flow graph, run, read out BER \"\"\"\n",
    "    print \"Eb/N0 = {} dB\".format(EbN0)\n",
    "    fg = BERAWGNSimu2A(EbN0)\n",
    "    fg.run()\n",
    "    res = numpy.sum(fg.sink.data())\n",
    "    print(\"BER: {}\\n\".format(res))\n",
    "    return res"
   ]
  },
  {
   "cell_type": "code",
   "execution_count": 34,
   "metadata": {
    "jupyter": {
     "source_hidden": true
    }
   },
   "outputs": [],
   "source": [
    "class BERAWGNSimu3A(gr.top_block):\n",
    "    \" This contains the simulation flow graph \"\n",
    "    def __init__(self, EbN0):\n",
    "        gr.top_block.__init__(self)\n",
    "        self.const = digital.bpsk_constellation()\n",
    "        # Source is N_BITS bits, non-repeated\n",
    "\n",
    "        #print(\"BITS PER SYMBOL: \", self.const.bits_per_symbol())\n",
    "        #print(\"arity: \", self.const.arity())\n",
    "\n",
    "        data = map(int, numpy.random.randint(0, self.const.arity(), int(N_BITS/self.const.bits_per_symbol())))\n",
    "        src   = blocks.vector_source_b(data, False)\n",
    "        enc   = BCH_Encoder(15, 2)\n",
    "        mod   = digital.chunks_to_symbols_bc((self.const.points()), 1)\n",
    "        add   = blocks.add_vcc()\n",
    "        diff_enc = digital.diff_encoder_bb(2)\n",
    "        diff_enc2 = digital.diff_encoder_bb(2)\n",
    "        diff_dec = digital.diff_decoder_bb(2)\n",
    "        diff_dec2 = digital.diff_decoder_bb(2)\n",
    "\n",
    "        #print(\"Gaussian amplitude: \", self.EbN0_to_noise_voltage(EbN0))\n",
    "\n",
    "        noise = analog.noise_source_c(analog.GR_GAUSSIAN,\n",
    "                                      self.EbN0_to_noise_voltage(EbN0),\n",
    "                                      RAND_SEED)\n",
    "        demod = digital.constellation_decoder_cb(self.const.base())\n",
    "        dec   = BCH_Decoder(15, 2)\n",
    "        ber   = BitErrors(self.const.bits_per_symbol())\n",
    "        self.sink  = blocks.vector_sink_f()\n",
    "        self.connect(src, enc, diff_enc, diff_enc2, mod, add, demod, diff_dec2, diff_dec, dec, ber, self.sink)\n",
    "        self.connect(noise, (add, 1))\n",
    "        self.connect(src, (ber, 1))\n",
    "\n",
    "    def EbN0_to_noise_voltage(self, EbN0):\n",
    "        \"\"\" Converts Eb/N0 to a complex noise voltage (assuming unit symbol power) \"\"\"\n",
    "        #print(\"BITS PER SYMBOL: \", self.const.bits_per_symbol())\n",
    "        return 1.0 / math.sqrt(self.const.bits_per_symbol() * 10**(float(EbN0-10*math.log10(15.0/7.0))/10))"
   ]
  },
  {
   "cell_type": "code",
   "execution_count": 35,
   "metadata": {
    "jupyter": {
     "source_hidden": true
    }
   },
   "outputs": [],
   "source": [
    "def simulate_ber3A(EbN0):\n",
    "    \"\"\" All the work's done here: create flow graph, run, read out BER \"\"\"\n",
    "    print \"Eb/N0 = {} dB\".format(EbN0)\n",
    "    fg = BERAWGNSimu3A(EbN0)\n",
    "    fg.run()\n",
    "    res = numpy.sum(fg.sink.data())\n",
    "    print(\"BER: {}\\n\".format(res))\n",
    "    return res"
   ]
  },
  {
   "cell_type": "code",
   "execution_count": 36,
   "metadata": {},
   "outputs": [
    {
     "name": "stdout",
     "output_type": "stream",
     "text": [
      "Eb/N0 = 0 dB\n",
      "BER: 0.356604723609\n",
      "\n",
      "Eb/N0 = 1 dB\n",
      "BER: 0.307794992463\n",
      "\n",
      "Eb/N0 = 2 dB\n",
      "BER: 0.248849661148\n",
      "\n",
      "Eb/N0 = 3 dB\n",
      "BER: 0.183650062478\n",
      "\n",
      "Eb/N0 = 4 dB\n",
      "BER: 0.119740063703\n",
      "\n",
      "Eb/N0 = 5 dB\n",
      "BER: 0.0667394651682\n",
      "\n",
      "Eb/N0 = 6 dB\n",
      "BER: 0.0304286659011\n",
      "\n",
      "Eb/N0 = 7 dB\n",
      "BER: 0.0108886663875\n",
      "\n",
      "Eb/N0 = 8 dB\n",
      "BER: 0.00290609993408\n",
      "\n",
      "Eb/N0 = 9 dB\n",
      "BER: 0.000546099984092\n",
      "\n",
      "Eb/N0 = 10 dB\n",
      "BER: 6.8166664505e-05\n",
      "\n"
     ]
    }
   ],
   "source": [
    "ber_simu3A  = [simulate_ber3A(x) for x in EbN0_range]"
   ]
  },
  {
   "cell_type": "code",
   "execution_count": 41,
   "metadata": {
    "jupyter": {
     "source_hidden": true
    }
   },
   "outputs": [],
   "source": [
    "class BERAWGNSimu2C(gr.top_block):\n",
    "    \" This contains the simulation flow graph \"\n",
    "    def __init__(self, EbN0):\n",
    "        gr.top_block.__init__(self)\n",
    "        self.const = digital.bpsk_constellation()\n",
    "        # Source is N_BITS bits, non-repeated\n",
    "\n",
    "        #print(\"BITS PER SYMBOL: \", self.const.bits_per_symbol())\n",
    "        #print(\"arity: \", self.const.arity())\n",
    "\n",
    "        data = map(int, numpy.random.randint(0, self.const.arity(), int(N_BITS/self.const.bits_per_symbol())))\n",
    "        src   = blocks.vector_source_b(data, False)\n",
    "        enc   = BCH_Encoder(15, 2)\n",
    "        mod   = digital.chunks_to_symbols_bc((self.const.points()), 1)\n",
    "        add   = blocks.add_vcc()\n",
    "        diff_enc = digital.diff_encoder_bb(2)\n",
    "        diff_enc2 = digital.diff_encoder_bb(2)\n",
    "        diff_dec = digital.diff_decoder_bb(2)\n",
    "        diff_dec2 = digital.diff_decoder_bb(2)\n",
    "\n",
    "        #print(\"Gaussian amplitude: \", self.EbN0_to_noise_voltage(EbN0))\n",
    "\n",
    "        noise = analog.noise_source_c(analog.GR_GAUSSIAN,\n",
    "                                      self.EbN0_to_noise_voltage(EbN0),\n",
    "                                      RAND_SEED)\n",
    "        demod = digital.constellation_decoder_cb(self.const.base())\n",
    "        dec   = BCH_Decoder(15, 2)\n",
    "        ber   = BitErrors(self.const.bits_per_symbol())\n",
    "        self.sink  = blocks.vector_sink_f()\n",
    "        self.connect(src, diff_enc, enc, diff_enc2, mod, add, demod, diff_dec2, dec, diff_dec, ber, self.sink)\n",
    "        self.connect(noise, (add, 1))\n",
    "        self.connect(src, (ber, 1))\n",
    "\n",
    "    def EbN0_to_noise_voltage(self, EbN0):\n",
    "        \"\"\" Converts Eb/N0 to a complex noise voltage (assuming unit symbol power) \"\"\"\n",
    "        #print(\"BITS PER SYMBOL: \", self.const.bits_per_symbol())\n",
    "        return 1.0 / math.sqrt(self.const.bits_per_symbol() * 10**(float(EbN0-10*math.log10(15.0/7.0))/10))"
   ]
  },
  {
   "cell_type": "code",
   "execution_count": 43,
   "metadata": {
    "jupyter": {
     "source_hidden": true
    }
   },
   "outputs": [],
   "source": [
    "def simulate_ber2C(EbN0):\n",
    "    \"\"\" All the work's done here: create flow graph, run, read out BER \"\"\"\n",
    "    print \"Eb/N0 = {} dB\".format(EbN0)\n",
    "    fg = BERAWGNSimu2C(EbN0)\n",
    "    fg.run()\n",
    "    res = numpy.sum(fg.sink.data())\n",
    "    print(\"BER: {}\\n\".format(res))\n",
    "    return res"
   ]
  },
  {
   "cell_type": "code",
   "execution_count": 45,
   "metadata": {},
   "outputs": [
    {
     "name": "stdout",
     "output_type": "stream",
     "text": [
      "Eb/N0 = 0 dB\n",
      "BER: 0.363246558001\n",
      "\n",
      "Eb/N0 = 1 dB\n",
      "BER: 0.314498059452\n",
      "\n",
      "Eb/N0 = 2 dB\n",
      "BER: 0.254846994125\n",
      "\n",
      "Eb/N0 = 3 dB\n",
      "BER: 0.188536329253\n",
      "\n",
      "Eb/N0 = 4 dB\n",
      "BER: 0.123387330503\n",
      "\n",
      "Eb/N0 = 5 dB\n",
      "BER: 0.0689361982368\n",
      "\n",
      "Eb/N0 = 6 dB\n",
      "BER: 0.0314993992724\n",
      "\n",
      "Eb/N0 = 7 dB\n",
      "BER: 0.0112773997353\n",
      "\n",
      "Eb/N0 = 8 dB\n",
      "BER: 0.00300306659346\n",
      "\n",
      "Eb/N0 = 9 dB\n",
      "BER: 0.000566599986598\n",
      "\n",
      "Eb/N0 = 10 dB\n",
      "BER: 6.33999978206e-05\n",
      "\n"
     ]
    }
   ],
   "source": [
    "ber_simu2C  = [simulate_ber2C(x) for x in EbN0_range]"
   ]
  },
  {
   "cell_type": "code",
   "execution_count": null,
   "metadata": {},
   "outputs": [],
   "source": []
  },
  {
   "cell_type": "code",
   "execution_count": 54,
   "metadata": {},
   "outputs": [
    {
     "data": {
      "image/png": "[encoded data removed]",
      "text/plain": [
       "<matplotlib.figure.Figure at 0x7f6ae1716fd0>"
      ]
     },
     "metadata": {
      "needs_background": "light"
     },
     "output_type": "display_data"
    }
   ],
   "source": [
    "f = pylab.figure()\n",
    "s = f.add_subplot(1,1,1)\n",
    "# s.semilogy(EbN0_range, ber_theory, 'g-.', label=\"Theoretical DE-BPSK\")\n",
    "#s.semilogy(EbN0_range, ber_theory2, 'y-.', label=\"Theoretical DE-BPSK + BCH(15, 7, 2)\")\n",
    "s.semilogy(EbN0_range, ber_simu, 'b-*', label=\"DE-BPSK\")\n",
    "s.semilogy(EbN0_range, ber_simu2, 'r-o', label=\"DE-BPSK + BCH(15, 7, 2) (diff antes de BCH) (1 memory cell)\")\n",
    "s.semilogy(EbN0_range, ber_simu3, 'g-o', label=\"DE-BPSK + BCH(15, 7, 2) (diff antes de BCH) (2 memory cells)\")\n",
    "# s.semilogy(EbN0_range, ber_simu4, 'y-o', label=\"DE-BPSK + BCH(15, 7, 2) (diff antes de BCH) (3 memory cells)\")\n",
    "s.semilogy(EbN0_range, ber_simu2A, 'b--', label=\"DE-BPSK + BCH(15, 7, 2) (BCH antes de diff) (1 memory cell)\")\n",
    "s.semilogy(EbN0_range, ber_simu3A, 'r--', label=\"DE-BPSK + BCH(15, 7, 2) (BCH antes de diff) (2 memory cell)\")\n",
    "s.semilogy(EbN0_range, ber_simu2C, 'k-D', label=\"DE-BPSK + BCH(15, 7, 2) (diff antes e depois do BCH) (2 memory cell)\")\n",
    "\n",
    "\n",
    "s.set_title('BER Simulation - DE-BPSK')\n",
    "s.set_xlabel('Eb/N0 (dB)')\n",
    "s.set_ylabel('BER')\n",
    "s.legend()\n",
    "s.grid()\n",
    "# pylab.savefig(\"plot-no-legend.pdf\", dpi = 300)\n",
    "pylab.show()"
   ]
  },
  {
   "cell_type": "code",
   "execution_count": 47,
   "metadata": {},
   "outputs": [],
   "source": [
    "numpy.save(\"simu_de-bpsk-no-code\", ber_simu)\n",
    "numpy.save(\"simu_de-bpsk-bch-15-7-2-1cell-before-coding\", ber_simu2)\n",
    "numpy.save(\"simu_de-bpsk-bch-15-7-2-2cell-before-coding\", ber_simu3)\n",
    "numpy.save(\"simu_de-bpsk-bch-15-7-2-3cell-before-coding\", ber_simu4)\n",
    "numpy.save(\"simu_de-bpsk-bch-15-7-2-1cell-after-coding\", ber_simu2A)\n",
    "numpy.save(\"simu_de-bpsk-bch-15-7-2-2cell-after-coding\", ber_simu3A)\n",
    "numpy.save(\"simu_de-bpsk-bch-15-7-2-2cell-before-and-after-coding\", ber_simu2C)"
   ]
  },
  {
   "cell_type": "code",
   "execution_count": null,
   "metadata": {},
   "outputs": [],
   "source": []
  }
 ],
 "metadata": {
  "kernelspec": {
   "display_name": "Python 2",
   "language": "python",
   "name": "python2"
  },
  "language_info": {
   "codemirror_mode": {
    "name": "ipython",
    "version": 2
   },
   "file_extension": ".py",
   "mimetype": "text/x-python",
   "name": "python",
   "nbconvert_exporter": "python",
   "pygments_lexer": "ipython2",
   "version": "2.7.17"
  }
 },
 "nbformat": 4,
 "nbformat_minor": 4
}
