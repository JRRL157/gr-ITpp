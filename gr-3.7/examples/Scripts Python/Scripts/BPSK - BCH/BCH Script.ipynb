{
 "cells": [
  {
   "cell_type": "code",
   "execution_count": null,
   "metadata": {},
   "outputs": [],
   "source": [
    "%matplotlib inline\n",
    "import subprocess\n",
    "import time\n",
    "import cv2\n",
    "import os\n",
    "import matplotlib.pyplot as plt\n",
    "from import_me import *"
   ]
  },
  {
   "cell_type": "code",
   "execution_count": null,
   "metadata": {},
   "outputs": [],
   "source": [
    "with open(\"../BPSK - Sem Correlate/red_dot.bmp\", \"rb\") as f:\n",
    "    _ = f.read()\n",
    "orig = np.frombuffer(_, dtype = np.uint8)\n",
    "\n",
    "img_orig = orig[122:]\n",
    "img_orig = np.flipud(cv2.cvtColor(img_orig.reshape((256, 256, 3)), cv2.COLOR_BGR2RGB)).ravel()"
   ]
  },
  {
   "cell_type": "code",
   "execution_count": null,
   "metadata": {},
   "outputs": [],
   "source": [
    "header = orig[:122]"
   ]
  },
  {
   "cell_type": "code",
   "execution_count": null,
   "metadata": {},
   "outputs": [],
   "source": [
    "%%time\n",
    "lst_imgs = []\n",
    "for i in range(5):\n",
    "    x = 0.0\n",
    "    print(\"Simulando para Noise: \", x, \"Delay: \", i)\n",
    "    \n",
    "    process=subprocess.Popen([\"python2\", \"top_block.py\", \"--noise\", str(x), \"--delay\", str(i),\\\n",
    "                        \"--input_path\", \"../BPSK - Sem Correlate/red_dot.bmp\", \"--output_path\", \"output.data\"],\n",
    "                         stdin=subprocess.PIPE,\n",
    "                         stdout=subprocess.PIPE,\n",
    "                         stderr=subprocess.PIPE)\n",
    "\n",
    "\n",
    "    time.sleep(20)\n",
    "\n",
    "    # while os.stat(\"output.data\").st_size < os.stat(\"orig_pinguim.bmp\").st_size * 2:\n",
    "    #     pass\n",
    "\n",
    "    inputdata= \" \"\n",
    "    stdoutdata,stderrdata=process.communicate(input=inputdata)\n",
    "    \n",
    "    if os.stat(\"output.data\").st_size != os.stat(\"../BPSK - Sem Correlate/red_dot.bmp\").st_size * 2:\n",
    "        print(\"Não teve tempo suficiente para o valor: {}!!! ERRO!\".format(x))\n",
    "        break\n",
    "        \n",
    "    print(\"Fazendo Correlate...\")\n",
    "        \n",
    "    img = readOutput(\"output.data\", np.array([67, 255], dtype = np.uint8), header, (256, 256))\n",
    "    lst_imgs.append(img)\n",
    "    print(\"*--------------------------------------------------------------*\")\n",
    "#     print(\"*--------------------------------------------------------------*\")"
   ]
  },
  {
   "cell_type": "code",
   "execution_count": null,
   "metadata": {},
   "outputs": [],
   "source": [
    "for img in lst_imgs:\n",
    "    plt.imshow(img)\n",
    "    plt.show()"
   ]
  },
  {
   "cell_type": "code",
   "execution_count": null,
   "metadata": {},
   "outputs": [],
   "source": [
    "%%time\n",
    "lst_imgs2 = []\n",
    "for i in range(5):\n",
    "    x = 0.7\n",
    "    print(\"Simulando para Noise: \", x, \"Delay: \", i)\n",
    "    \n",
    "    process=subprocess.Popen([\"python2\", \"top_block.py\", \"--noise\", str(x), \"--delay\", str(i)],\n",
    "                         stdin=subprocess.PIPE,\n",
    "                         stdout=subprocess.PIPE,\n",
    "                         stderr=subprocess.PIPE)\n",
    "\n",
    "\n",
    "    time.sleep(20)\n",
    "\n",
    "    # while os.stat(\"output.data\").st_size < os.stat(\"orig_pinguim.bmp\").st_size * 2:\n",
    "    #     pass\n",
    "\n",
    "    inputdata= \" \"\n",
    "    stdoutdata,stderrdata=process.communicate(input=inputdata)\n",
    "    \n",
    "    if os.stat(\"output.data\").st_size != os.stat(\"../BPSK - Sem Correlate/red_dot.bmp\").st_size * 2:\n",
    "        print(\"Não teve tempo suficiente para o valor: {}!!! ERRO!\".format(x))\n",
    "        break\n",
    "        \n",
    "    print(\"Fazendo Correlate...\")\n",
    "        \n",
    "    img = readOutput(\"output.data\", np.array([67, 255], dtype = np.uint8), header, (256, 256))\n",
    "    lst_imgs2.append(img)\n",
    "    print(\"*--------------------------------------------------------------*\")\n",
    "#     print(\"*--------------------------------------------------------------*\")"
   ]
  },
  {
   "cell_type": "code",
   "execution_count": null,
   "metadata": {},
   "outputs": [],
   "source": [
    "for img in lst_imgs2:\n",
    "    plt.imshow(img)\n",
    "    plt.show()"
   ]
  },
  {
   "cell_type": "code",
   "execution_count": null,
   "metadata": {},
   "outputs": [],
   "source": []
  }
 ],
 "metadata": {
  "kernelspec": {
   "display_name": "Python 2",
   "language": "python",
   "name": "python2"
  },
  "language_info": {
   "codemirror_mode": {
    "name": "ipython",
    "version": 2
   },
   "file_extension": ".py",
   "mimetype": "text/x-python",
   "name": "python",
   "nbconvert_exporter": "python",
   "pygments_lexer": "ipython2",
   "version": "2.7.15rc1"
  }
 },
 "nbformat": 4,
 "nbformat_minor": 2
}
