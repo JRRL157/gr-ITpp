{
 "cells": [
  {
   "cell_type": "code",
   "execution_count": 1,
   "metadata": {},
   "outputs": [],
   "source": [
    "%matplotlib inline\n",
    "import numpy as np\n",
    "import matplotlib.pyplot as plt"
   ]
  },
  {
   "cell_type": "code",
   "execution_count": 2,
   "metadata": {},
   "outputs": [],
   "source": [
    "#np.random.seed(0)\n",
    "def BSC_bit(x, p):\n",
    "    if np.random.random() > (1-p):\n",
    "        if x == 1:\n",
    "            return 0\n",
    "        else:\n",
    "            return 1\n",
    "    return x"
   ]
  },
  {
   "cell_type": "code",
   "execution_count": 3,
   "metadata": {},
   "outputs": [],
   "source": [
    "#array = np.array([210, 31, 50, 0, 255, 80, 66, 67, 127, 50, 31, 72, 72], dtype = np.uint8)\n",
    "\n",
    "info = np.random.randint(0, 256, size = (10), dtype = np.uint8)\n",
    "preamble = np.array([0, 255], dtype = np.uint8)\n",
    "\n",
    "array = np.concatenate((preamble, info))\n",
    "array = np.roll(array, -len(array)//2)\n",
    "array = np.tile(array, 2000)\n",
    "\n",
    "array = np.unpackbits(array)\n",
    "array = np.array([BSC_bit(x, 0.05) for x in array], dtype = np.uint8)\n",
    "\n",
    "\n",
    "preamble = np.array([0, 255], dtype = np.uint8)\n",
    "preamble = np.unpackbits(preamble)"
   ]
  },
  {
   "cell_type": "code",
   "execution_count": null,
   "metadata": {},
   "outputs": [],
   "source": []
  },
  {
   "cell_type": "code",
   "execution_count": 4,
   "metadata": {},
   "outputs": [],
   "source": [
    "# %%time\n",
    "# M, M_shift = 0, 0\n",
    "# for i in range(len(array)):\n",
    "#     shifted = np.roll(array, -i)\n",
    "#     count = np.sum(np.equal(shifted[:len(preamble)], preamble))\n",
    "#     if count > M:\n",
    "#         M = count\n",
    "#         M_shift = i"
   ]
  },
  {
   "cell_type": "code",
   "execution_count": 5,
   "metadata": {},
   "outputs": [],
   "source": [
    "# M, M_shift"
   ]
  },
  {
   "cell_type": "code",
   "execution_count": 6,
   "metadata": {},
   "outputs": [],
   "source": [
    "###"
   ]
  },
  {
   "cell_type": "code",
   "execution_count": 7,
   "metadata": {},
   "outputs": [
    {
     "name": "stdout",
     "output_type": "stream",
     "text": [
      "8 48\n",
      "CPU times: user 4.09 ms, sys: 16 µs, total: 4.11 ms\n",
      "Wall time: 3.83 ms\n"
     ]
    }
   ],
   "source": [
    "%%time\n",
    "xcorr = np.correlate(array, preamble)\n",
    "\n",
    "print(np.max(xcorr), np.argmax(xcorr))"
   ]
  },
  {
   "cell_type": "code",
   "execution_count": 8,
   "metadata": {},
   "outputs": [],
   "source": [
    "#plt.stem(xcorr)"
   ]
  },
  {
   "cell_type": "code",
   "execution_count": 13,
   "metadata": {},
   "outputs": [],
   "source": [
    "from scipy.signal import find_peaks, find_peaks_cwt"
   ]
  },
  {
   "cell_type": "code",
   "execution_count": 24,
   "metadata": {},
   "outputs": [
    {
     "data": {
      "text/plain": [
       "array([ 3, 13, 16, 29, 32, 48, 61, 68, 83, 87])"
      ]
     },
     "execution_count": 24,
     "metadata": {},
     "output_type": "execute_result"
    }
   ],
   "source": [
    "find_peaks(xcorr)[0][:10]"
   ]
  },
  {
   "cell_type": "code",
   "execution_count": null,
   "metadata": {},
   "outputs": [],
   "source": []
  }
 ],
 "metadata": {
  "kernelspec": {
   "display_name": "Python 3",
   "language": "python",
   "name": "python3"
  },
  "language_info": {
   "codemirror_mode": {
    "name": "ipython",
    "version": 3
   },
   "file_extension": ".py",
   "mimetype": "text/x-python",
   "name": "python",
   "nbconvert_exporter": "python",
   "pygments_lexer": "ipython3",
   "version": "3.6.7"
  }
 },
 "nbformat": 4,
 "nbformat_minor": 2
}
