{
 "cells": [
  {
   "cell_type": "code",
   "execution_count": null,
   "metadata": {},
   "outputs": [],
   "source": [
    "%matplotlib inline\n",
    "import subprocess\n",
    "import time\n",
    "import cv2\n",
    "import os\n",
    "import matplotlib.pyplot as plt\n",
    "from import_me import *"
   ]
  },
  {
   "cell_type": "code",
   "execution_count": null,
   "metadata": {},
   "outputs": [],
   "source": [
    "with open(\"../11-04-2019 RTL/red_dot.bmp\", \"rb\")as f:\n",
    "    _ = f.read()\n",
    "orig = np.frombuffer(_, dtype = np.uint8)\n",
    "\n",
    "header = orig[:122]\n",
    "#preamble = np.unpackbits(preamble)"
   ]
  },
  {
   "cell_type": "code",
   "execution_count": null,
   "metadata": {},
   "outputs": [],
   "source": [
    "# se não tiver usado o código"
   ]
  },
  {
   "cell_type": "code",
   "execution_count": null,
   "metadata": {},
   "outputs": [],
   "source": [
    "%%time\n",
    "img_18db_S, rcv_array = readOutput(\"18dB_semBCH.data\", np.array([67 + 0, 255], dtype = np.uint8), header, (256, 256))\n",
    "plt.imshow(img_18db_S)"
   ]
  },
  {
   "cell_type": "code",
   "execution_count": null,
   "metadata": {},
   "outputs": [],
   "source": []
  },
  {
   "cell_type": "code",
   "execution_count": null,
   "metadata": {},
   "outputs": [],
   "source": [
    "%%time\n",
    "for i in range(0, 20, 2):\n",
    "#     i = 0\n",
    "    print(f\"Script para delay: {i}\")\n",
    "    process=subprocess.Popen([\"python2\", \"BCH_Recoder.py\", \"--delay\", str(i)],\n",
    "                             stdin=subprocess.PIPE,\n",
    "                             stdout=subprocess.PIPE,\n",
    "                             stderr=subprocess.PIPE)\n",
    "\n",
    "\n",
    "    time.sleep(10)\n",
    "\n",
    "    inputdata= b\" \"\n",
    "    stdoutdata,stderrdata=process.communicate(input=inputdata)\n",
    "    \n",
    "    print(f\"Imagem para delay {i}\")\n",
    "    img, rcv_array = readOutput(\"output2.data\", np.array([67 + 0, 255], dtype = np.uint8), header, (256, 256))\n",
    "    plt.imshow(img)\n",
    "    plt.show()\n",
    "    print(\"*\" * 20)"
   ]
  },
  {
   "cell_type": "code",
   "execution_count": null,
   "metadata": {},
   "outputs": [],
   "source": []
  },
  {
   "cell_type": "code",
   "execution_count": null,
   "metadata": {},
   "outputs": [],
   "source": []
  },
  {
   "cell_type": "code",
   "execution_count": null,
   "metadata": {},
   "outputs": [],
   "source": [
    "%%time\n",
    "i = 12\n",
    "\n",
    "\n",
    "process=subprocess.Popen([\"python2\", \"BCH_Recoder.py\", \"--delay\", str(i)],\n",
    "                             stdin=subprocess.PIPE,\n",
    "                             stdout=subprocess.PIPE,\n",
    "                             stderr=subprocess.PIPE)\n",
    "\n",
    "\n",
    "time.sleep(10)\n",
    "\n",
    "inputdata= b\" \"\n",
    "stdoutdata,stderrdata=process.communicate(input=inputdata)\n",
    "\n",
    "img, rcv_array = readOutput(\"output2.data\", np.array([67 + 0, 255], dtype = np.uint8), header, (256, 256))\n",
    "print(i)\n",
    "plt.imshow(img)\n",
    "plt.show()"
   ]
  },
  {
   "cell_type": "code",
   "execution_count": null,
   "metadata": {},
   "outputs": [],
   "source": []
  },
  {
   "cell_type": "code",
   "execution_count": null,
   "metadata": {},
   "outputs": [],
   "source": []
  },
  {
   "cell_type": "code",
   "execution_count": null,
   "metadata": {},
   "outputs": [],
   "source": [
    "fig, axis = plt.subplots(1, 2, figsize = (14, 6))\n",
    "[ax.set_axis_off() for ax in axis]\n",
    "\n",
    "fig.suptitle('18dB - 16 Maio 2019')\n",
    "axis[0].title.set_text(\"Sem BCH(15, 7)\")\n",
    "axis[1].title.set_text(\"Com BCH(15, 7)\")\n",
    "axis[0].imshow(img_18db_S)\n",
    "axis[1].imshow(img)"
   ]
  },
  {
   "cell_type": "code",
   "execution_count": null,
   "metadata": {},
   "outputs": [],
   "source": []
  }
 ],
 "metadata": {
  "kernelspec": {
   "display_name": "Python 3",
   "language": "python",
   "name": "python3"
  },
  "language_info": {
   "codemirror_mode": {
    "name": "ipython",
    "version": 3
   },
   "file_extension": ".py",
   "mimetype": "text/x-python",
   "name": "python",
   "nbconvert_exporter": "python",
   "pygments_lexer": "ipython3",
   "version": "3.6.7"
  }
 },
 "nbformat": 4,
 "nbformat_minor": 2
}
